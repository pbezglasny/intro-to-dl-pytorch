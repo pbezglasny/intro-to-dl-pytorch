{
 "cells": [
  {
   "cell_type": "markdown",
   "metadata": {
    "id": "1Oiu5Fabu3ue"
   },
   "source": [
    "# Text Generation\n",
    "## Character-Level LSTM in PyTorch"
   ]
  },
  {
   "cell_type": "markdown",
   "metadata": {
    "id": "1W8R8WgZceEk"
   },
   "source": [
    "In this assignment, you will train a Reccurent Neural Network to generate a text one character at the time. The task is divided into steps for simpler navigation.\n",
    "\n",
    "Let's start!"
   ]
  },
  {
   "cell_type": "code",
   "execution_count": 1,
   "metadata": {
    "id": "sqUOE2flceEl"
   },
   "outputs": [],
   "source": [
    "import numpy as np\n",
    "import torch\n",
    "from torch import nn\n",
    "import torch.nn.functional as F"
   ]
  },
  {
   "cell_type": "markdown",
   "metadata": {
    "id": "-JY1C-COvVRb"
   },
   "source": [
    "##Step 0. Data"
   ]
  },
  {
   "cell_type": "markdown",
   "metadata": {
    "id": "_wHfCDyzceEl"
   },
   "source": [
    "As training data, we will use \"War and Peace\" by Leo Tolstoy. The book in plain text format can be downloaded from [Project Gutenberg website ](https://www.gutenberg.org/ebooks/2600).\n",
    "\n",
    "Download and load data."
   ]
  },
  {
   "cell_type": "code",
   "execution_count": 2,
   "metadata": {
    "id": "CnskyXUl4K3I"
   },
   "outputs": [],
   "source": [
    "# open text file and read in data as `text`\n",
    "with open('2600-0.txt', 'r') as f:\n",
    "    text = f.read()"
   ]
  },
  {
   "cell_type": "markdown",
   "metadata": {
    "id": "Jp1Ljc4mceEl"
   },
   "source": [
    "Let's view the first 100 symbols:"
   ]
  },
  {
   "cell_type": "code",
   "execution_count": 3,
   "metadata": {
    "colab": {
     "base_uri": "https://localhost:8080/",
     "height": 35
    },
    "id": "NUb_mCJS5W5i",
    "outputId": "73797486-20b2-4031-992f-5fb728db201a"
   },
   "outputs": [
    {
     "data": {
      "text/plain": [
       "'\\ufeffThe Project Gutenberg eBook of War and Peace, by Leo Tolstoy\\n\\nThis eBook is for the use of anyone a'"
      ]
     },
     "execution_count": 3,
     "metadata": {},
     "output_type": "execute_result"
    }
   ],
   "source": [
    "text[:100]"
   ]
  },
  {
   "cell_type": "markdown",
   "metadata": {
    "id": "O4TwJP8f5eOt"
   },
   "source": [
    "The book starts at `7277`:"
   ]
  },
  {
   "cell_type": "code",
   "execution_count": 4,
   "metadata": {
    "colab": {
     "base_uri": "https://localhost:8080/",
     "height": 52
    },
    "id": "7VctmLQfceEl",
    "outputId": "5db9958a-05c7-4625-d072-42444692360c"
   },
   "outputs": [
    {
     "data": {
      "text/plain": [
       "'TER II\\n\\n    CHAPTER III\\n\\n    CHAPTER IV\\n\\n    CHAPTER V\\n\\n    CHAPTER VI\\n\\n    CHAPTER VII\\n\\n    CHAPTER VIII\\n\\n    CHAPTER IX\\n\\n    CHAPTER X\\n\\n    CHAPTER XI\\n\\n    CHAPTER XII\\n\\n\\n\\n\\n\\n\\n\\n\\n\\n\\nBOOK ONE: 1805\\n\\n\\n\\n\\n\\nCHAPTER I\\n\\n“Well, Princ'"
      ]
     },
     "execution_count": 4,
     "metadata": {},
     "output_type": "execute_result"
    }
   ],
   "source": [
    "text[7277:7500]"
   ]
  },
  {
   "cell_type": "markdown",
   "metadata": {
    "id": "6iG2vAfmwhWN"
   },
   "source": [
    "##Step 1. Tokenization (15 points)"
   ]
  },
  {
   "cell_type": "markdown",
   "metadata": {
    "id": "4iC21bopceEl"
   },
   "source": [
    "Now let's create dictionaries for converting characters to integers and vice versa. This makes it easier to use symbols as input on the neural network."
   ]
  },
  {
   "cell_type": "code",
   "execution_count": 5,
   "metadata": {
    "id": "tYVlmnxLceEl"
   },
   "outputs": [],
   "source": [
    "# Create two dictionaries:\n",
    "# int2char -- maps integers to characters\n",
    "# char2int -- maps characters to unique integers\n",
    "\n",
    "## YOUR CODE HERE\n",
    "unique_chars=list(set(text))\n",
    "char2int={c:i for i,c in enumerate(unique_chars)}\n",
    "int2char={i:c for c,i in char2int.items()}\n",
    "\n",
    "# encode the text\n",
    "encoded = np.array([char2int[ch] for ch in text])"
   ]
  },
  {
   "cell_type": "markdown",
   "metadata": {
    "id": "oJIzwzSwceEl"
   },
   "source": [
    "Let's see how the encoding of characters into integers looks like"
   ]
  },
  {
   "cell_type": "code",
   "execution_count": 6,
   "metadata": {
    "colab": {
     "base_uri": "https://localhost:8080/"
    },
    "id": "WK1MYr_9ceEl",
    "outputId": "3a1bdf92-49f7-4a28-d0ae-2d7ba7013512"
   },
   "outputs": [
    {
     "data": {
      "text/plain": [
       "array([ 29,   7,   4,  12,  68,  77,   0,  81,  60,  12,  98,  13,  68,\n",
       "        22,  48,  13,  12,  49,  80,  12,   0,  35,  68,  12, 107,  81,\n",
       "        81,  86,  68,  81,  39,  68,  20,  59,   0,  68,  59,  49,  78,\n",
       "        68,  77,  12,  59,  98,  12, 106,  68,  80,  16,  68,  82,  12,\n",
       "        81,  68,   7,  81,  88,  72,  13,  81,  16,  84,  84,   7,   4,\n",
       "        99,  72,  68,  12, 107,  81,  81,  86,  68,  99,  72,  68,  39,\n",
       "        81,   0,  68,  13,   4,  12,  68,  48,  72,  12,  68,  81,  39,\n",
       "        68,  59,  49,  16,  81,  49,  12,  68,  59])"
      ]
     },
     "execution_count": 6,
     "metadata": {},
     "output_type": "execute_result"
    }
   ],
   "source": [
    "encoded[:100]"
   ]
  },
  {
   "cell_type": "markdown",
   "metadata": {
    "id": "VEzrUe5Qyjz8"
   },
   "source": [
    "##Step 2. One-hot encoding (15 points)"
   ]
  },
  {
   "cell_type": "markdown",
   "metadata": {
    "id": "azltQy-gceEl"
   },
   "source": [
    "LSTM expects one-hot encoded input, which means that each character is converted to an integer (via our created dictionary) and then converted to a vector, where a value 1 will be only on a corresponding position and the rest of the vector will be filled with zeros.\n",
    "\n",
    "Implement a function that does this kind of coding.\n"
   ]
  },
  {
   "cell_type": "code",
   "execution_count": 7,
   "metadata": {
    "id": "OnahALhiceEl"
   },
   "outputs": [],
   "source": [
    "def one_hot_encode(arr, n_labels):\n",
    "    \n",
    "    # arr - array of integers\n",
    "    # n_labels - number of labels (the size of a one-hot-encoded vector)\n",
    "\n",
    "    ## YOUR CODE HERE\n",
    "    \n",
    "    r,c=arr.shape\n",
    "    one_hot=np.zeros((r,c,n_labels))\n",
    "    for row in range(len(arr)):\n",
    "        for col in range(len(arr[row])):\n",
    "            one_hot[row][col][arr[row][col]]=1\n",
    "    \n",
    "    return one_hot"
   ]
  },
  {
   "cell_type": "code",
   "execution_count": 8,
   "metadata": {
    "colab": {
     "base_uri": "https://localhost:8080/"
    },
    "id": "L3lTdLKfceEl",
    "outputId": "ee6a6534-e772-452e-e8c6-19b945a39f56"
   },
   "outputs": [
    {
     "name": "stdout",
     "output_type": "stream",
     "text": [
      "[[[0. 0. 0. 0. 0. 0. 0. 1.]\n",
      "  [0. 0. 1. 0. 0. 0. 0. 0.]\n",
      "  [0. 0. 0. 0. 0. 1. 0. 0.]]]\n"
     ]
    }
   ],
   "source": [
    "# check that the function works correctly\n",
    "test_indx = np.array([[7, 2, 5]])\n",
    "one_hot = one_hot_encode(test_indx, 8)\n",
    "\n",
    "print(one_hot)"
   ]
  },
  {
   "cell_type": "markdown",
   "metadata": {
    "id": "G7qAGC8R0lF1"
   },
   "source": [
    "The output must be\n",
    "\n",
    "```\n",
    "[[[0. 0. 0. 0. 0. 0. 0. 1.]\n",
    "  [0. 0. 1. 0. 0. 0. 0. 0.]\n",
    "  [0. 0. 0. 0. 0. 1. 0. 0.]]]\n",
    "```"
   ]
  },
  {
   "cell_type": "markdown",
   "metadata": {
    "id": "_Qxw5Dg41HAO"
   },
   "source": [
    "##Step 3. Mini-batches (20 points)"
   ]
  },
  {
   "cell_type": "markdown",
   "metadata": {
    "id": "50zKx6pM43RB"
   },
   "source": [
    "To train the neural network, we will organize mini-batches as follows: divide the entire input sequence 'arr' by the desired number of subsequences (parameter `batch_size`), and send a sequence of length `seq_length` to the input of the network."
   ]
  },
  {
   "cell_type": "markdown",
   "metadata": {
    "id": "9YyL91CuceEl"
   },
   "source": [
    "<img src=\"https://github.com/udacity/deep-learning-v2-pytorch/blob/master/recurrent-neural-networks/char-rnn/assets/sequence_batching@1x.png?raw=1\" width=500px>\n"
   ]
  },
  {
   "cell_type": "markdown",
   "metadata": {
    "id": "xzTSxOr37JyR"
   },
   "source": [
    "### How to create mini-batches\n",
    "\n",
    "\n",
    "1.   Find the total number of batches `n_batches` that fit the text.\n",
    "2.   Discard all unnecessary text that does not fit into full batches.\n",
    "3.   Split text into `n_batches` batches'.\n",
    "4.   Get `x's` and `y`'s for a batch. Therefore, `y` is a version of `x` shifted by 1.\n",
    "\n"
   ]
  },
  {
   "cell_type": "code",
   "execution_count": 9,
   "metadata": {
    "id": "8vmDKLiOceEl"
   },
   "outputs": [],
   "source": [
    "def get_batches(arr, batch_size, seq_length):\n",
    "    # Create a generator that returns batches of size batch_size x seq_length\n",
    "    \n",
    "    # print(arr.shape)\n",
    "    batch_size_total = batch_size * seq_length\n",
    "    ## Get the number of batches we can make\n",
    "    n_batches = len(arr)//batch_size_total## YOUR CODE HERE\n",
    "    \n",
    "    ## Keep only enough characters to make full batches\n",
    "    arr = arr[:batch_size_total*n_batches]## YOUR CODE HERE\n",
    "    \n",
    "    ## Reshape into batch_size rows\n",
    "    arr = arr.reshape(batch_size, -1) ## YOUR CODE HERE\n",
    "    # arr=np.hstack((arr, arr[:,0].reshape(batch_size, 1)))\n",
    "    \n",
    "    ## Iterate over the batches using a window of size seq_length\n",
    "    for n in range(0, arr.shape[1], seq_length):\n",
    "        x = arr[:,n:n+seq_length]\n",
    "        # The targets, shifted by one\n",
    "        y = np.zeros_like(x)\n",
    "        try:\n",
    "            y[:, :-1], y[:, -1] = x[:, 1:], arr[:, n+seq_length]\n",
    "        except IndexError:\n",
    "            y[:, :-1], y[:, -1] = x[:, 1:], arr[:, 0]\n",
    "        yield x, y"
   ]
  },
  {
   "cell_type": "markdown",
   "metadata": {
    "id": "s9uKOvbqceEl"
   },
   "source": [
    "Let's check how our function works."
   ]
  },
  {
   "cell_type": "code",
   "execution_count": 10,
   "metadata": {
    "id": "qtKlLXi1ceEl"
   },
   "outputs": [],
   "source": [
    "batches = get_batches(encoded, 4, 30)\n",
    "x, y = next(batches)"
   ]
  },
  {
   "cell_type": "code",
   "execution_count": 11,
   "metadata": {
    "colab": {
     "base_uri": "https://localhost:8080/"
    },
    "id": "Rg5MUTqqceEl",
    "outputId": "ed16bb01-29a8-4370-a2be-a87f26077e91"
   },
   "outputs": [
    {
     "name": "stdout",
     "output_type": "stream",
     "text": [
      "x\n",
      " [[29  7  4 12 68 77  0 81 60 12]\n",
      " [ 0 26 72 84  4 12 59 88 13  4]\n",
      " [80 12  0 99 49 35 68  4 99 72]\n",
      " [59 49 78 88 12 68 74 99 13  4]]\n",
      "\n",
      "y\n",
      " [[ 7  4 12 68 77  0 81 60 12 98]\n",
      " [26 72 84  4 12 59 88 13  4 68]\n",
      " [12  0 99 49 35 68  4 99 72 68]\n",
      " [49 78 88 12 68 74 99 13  4 68]]\n"
     ]
    }
   ],
   "source": [
    "# printing out the first 10 items in a sequence\n",
    "print('x\\n', x[:10, :10])\n",
    "print('\\ny\\n', y[:10, :10])"
   ]
  },
  {
   "cell_type": "markdown",
   "metadata": {
    "id": "R_qHIAEIceEl"
   },
   "source": [
    "If you've implemented get_batches correctly, the result should look something like this (exact numbers may vary):\n",
    "```\n",
    "x\n",
    " [[ 48  94  12 110  32  96 107  34  18 106]\n",
    " [ 96  78   1  69  32  34  18  34  27   3]\n",
    " [  3  96   0  18  96  86  18 100  34  96]\n",
    " [ 32  96 110  42 101  96   0  18  19  96]]\n",
    "\n",
    "y\n",
    " [[ 94  12 110  32  96 107  34  18 106  32]\n",
    " [ 78   1  69  32  34  18  34  27   3  94]\n",
    " [ 96   0  18  96  86  18 100  34  96   1]\n",
    " [ 96 110  42 101  96   0  18  19  96   3]]\n",
    " ```\n",
    "Make sure the data is shifted one step for `y`."
   ]
  },
  {
   "cell_type": "markdown",
   "metadata": {
    "id": "tholjONVAJUa"
   },
   "source": [
    "##Step 4. Defining the network (40 points)"
   ]
  },
  {
   "cell_type": "markdown",
   "metadata": {
    "id": "E7s5eRaoceEl"
   },
   "source": [
    "### Model Architecture\n",
    "\n",
    "The proposed architecture is as follows:\n",
    "\n",
    "* Define an [LSTM layer](https://pytorch.org/docs/stable/generated/torch.nn.LSTM.html#torch.nn.LSTM) with `dropout=drop_prob` and `batch_first=True` (since we use batches)\n",
    "* Define a [Dropout layer](https://pytorch.org/docs/stable/generated/torch.nn.Dropout.html#torch.nn.Dropout) with `drop_prob`.\n",
    "* Define a [Linear layer](https://pytorch.org/docs/stable/generated/torch.nn.Linear.html#torch.nn.Linear) with `in_features=n_hidden` and `out_features` equals to number of characters."
   ]
  },
  {
   "cell_type": "code",
   "execution_count": 12,
   "metadata": {
    "colab": {
     "base_uri": "https://localhost:8080/"
    },
    "id": "HlTnDntHceEl",
    "outputId": "67fed249-72c3-42e6-c363-95b6e077171c"
   },
   "outputs": [
    {
     "name": "stdout",
     "output_type": "stream",
     "text": [
      "Training on GPU\n"
     ]
    }
   ],
   "source": [
    "# check if GPU is available\n",
    "train_on_gpu = torch.cuda.is_available()\n",
    "if(train_on_gpu):\n",
    "    print('Training on GPU')\n",
    "else: \n",
    "    print('No GPU available, training on CPU; consider making n_epochs very small.')"
   ]
  },
  {
   "cell_type": "code",
   "execution_count": 13,
   "metadata": {
    "id": "lg-SvaGhceEl"
   },
   "outputs": [],
   "source": [
    "class CharRNN(nn.Module):\n",
    "    \n",
    "    def __init__(self, tokens, n_hidden=256, n_layers=2,\n",
    "                               drop_prob=0.5, lr=0.001):\n",
    "        super().__init__()\n",
    "        self.drop_prob = drop_prob\n",
    "        self.n_layers = n_layers\n",
    "        self.n_hidden = n_hidden\n",
    "        self.lr = lr\n",
    "        \n",
    "        # creating character dictionaries\n",
    "        self.chars = tokens\n",
    "        self.int2char = dict(enumerate(self.chars))\n",
    "        self.char2int = {ch: ii for ii, ch in self.int2char.items()}\n",
    "        \n",
    "        # Define the LSTM layer\n",
    "        ## YOUR CODE HERE\n",
    "        self.lstm=nn.LSTM(input_size=len(self.chars),hidden_size=n_hidden, num_layers=n_layers, dropout=drop_prob, batch_first=True)\n",
    "\n",
    "        # Define a dropout layer\n",
    "        ## YOUR CODE HERE\n",
    "        self.dropout=nn.Dropout(p=drop_prob)\n",
    "\n",
    "        # Define the final, fully-connected output layer\n",
    "        ## YOUR CODE HERE\n",
    "        self.linear=nn.Linear(in_features=n_hidden, out_features=len(self.chars))\n",
    "      \n",
    "    \n",
    "    def forward(self, x, hidden):\n",
    "        ''' Forward pass through the network. \n",
    "            These inputs are x, and the hidden/cell state `hidden`. '''\n",
    "                \n",
    "        # Get the outputs and the new hidden state from the lstm\n",
    "        ## YOUR CODE HERE\n",
    "        raw_out, hidden=self.lstm(x.float(), hidden)\n",
    "\n",
    "        # Pass through a dropout layer\n",
    "        ## YOUR CODE HERE\n",
    "        out=self.dropout(raw_out)\n",
    "\n",
    "        # Stack up LSTM outputs using view\n",
    "        # you may need to use contiguous to reshape the output\n",
    "        ## YOUR CODE HERE\n",
    "        out=out.contiguous().view(-1, self.n_hidden)\n",
    "\n",
    "        # Put x through the fully-connected layer\n",
    "        ## YOUR CODE HERE\n",
    "        out=self.linear(out)\n",
    "\n",
    "        # return the final output and the hidden state\n",
    "        return out, hidden\n",
    "    \n",
    "    \n",
    "    def init_hidden(self, batch_size):\n",
    "        ''' Initializes hidden state '''\n",
    "        # Create two new tensors with sizes n_layers x batch_size x n_hidden,\n",
    "        # initialized to zero, for hidden state and cell state of LSTM\n",
    "        weight = next(self.parameters()).data\n",
    "        \n",
    "        if (train_on_gpu):\n",
    "            hidden = (weight.new(self.n_layers, batch_size, self.n_hidden).zero_().cuda(),\n",
    "                  weight.new(self.n_layers, batch_size, self.n_hidden).zero_().cuda())\n",
    "        else:\n",
    "            hidden = (weight.new(self.n_layers, batch_size, self.n_hidden).zero_(),\n",
    "                      weight.new(self.n_layers, batch_size, self.n_hidden).zero_())\n",
    "        \n",
    "        return hidden\n",
    "        "
   ]
  },
  {
   "cell_type": "markdown",
   "metadata": {
    "id": "VPX7bf08EipB"
   },
   "source": [
    "##Step 5. Train the model (10 points)"
   ]
  },
  {
   "cell_type": "markdown",
   "metadata": {
    "id": "zBgcPj1mGOZN"
   },
   "source": [
    "We use Cross Entropy as a loss function, Adam as optimizer, and [`clip_grad_norm_`](https://pytorch.org/docs/stable/_modules/torch/nn/utils/clip_grad.html) to get rid of the gradient explosion."
   ]
  },
  {
   "cell_type": "code",
   "execution_count": 14,
   "metadata": {
    "id": "lv8VkRI0ceEl"
   },
   "outputs": [],
   "source": [
    "def train(net, data, epochs=10, batch_size=10, seq_length=50, lr=0.001, clip=5, val_frac=0.1, print_every=10):\n",
    "    ''' Training a network \n",
    "    \n",
    "        Arguments\n",
    "        ---------\n",
    "        lr: learning rate\n",
    "        clip: gradient clipping\n",
    "        val_frac: Fraction of data to hold out for validation\n",
    "        print_every: Number of steps for printing training and validation loss\n",
    "    \n",
    "    '''\n",
    "    net.train()\n",
    "    \n",
    "    opt = torch.optim.Adam(net.parameters(), lr=lr)\n",
    "    criterion = nn.CrossEntropyLoss()\n",
    "    \n",
    "    # create training and validation data\n",
    "    val_idx = int(len(data)*(1-val_frac))\n",
    "    data, val_data = data[:val_idx], data[val_idx:]\n",
    "    \n",
    "    if(train_on_gpu):\n",
    "        net.cuda()\n",
    "    \n",
    "    counter = 0\n",
    "    n_chars = len(net.chars)\n",
    "    for e in range(epochs):\n",
    "        # initialize hidden state\n",
    "        h = net.init_hidden(batch_size)\n",
    "        \n",
    "        for x, y in get_batches(data, batch_size, seq_length):\n",
    "            counter += 1\n",
    "            \n",
    "            # One-hot encode our data and make them Torch tensors\n",
    "            x = one_hot_encode(x, n_chars)\n",
    "            inputs, targets = torch.from_numpy(x), torch.from_numpy(y)\n",
    "            \n",
    "            if(train_on_gpu):\n",
    "                inputs, targets = inputs.cuda(), targets.cuda()\n",
    "\n",
    "            # Creating new variables for the hidden state, otherwise\n",
    "            # we'd backprop through the entire training history\n",
    "            h = tuple([each.data for each in h])\n",
    "\n",
    "            net.zero_grad()\n",
    "            \n",
    "            output, h = net(inputs, h)\n",
    "            \n",
    "            loss = criterion(output, targets.view(batch_size*seq_length).long())\n",
    "            loss.backward()\n",
    "\n",
    "            # `clip_grad_norm` helps prevent the exploding gradient problem in RNNs\n",
    "            nn.utils.clip_grad_norm_(net.parameters(), clip)\n",
    "            opt.step()\n",
    "            \n",
    "            # loss stats\n",
    "            if counter % print_every == 0:\n",
    "                # Get validation loss\n",
    "                val_h = net.init_hidden(batch_size)\n",
    "                val_losses = []\n",
    "                net.eval()\n",
    "                for x, y in get_batches(val_data, batch_size, seq_length):\n",
    "                    # One-hot encode our data and make them Torch tensors\n",
    "                    x = one_hot_encode(x, n_chars)\n",
    "                    x, y = torch.from_numpy(x), torch.from_numpy(y)\n",
    "                    \n",
    "                    # Creating new variables for the hidden state, otherwise\n",
    "                    # we'd backprop through the entire training history\n",
    "                    val_h = tuple([each.data for each in val_h])\n",
    "                    \n",
    "                    inputs, targets = x, y\n",
    "                    if(train_on_gpu):\n",
    "                        inputs, targets = inputs.cuda(), targets.cuda()\n",
    "\n",
    "                    output, val_h = net(inputs, val_h)\n",
    "                    val_loss = criterion(output, targets.view(batch_size*seq_length).long())\n",
    "                \n",
    "                    val_losses.append(val_loss.item())\n",
    "                \n",
    "                net.train() # reset to train mode after iterationg through validation data\n",
    "                \n",
    "                print(\"Epoch: {}/{}...\".format(e+1, epochs),\n",
    "                      \"Step: {}...\".format(counter),\n",
    "                      \"Loss: {:.4f}...\".format(loss.item()),\n",
    "                      \"Val Loss: {:.4f}\".format(np.mean(val_losses)))"
   ]
  },
  {
   "cell_type": "markdown",
   "metadata": {
    "id": "Gt0q4KGEceEm"
   },
   "source": [
    "Initialize the model and set hyperparameters."
   ]
  },
  {
   "cell_type": "code",
   "execution_count": 15,
   "metadata": {
    "id": "OOgs59nDceEm"
   },
   "outputs": [
    {
     "name": "stdout",
     "output_type": "stream",
     "text": [
      "CharRNN(\n",
      "  (lstm): LSTM(112, 384, num_layers=4, batch_first=True, dropout=0.5)\n",
      "  (dropout): Dropout(p=0.5, inplace=False)\n",
      "  (linear): Linear(in_features=384, out_features=112, bias=True)\n",
      ")\n"
     ]
    }
   ],
   "source": [
    "# Set your model hyperparameters\n",
    "\n",
    "n_hidden = 384## YOUR CODE HERE\n",
    "n_layers = 4## YOUR CODE HERE\n",
    "\n",
    "net = CharRNN(unique_chars, n_hidden, n_layers)\n",
    "print(net)"
   ]
  },
  {
   "cell_type": "markdown",
   "metadata": {
    "id": "XHy6mECuceEm"
   },
   "source": [
    "Set training hyperparameters."
   ]
  },
  {
   "cell_type": "code",
   "execution_count": 16,
   "metadata": {
    "id": "ABqi9klKceEm",
    "scrolled": true
   },
   "outputs": [
    {
     "name": "stdout",
     "output_type": "stream",
     "text": [
      "Epoch: 1/100... Step: 10... Loss: 3.2485... Val Loss: 3.1346\n",
      "Epoch: 1/100... Step: 20... Loss: 3.2192... Val Loss: 3.0966\n",
      "Epoch: 1/100... Step: 30... Loss: 3.1947... Val Loss: 3.0912\n",
      "Epoch: 1/100... Step: 40... Loss: 3.1760... Val Loss: 3.0911\n",
      "Epoch: 1/100... Step: 50... Loss: 3.1598... Val Loss: 3.0874\n",
      "Epoch: 1/100... Step: 60... Loss: 3.1556... Val Loss: 3.0862\n",
      "Epoch: 1/100... Step: 70... Loss: 3.1436... Val Loss: 3.0862\n",
      "Epoch: 2/100... Step: 80... Loss: 3.1424... Val Loss: 3.0850\n",
      "Epoch: 2/100... Step: 90... Loss: 3.1447... Val Loss: 3.0855\n",
      "Epoch: 2/100... Step: 100... Loss: 3.1481... Val Loss: 3.0859\n",
      "Epoch: 2/100... Step: 110... Loss: 3.1547... Val Loss: 3.0860\n",
      "Epoch: 2/100... Step: 120... Loss: 3.1452... Val Loss: 3.0851\n",
      "Epoch: 2/100... Step: 130... Loss: 3.1388... Val Loss: 3.0850\n",
      "Epoch: 2/100... Step: 140... Loss: 3.1356... Val Loss: 3.0833\n",
      "Epoch: 2/100... Step: 150... Loss: 3.1332... Val Loss: 3.0848\n",
      "Epoch: 3/100... Step: 160... Loss: 3.1198... Val Loss: 3.0829\n",
      "Epoch: 3/100... Step: 170... Loss: 3.1385... Val Loss: 3.0849\n",
      "Epoch: 3/100... Step: 180... Loss: 3.1398... Val Loss: 3.0847\n",
      "Epoch: 3/100... Step: 190... Loss: 3.1383... Val Loss: 3.0856\n",
      "Epoch: 3/100... Step: 200... Loss: 3.1291... Val Loss: 3.0839\n",
      "Epoch: 3/100... Step: 210... Loss: 3.1341... Val Loss: 3.0836\n",
      "Epoch: 3/100... Step: 220... Loss: 3.1222... Val Loss: 3.0837\n",
      "Epoch: 4/100... Step: 230... Loss: 3.1280... Val Loss: 3.0829\n",
      "Epoch: 4/100... Step: 240... Loss: 3.1311... Val Loss: 3.0835\n",
      "Epoch: 4/100... Step: 250... Loss: 3.1371... Val Loss: 3.0839\n",
      "Epoch: 4/100... Step: 260... Loss: 3.1436... Val Loss: 3.0845\n",
      "Epoch: 4/100... Step: 270... Loss: 3.1379... Val Loss: 3.0840\n",
      "Epoch: 4/100... Step: 280... Loss: 3.1311... Val Loss: 3.0840\n",
      "Epoch: 4/100... Step: 290... Loss: 3.1298... Val Loss: 3.0824\n",
      "Epoch: 4/100... Step: 300... Loss: 3.1259... Val Loss: 3.0841\n",
      "Epoch: 5/100... Step: 310... Loss: 3.1147... Val Loss: 3.0824\n",
      "Epoch: 5/100... Step: 320... Loss: 3.1363... Val Loss: 3.0842\n",
      "Epoch: 5/100... Step: 330... Loss: 3.1366... Val Loss: 3.0844\n",
      "Epoch: 5/100... Step: 340... Loss: 3.1365... Val Loss: 3.0855\n",
      "Epoch: 5/100... Step: 350... Loss: 3.1263... Val Loss: 3.0833\n",
      "Epoch: 5/100... Step: 360... Loss: 3.1308... Val Loss: 3.0830\n",
      "Epoch: 5/100... Step: 370... Loss: 3.1218... Val Loss: 3.0833\n",
      "Epoch: 6/100... Step: 380... Loss: 3.1259... Val Loss: 3.0825\n",
      "Epoch: 6/100... Step: 390... Loss: 3.1293... Val Loss: 3.0833\n",
      "Epoch: 6/100... Step: 400... Loss: 3.1357... Val Loss: 3.0834\n",
      "Epoch: 6/100... Step: 410... Loss: 3.1422... Val Loss: 3.0843\n",
      "Epoch: 6/100... Step: 420... Loss: 3.1359... Val Loss: 3.0838\n",
      "Epoch: 6/100... Step: 430... Loss: 3.1299... Val Loss: 3.0841\n",
      "Epoch: 6/100... Step: 440... Loss: 3.1287... Val Loss: 3.0821\n",
      "Epoch: 6/100... Step: 450... Loss: 3.1257... Val Loss: 3.0831\n",
      "Epoch: 7/100... Step: 460... Loss: 3.1112... Val Loss: 3.0799\n",
      "Epoch: 7/100... Step: 470... Loss: 3.1275... Val Loss: 3.0721\n",
      "Epoch: 7/100... Step: 480... Loss: 3.1068... Val Loss: 3.0394\n",
      "Epoch: 7/100... Step: 490... Loss: 3.0876... Val Loss: 2.9835\n",
      "Epoch: 7/100... Step: 500... Loss: 3.0055... Val Loss: 2.9237\n",
      "Epoch: 7/100... Step: 510... Loss: 2.9555... Val Loss: 2.8758\n",
      "Epoch: 7/100... Step: 520... Loss: 2.9074... Val Loss: 2.8369\n",
      "Epoch: 8/100... Step: 530... Loss: 2.8688... Val Loss: 2.7889\n",
      "Epoch: 8/100... Step: 540... Loss: 2.8149... Val Loss: 2.7424\n",
      "Epoch: 8/100... Step: 550... Loss: 2.7776... Val Loss: 2.6767\n",
      "Epoch: 8/100... Step: 560... Loss: 2.7350... Val Loss: 2.6305\n",
      "Epoch: 8/100... Step: 570... Loss: 2.6998... Val Loss: 2.5932\n",
      "Epoch: 8/100... Step: 580... Loss: 2.6609... Val Loss: 2.5710\n",
      "Epoch: 8/100... Step: 590... Loss: 2.6243... Val Loss: 2.5451\n",
      "Epoch: 8/100... Step: 600... Loss: 2.6121... Val Loss: 2.5209\n",
      "Epoch: 9/100... Step: 610... Loss: 2.5839... Val Loss: 2.5005\n",
      "Epoch: 9/100... Step: 620... Loss: 2.5769... Val Loss: 2.4811\n",
      "Epoch: 9/100... Step: 630... Loss: 2.5512... Val Loss: 2.4771\n",
      "Epoch: 9/100... Step: 640... Loss: 2.5338... Val Loss: 2.4477\n",
      "Epoch: 9/100... Step: 650... Loss: 2.5125... Val Loss: 2.4218\n",
      "Epoch: 9/100... Step: 660... Loss: 2.4838... Val Loss: 2.4019\n",
      "Epoch: 9/100... Step: 670... Loss: 2.4694... Val Loss: 2.4033\n",
      "Epoch: 10/100... Step: 680... Loss: 2.4609... Val Loss: 2.3807\n",
      "Epoch: 10/100... Step: 690... Loss: 2.4566... Val Loss: 2.3579\n",
      "Epoch: 10/100... Step: 700... Loss: 2.4416... Val Loss: 2.3428\n",
      "Epoch: 10/100... Step: 710... Loss: 2.4384... Val Loss: 2.3328\n",
      "Epoch: 10/100... Step: 720... Loss: 2.4162... Val Loss: 2.3214\n",
      "Epoch: 10/100... Step: 730... Loss: 2.4084... Val Loss: 2.3079\n",
      "Epoch: 10/100... Step: 740... Loss: 2.4110... Val Loss: 2.3099\n",
      "Epoch: 10/100... Step: 750... Loss: 2.3977... Val Loss: 2.2896\n",
      "Epoch: 11/100... Step: 760... Loss: 2.3674... Val Loss: 2.2819\n",
      "Epoch: 11/100... Step: 770... Loss: 2.3738... Val Loss: 2.2714\n",
      "Epoch: 11/100... Step: 780... Loss: 2.3559... Val Loss: 2.2659\n",
      "Epoch: 11/100... Step: 790... Loss: 2.3424... Val Loss: 2.2671\n",
      "Epoch: 11/100... Step: 800... Loss: 2.3441... Val Loss: 2.2485\n",
      "Epoch: 11/100... Step: 810... Loss: 2.3152... Val Loss: 2.2321\n",
      "Epoch: 11/100... Step: 820... Loss: 2.3121... Val Loss: 2.2241\n",
      "Epoch: 12/100... Step: 830... Loss: 2.3240... Val Loss: 2.2153\n",
      "Epoch: 12/100... Step: 840... Loss: 2.3133... Val Loss: 2.2180\n",
      "Epoch: 12/100... Step: 850... Loss: 2.3186... Val Loss: 2.2043\n",
      "Epoch: 12/100... Step: 860... Loss: 2.3078... Val Loss: 2.1914\n",
      "Epoch: 12/100... Step: 870... Loss: 2.2868... Val Loss: 2.1818\n",
      "Epoch: 12/100... Step: 880... Loss: 2.2926... Val Loss: 2.1723\n",
      "Epoch: 12/100... Step: 890... Loss: 2.2745... Val Loss: 2.1657\n",
      "Epoch: 12/100... Step: 900... Loss: 2.2873... Val Loss: 2.1624\n",
      "Epoch: 13/100... Step: 910... Loss: 2.2530... Val Loss: 2.1518\n",
      "Epoch: 13/100... Step: 920... Loss: 2.2606... Val Loss: 2.1453\n",
      "Epoch: 13/100... Step: 930... Loss: 2.2328... Val Loss: 2.1373\n",
      "Epoch: 13/100... Step: 940... Loss: 2.2275... Val Loss: 2.1343\n",
      "Epoch: 13/100... Step: 950... Loss: 2.2471... Val Loss: 2.1386\n",
      "Epoch: 13/100... Step: 960... Loss: 2.2141... Val Loss: 2.1183\n",
      "Epoch: 13/100... Step: 970... Loss: 2.2118... Val Loss: 2.1135\n",
      "Epoch: 14/100... Step: 980... Loss: 2.2225... Val Loss: 2.1137\n",
      "Epoch: 14/100... Step: 990... Loss: 2.2166... Val Loss: 2.1021\n",
      "Epoch: 14/100... Step: 1000... Loss: 2.2164... Val Loss: 2.0984\n",
      "Epoch: 14/100... Step: 1010... Loss: 2.2078... Val Loss: 2.0920\n",
      "Epoch: 14/100... Step: 1020... Loss: 2.1862... Val Loss: 2.0824\n",
      "Epoch: 14/100... Step: 1030... Loss: 2.2144... Val Loss: 2.0924\n",
      "Epoch: 14/100... Step: 1040... Loss: 2.1930... Val Loss: 2.0789\n",
      "Epoch: 14/100... Step: 1050... Loss: 2.2025... Val Loss: 2.0708\n",
      "Epoch: 15/100... Step: 1060... Loss: 2.1622... Val Loss: 2.0657\n",
      "Epoch: 15/100... Step: 1070... Loss: 2.1778... Val Loss: 2.0590\n",
      "Epoch: 15/100... Step: 1080... Loss: 2.1604... Val Loss: 2.0481\n",
      "Epoch: 15/100... Step: 1090... Loss: 2.1468... Val Loss: 2.0438\n",
      "Epoch: 15/100... Step: 1100... Loss: 2.1495... Val Loss: 2.0352\n",
      "Epoch: 15/100... Step: 1110... Loss: 2.1287... Val Loss: 2.0328\n",
      "Epoch: 15/100... Step: 1120... Loss: 2.1281... Val Loss: 2.0261\n",
      "Epoch: 16/100... Step: 1130... Loss: 2.1379... Val Loss: 2.0189\n",
      "Epoch: 16/100... Step: 1140... Loss: 2.1293... Val Loss: 2.0134\n",
      "Epoch: 16/100... Step: 1150... Loss: 2.1318... Val Loss: 2.0051\n",
      "Epoch: 16/100... Step: 1160... Loss: 2.1302... Val Loss: 2.0098\n",
      "Epoch: 16/100... Step: 1170... Loss: 2.1122... Val Loss: 2.0017\n",
      "Epoch: 16/100... Step: 1180... Loss: 2.1230... Val Loss: 1.9899\n",
      "Epoch: 16/100... Step: 1190... Loss: 2.1090... Val Loss: 1.9863\n",
      "Epoch: 16/100... Step: 1200... Loss: 2.1229... Val Loss: 1.9803\n",
      "Epoch: 17/100... Step: 1210... Loss: 2.0820... Val Loss: 1.9740\n",
      "Epoch: 17/100... Step: 1220... Loss: 2.0957... Val Loss: 1.9689\n",
      "Epoch: 17/100... Step: 1230... Loss: 2.0586... Val Loss: 1.9650\n",
      "Epoch: 17/100... Step: 1240... Loss: 2.0657... Val Loss: 1.9583\n",
      "Epoch: 17/100... Step: 1250... Loss: 2.0725... Val Loss: 1.9552\n",
      "Epoch: 17/100... Step: 1260... Loss: 2.0488... Val Loss: 1.9480\n",
      "Epoch: 17/100... Step: 1270... Loss: 2.0564... Val Loss: 1.9434\n",
      "Epoch: 18/100... Step: 1280... Loss: 2.0722... Val Loss: 1.9407\n",
      "Epoch: 18/100... Step: 1290... Loss: 2.0508... Val Loss: 1.9309\n",
      "Epoch: 18/100... Step: 1300... Loss: 2.0540... Val Loss: 1.9259\n",
      "Epoch: 18/100... Step: 1310... Loss: 2.0528... Val Loss: 1.9221\n",
      "Epoch: 18/100... Step: 1320... Loss: 2.0281... Val Loss: 1.9234\n",
      "Epoch: 18/100... Step: 1330... Loss: 2.0514... Val Loss: 1.9139\n",
      "Epoch: 18/100... Step: 1340... Loss: 2.0305... Val Loss: 1.9064\n",
      "Epoch: 18/100... Step: 1350... Loss: 2.0441... Val Loss: 1.9002\n",
      "Epoch: 19/100... Step: 1360... Loss: 2.0117... Val Loss: 1.8975\n",
      "Epoch: 19/100... Step: 1370... Loss: 2.0216... Val Loss: 1.8907\n",
      "Epoch: 19/100... Step: 1380... Loss: 1.9896... Val Loss: 1.8890\n",
      "Epoch: 19/100... Step: 1390... Loss: 1.9933... Val Loss: 1.8841\n",
      "Epoch: 19/100... Step: 1400... Loss: 1.9981... Val Loss: 1.8789\n",
      "Epoch: 19/100... Step: 1410... Loss: 1.9717... Val Loss: 1.8712\n",
      "Epoch: 19/100... Step: 1420... Loss: 1.9766... Val Loss: 1.8663\n",
      "Epoch: 20/100... Step: 1430... Loss: 1.9945... Val Loss: 1.8620\n",
      "Epoch: 20/100... Step: 1440... Loss: 1.9754... Val Loss: 1.8590\n",
      "Epoch: 20/100... Step: 1450... Loss: 1.9849... Val Loss: 1.8546\n",
      "Epoch: 20/100... Step: 1460... Loss: 1.9822... Val Loss: 1.8560\n",
      "Epoch: 20/100... Step: 1470... Loss: 1.9585... Val Loss: 1.8480\n",
      "Epoch: 20/100... Step: 1480... Loss: 1.9852... Val Loss: 1.8439\n",
      "Epoch: 20/100... Step: 1490... Loss: 1.9722... Val Loss: 1.8363\n",
      "Epoch: 20/100... Step: 1500... Loss: 1.9843... Val Loss: 1.8317\n",
      "Epoch: 21/100... Step: 1510... Loss: 1.9458... Val Loss: 1.8277\n",
      "Epoch: 21/100... Step: 1520... Loss: 1.9534... Val Loss: 1.8214\n",
      "Epoch: 21/100... Step: 1530... Loss: 1.9237... Val Loss: 1.8175\n",
      "Epoch: 21/100... Step: 1540... Loss: 1.9198... Val Loss: 1.8149\n",
      "Epoch: 21/100... Step: 1550... Loss: 1.9308... Val Loss: 1.8097\n",
      "Epoch: 21/100... Step: 1560... Loss: 1.9144... Val Loss: 1.8059\n",
      "Epoch: 21/100... Step: 1570... Loss: 1.9145... Val Loss: 1.8005\n",
      "Epoch: 22/100... Step: 1580... Loss: 1.9315... Val Loss: 1.7962\n",
      "Epoch: 22/100... Step: 1590... Loss: 1.9103... Val Loss: 1.7888\n",
      "Epoch: 22/100... Step: 1600... Loss: 1.9171... Val Loss: 1.7849\n",
      "Epoch: 22/100... Step: 1610... Loss: 1.9212... Val Loss: 1.7861\n",
      "Epoch: 22/100... Step: 1620... Loss: 1.8906... Val Loss: 1.7766\n",
      "Epoch: 22/100... Step: 1630... Loss: 1.9074... Val Loss: 1.7731\n",
      "Epoch: 22/100... Step: 1640... Loss: 1.9050... Val Loss: 1.7691\n",
      "Epoch: 22/100... Step: 1650... Loss: 1.9193... Val Loss: 1.7649\n",
      "Epoch: 23/100... Step: 1660... Loss: 1.8811... Val Loss: 1.7602\n",
      "Epoch: 23/100... Step: 1670... Loss: 1.8853... Val Loss: 1.7535\n",
      "Epoch: 23/100... Step: 1680... Loss: 1.8569... Val Loss: 1.7536\n",
      "Epoch: 23/100... Step: 1690... Loss: 1.8554... Val Loss: 1.7492\n",
      "Epoch: 23/100... Step: 1700... Loss: 1.8691... Val Loss: 1.7439\n",
      "Epoch: 23/100... Step: 1710... Loss: 1.8460... Val Loss: 1.7400\n",
      "Epoch: 23/100... Step: 1720... Loss: 1.8580... Val Loss: 1.7371\n",
      "Epoch: 24/100... Step: 1730... Loss: 1.8655... Val Loss: 1.7327\n",
      "Epoch: 24/100... Step: 1740... Loss: 1.8550... Val Loss: 1.7273\n",
      "Epoch: 24/100... Step: 1750... Loss: 1.8600... Val Loss: 1.7240\n",
      "Epoch: 24/100... Step: 1760... Loss: 1.8619... Val Loss: 1.7222\n",
      "Epoch: 24/100... Step: 1770... Loss: 1.8346... Val Loss: 1.7177\n",
      "Epoch: 24/100... Step: 1780... Loss: 1.8545... Val Loss: 1.7147\n",
      "Epoch: 24/100... Step: 1790... Loss: 1.8385... Val Loss: 1.7115\n",
      "Epoch: 24/100... Step: 1800... Loss: 1.8619... Val Loss: 1.7087\n",
      "Epoch: 25/100... Step: 1810... Loss: 1.8286... Val Loss: 1.7050\n",
      "Epoch: 25/100... Step: 1820... Loss: 1.8337... Val Loss: 1.6980\n",
      "Epoch: 25/100... Step: 1830... Loss: 1.8001... Val Loss: 1.6971\n",
      "Epoch: 25/100... Step: 1840... Loss: 1.8000... Val Loss: 1.6950\n",
      "Epoch: 25/100... Step: 1850... Loss: 1.8150... Val Loss: 1.6919\n",
      "Epoch: 25/100... Step: 1860... Loss: 1.7949... Val Loss: 1.6868\n",
      "Epoch: 25/100... Step: 1870... Loss: 1.8001... Val Loss: 1.6844\n",
      "Epoch: 26/100... Step: 1880... Loss: 1.8187... Val Loss: 1.6825\n",
      "Epoch: 26/100... Step: 1890... Loss: 1.8002... Val Loss: 1.6792\n",
      "Epoch: 26/100... Step: 1900... Loss: 1.8128... Val Loss: 1.6735\n",
      "Epoch: 26/100... Step: 1910... Loss: 1.8090... Val Loss: 1.6715\n",
      "Epoch: 26/100... Step: 1920... Loss: 1.7842... Val Loss: 1.6709\n",
      "Epoch: 26/100... Step: 1930... Loss: 1.8025... Val Loss: 1.6671\n",
      "Epoch: 26/100... Step: 1940... Loss: 1.7905... Val Loss: 1.6625\n",
      "Epoch: 26/100... Step: 1950... Loss: 1.8121... Val Loss: 1.6612\n",
      "Epoch: 27/100... Step: 1960... Loss: 1.7776... Val Loss: 1.6565\n",
      "Epoch: 27/100... Step: 1970... Loss: 1.7835... Val Loss: 1.6524\n",
      "Epoch: 27/100... Step: 1980... Loss: 1.7509... Val Loss: 1.6505\n",
      "Epoch: 27/100... Step: 1990... Loss: 1.7543... Val Loss: 1.6485\n",
      "Epoch: 27/100... Step: 2000... Loss: 1.7708... Val Loss: 1.6484\n",
      "Epoch: 27/100... Step: 2010... Loss: 1.7526... Val Loss: 1.6454\n",
      "Epoch: 27/100... Step: 2020... Loss: 1.7499... Val Loss: 1.6405\n",
      "Epoch: 28/100... Step: 2030... Loss: 1.7751... Val Loss: 1.6374\n",
      "Epoch: 28/100... Step: 2040... Loss: 1.7551... Val Loss: 1.6351\n",
      "Epoch: 28/100... Step: 2050... Loss: 1.7675... Val Loss: 1.6333\n",
      "Epoch: 28/100... Step: 2060... Loss: 1.7655... Val Loss: 1.6296\n",
      "Epoch: 28/100... Step: 2070... Loss: 1.7423... Val Loss: 1.6301\n",
      "Epoch: 28/100... Step: 2080... Loss: 1.7545... Val Loss: 1.6260\n",
      "Epoch: 28/100... Step: 2090... Loss: 1.7521... Val Loss: 1.6219\n",
      "Epoch: 28/100... Step: 2100... Loss: 1.7731... Val Loss: 1.6200\n",
      "Epoch: 29/100... Step: 2110... Loss: 1.7352... Val Loss: 1.6164\n",
      "Epoch: 29/100... Step: 2120... Loss: 1.7437... Val Loss: 1.6147\n",
      "Epoch: 29/100... Step: 2130... Loss: 1.7131... Val Loss: 1.6127\n",
      "Epoch: 29/100... Step: 2140... Loss: 1.7117... Val Loss: 1.6119\n",
      "Epoch: 29/100... Step: 2150... Loss: 1.7308... Val Loss: 1.6092\n",
      "Epoch: 29/100... Step: 2160... Loss: 1.7063... Val Loss: 1.6044\n",
      "Epoch: 29/100... Step: 2170... Loss: 1.7124... Val Loss: 1.6027\n",
      "Epoch: 30/100... Step: 2180... Loss: 1.7328... Val Loss: 1.6014\n",
      "Epoch: 30/100... Step: 2190... Loss: 1.7070... Val Loss: 1.5963\n",
      "Epoch: 30/100... Step: 2200... Loss: 1.7345... Val Loss: 1.5943\n",
      "Epoch: 30/100... Step: 2210... Loss: 1.7280... Val Loss: 1.5940\n",
      "Epoch: 30/100... Step: 2220... Loss: 1.7093... Val Loss: 1.5913\n",
      "Epoch: 30/100... Step: 2230... Loss: 1.7198... Val Loss: 1.5902\n",
      "Epoch: 30/100... Step: 2240... Loss: 1.7110... Val Loss: 1.5857\n",
      "Epoch: 30/100... Step: 2250... Loss: 1.7288... Val Loss: 1.5848\n",
      "Epoch: 31/100... Step: 2260... Loss: 1.6966... Val Loss: 1.5833\n",
      "Epoch: 31/100... Step: 2270... Loss: 1.7034... Val Loss: 1.5781\n",
      "Epoch: 31/100... Step: 2280... Loss: 1.6701... Val Loss: 1.5770\n",
      "Epoch: 31/100... Step: 2290... Loss: 1.6762... Val Loss: 1.5769\n",
      "Epoch: 31/100... Step: 2300... Loss: 1.6894... Val Loss: 1.5742\n",
      "Epoch: 31/100... Step: 2310... Loss: 1.6673... Val Loss: 1.5712\n",
      "Epoch: 31/100... Step: 2320... Loss: 1.6805... Val Loss: 1.5691\n",
      "Epoch: 32/100... Step: 2330... Loss: 1.6945... Val Loss: 1.5661\n",
      "Epoch: 32/100... Step: 2340... Loss: 1.6822... Val Loss: 1.5653\n",
      "Epoch: 32/100... Step: 2350... Loss: 1.6933... Val Loss: 1.5620\n",
      "Epoch: 32/100... Step: 2360... Loss: 1.6973... Val Loss: 1.5614\n",
      "Epoch: 32/100... Step: 2370... Loss: 1.6687... Val Loss: 1.5586\n",
      "Epoch: 32/100... Step: 2380... Loss: 1.6811... Val Loss: 1.5581\n",
      "Epoch: 32/100... Step: 2390... Loss: 1.6780... Val Loss: 1.5543\n",
      "Epoch: 32/100... Step: 2400... Loss: 1.7064... Val Loss: 1.5524\n",
      "Epoch: 33/100... Step: 2410... Loss: 1.6683... Val Loss: 1.5492\n",
      "Epoch: 33/100... Step: 2420... Loss: 1.6757... Val Loss: 1.5467\n",
      "Epoch: 33/100... Step: 2430... Loss: 1.6433... Val Loss: 1.5447\n",
      "Epoch: 33/100... Step: 2440... Loss: 1.6429... Val Loss: 1.5447\n",
      "Epoch: 33/100... Step: 2450... Loss: 1.6578... Val Loss: 1.5445\n",
      "Epoch: 33/100... Step: 2460... Loss: 1.6383... Val Loss: 1.5411\n",
      "Epoch: 33/100... Step: 2470... Loss: 1.6468... Val Loss: 1.5402\n",
      "Epoch: 34/100... Step: 2480... Loss: 1.6702... Val Loss: 1.5392\n",
      "Epoch: 34/100... Step: 2490... Loss: 1.6490... Val Loss: 1.5367\n",
      "Epoch: 34/100... Step: 2500... Loss: 1.6621... Val Loss: 1.5338\n",
      "Epoch: 34/100... Step: 2510... Loss: 1.6628... Val Loss: 1.5326\n",
      "Epoch: 34/100... Step: 2520... Loss: 1.6450... Val Loss: 1.5320\n",
      "Epoch: 34/100... Step: 2530... Loss: 1.6553... Val Loss: 1.5301\n",
      "Epoch: 34/100... Step: 2540... Loss: 1.6505... Val Loss: 1.5262\n",
      "Epoch: 34/100... Step: 2550... Loss: 1.6731... Val Loss: 1.5241\n",
      "Epoch: 35/100... Step: 2560... Loss: 1.6371... Val Loss: 1.5228\n",
      "Epoch: 35/100... Step: 2570... Loss: 1.6391... Val Loss: 1.5196\n",
      "Epoch: 35/100... Step: 2580... Loss: 1.6140... Val Loss: 1.5186\n",
      "Epoch: 35/100... Step: 2590... Loss: 1.6109... Val Loss: 1.5185\n",
      "Epoch: 35/100... Step: 2600... Loss: 1.6329... Val Loss: 1.5189\n",
      "Epoch: 35/100... Step: 2610... Loss: 1.6049... Val Loss: 1.5157\n",
      "Epoch: 35/100... Step: 2620... Loss: 1.6243... Val Loss: 1.5125\n",
      "Epoch: 36/100... Step: 2630... Loss: 1.6417... Val Loss: 1.5114\n",
      "Epoch: 36/100... Step: 2640... Loss: 1.6179... Val Loss: 1.5088\n",
      "Epoch: 36/100... Step: 2650... Loss: 1.6387... Val Loss: 1.5062\n",
      "Epoch: 36/100... Step: 2660... Loss: 1.6333... Val Loss: 1.5050\n",
      "Epoch: 36/100... Step: 2670... Loss: 1.6126... Val Loss: 1.5063\n",
      "Epoch: 36/100... Step: 2680... Loss: 1.6274... Val Loss: 1.5036\n",
      "Epoch: 36/100... Step: 2690... Loss: 1.6213... Val Loss: 1.5006\n",
      "Epoch: 36/100... Step: 2700... Loss: 1.6489... Val Loss: 1.4996\n",
      "Epoch: 37/100... Step: 2710... Loss: 1.6123... Val Loss: 1.4992\n",
      "Epoch: 37/100... Step: 2720... Loss: 1.6136... Val Loss: 1.4951\n",
      "Epoch: 37/100... Step: 2730... Loss: 1.5806... Val Loss: 1.4934\n",
      "Epoch: 37/100... Step: 2740... Loss: 1.5842... Val Loss: 1.4934\n",
      "Epoch: 37/100... Step: 2750... Loss: 1.6031... Val Loss: 1.4925\n",
      "Epoch: 37/100... Step: 2760... Loss: 1.5789... Val Loss: 1.4902\n",
      "Epoch: 37/100... Step: 2770... Loss: 1.5935... Val Loss: 1.4880\n",
      "Epoch: 38/100... Step: 2780... Loss: 1.6167... Val Loss: 1.4886\n",
      "Epoch: 38/100... Step: 2790... Loss: 1.5925... Val Loss: 1.4852\n",
      "Epoch: 38/100... Step: 2800... Loss: 1.6117... Val Loss: 1.4839\n",
      "Epoch: 38/100... Step: 2810... Loss: 1.6039... Val Loss: 1.4830\n",
      "Epoch: 38/100... Step: 2820... Loss: 1.5900... Val Loss: 1.4830\n",
      "Epoch: 38/100... Step: 2830... Loss: 1.5985... Val Loss: 1.4800\n",
      "Epoch: 38/100... Step: 2840... Loss: 1.5955... Val Loss: 1.4769\n",
      "Epoch: 38/100... Step: 2850... Loss: 1.6268... Val Loss: 1.4775\n",
      "Epoch: 39/100... Step: 2860... Loss: 1.5848... Val Loss: 1.4753\n",
      "Epoch: 39/100... Step: 2870... Loss: 1.5915... Val Loss: 1.4721\n",
      "Epoch: 39/100... Step: 2880... Loss: 1.5617... Val Loss: 1.4718\n",
      "Epoch: 39/100... Step: 2890... Loss: 1.5571... Val Loss: 1.4727\n",
      "Epoch: 39/100... Step: 2900... Loss: 1.5812... Val Loss: 1.4727\n",
      "Epoch: 39/100... Step: 2910... Loss: 1.5617... Val Loss: 1.4703\n",
      "Epoch: 39/100... Step: 2920... Loss: 1.5701... Val Loss: 1.4671\n",
      "Epoch: 40/100... Step: 2930... Loss: 1.5976... Val Loss: 1.4672\n",
      "Epoch: 40/100... Step: 2940... Loss: 1.5732... Val Loss: 1.4653\n",
      "Epoch: 40/100... Step: 2950... Loss: 1.5816... Val Loss: 1.4630\n",
      "Epoch: 40/100... Step: 2960... Loss: 1.5860... Val Loss: 1.4621\n",
      "Epoch: 40/100... Step: 2970... Loss: 1.5654... Val Loss: 1.4630\n",
      "Epoch: 40/100... Step: 2980... Loss: 1.5734... Val Loss: 1.4604\n",
      "Epoch: 40/100... Step: 2990... Loss: 1.5776... Val Loss: 1.4572\n",
      "Epoch: 40/100... Step: 3000... Loss: 1.6042... Val Loss: 1.4577\n",
      "Epoch: 41/100... Step: 3010... Loss: 1.5621... Val Loss: 1.4550\n",
      "Epoch: 41/100... Step: 3020... Loss: 1.5634... Val Loss: 1.4531\n",
      "Epoch: 41/100... Step: 3030... Loss: 1.5386... Val Loss: 1.4532\n",
      "Epoch: 41/100... Step: 3040... Loss: 1.5430... Val Loss: 1.4549\n",
      "Epoch: 41/100... Step: 3050... Loss: 1.5614... Val Loss: 1.4524\n",
      "Epoch: 41/100... Step: 3060... Loss: 1.5389... Val Loss: 1.4504\n",
      "Epoch: 41/100... Step: 3070... Loss: 1.5510... Val Loss: 1.4474\n",
      "Epoch: 42/100... Step: 3080... Loss: 1.5770... Val Loss: 1.4499\n",
      "Epoch: 42/100... Step: 3090... Loss: 1.5478... Val Loss: 1.4449\n",
      "Epoch: 42/100... Step: 3100... Loss: 1.5646... Val Loss: 1.4455\n",
      "Epoch: 42/100... Step: 3110... Loss: 1.5632... Val Loss: 1.4434\n",
      "Epoch: 42/100... Step: 3120... Loss: 1.5465... Val Loss: 1.4447\n",
      "Epoch: 42/100... Step: 3130... Loss: 1.5599... Val Loss: 1.4419\n",
      "Epoch: 42/100... Step: 3140... Loss: 1.5591... Val Loss: 1.4398\n",
      "Epoch: 42/100... Step: 3150... Loss: 1.5805... Val Loss: 1.4409\n",
      "Epoch: 43/100... Step: 3160... Loss: 1.5471... Val Loss: 1.4385\n",
      "Epoch: 43/100... Step: 3170... Loss: 1.5480... Val Loss: 1.4353\n",
      "Epoch: 43/100... Step: 3180... Loss: 1.5224... Val Loss: 1.4361\n",
      "Epoch: 43/100... Step: 3190... Loss: 1.5187... Val Loss: 1.4376\n",
      "Epoch: 43/100... Step: 3200... Loss: 1.5461... Val Loss: 1.4364\n",
      "Epoch: 43/100... Step: 3210... Loss: 1.5180... Val Loss: 1.4330\n",
      "Epoch: 43/100... Step: 3220... Loss: 1.5284... Val Loss: 1.4316\n",
      "Epoch: 44/100... Step: 3230... Loss: 1.5581... Val Loss: 1.4323\n",
      "Epoch: 44/100... Step: 3240... Loss: 1.5306... Val Loss: 1.4305\n",
      "Epoch: 44/100... Step: 3250... Loss: 1.5481... Val Loss: 1.4307\n",
      "Epoch: 44/100... Step: 3260... Loss: 1.5415... Val Loss: 1.4297\n",
      "Epoch: 44/100... Step: 3270... Loss: 1.5337... Val Loss: 1.4296\n",
      "Epoch: 44/100... Step: 3280... Loss: 1.5376... Val Loss: 1.4264\n",
      "Epoch: 44/100... Step: 3290... Loss: 1.5409... Val Loss: 1.4254\n",
      "Epoch: 44/100... Step: 3300... Loss: 1.5734... Val Loss: 1.4254\n",
      "Epoch: 45/100... Step: 3310... Loss: 1.5252... Val Loss: 1.4231\n",
      "Epoch: 45/100... Step: 3320... Loss: 1.5319... Val Loss: 1.4209\n",
      "Epoch: 45/100... Step: 3330... Loss: 1.5021... Val Loss: 1.4228\n",
      "Epoch: 45/100... Step: 3340... Loss: 1.5012... Val Loss: 1.4222\n",
      "Epoch: 45/100... Step: 3350... Loss: 1.5270... Val Loss: 1.4215\n",
      "Epoch: 45/100... Step: 3360... Loss: 1.4971... Val Loss: 1.4196\n",
      "Epoch: 45/100... Step: 3370... Loss: 1.5126... Val Loss: 1.4175\n",
      "Epoch: 46/100... Step: 3380... Loss: 1.5409... Val Loss: 1.4181\n",
      "Epoch: 46/100... Step: 3390... Loss: 1.5131... Val Loss: 1.4156\n",
      "Epoch: 46/100... Step: 3400... Loss: 1.5275... Val Loss: 1.4150\n",
      "Epoch: 46/100... Step: 3410... Loss: 1.5263... Val Loss: 1.4147\n",
      "Epoch: 46/100... Step: 3420... Loss: 1.5133... Val Loss: 1.4149\n",
      "Epoch: 46/100... Step: 3430... Loss: 1.5237... Val Loss: 1.4117\n",
      "Epoch: 46/100... Step: 3440... Loss: 1.5202... Val Loss: 1.4124\n",
      "Epoch: 46/100... Step: 3450... Loss: 1.5534... Val Loss: 1.4131\n",
      "Epoch: 47/100... Step: 3460... Loss: 1.5149... Val Loss: 1.4095\n",
      "Epoch: 47/100... Step: 3470... Loss: 1.5169... Val Loss: 1.4069\n",
      "Epoch: 47/100... Step: 3480... Loss: 1.4824... Val Loss: 1.4077\n",
      "Epoch: 47/100... Step: 3490... Loss: 1.4862... Val Loss: 1.4086\n",
      "Epoch: 47/100... Step: 3500... Loss: 1.5074... Val Loss: 1.4074\n",
      "Epoch: 47/100... Step: 3510... Loss: 1.4840... Val Loss: 1.4057\n",
      "Epoch: 47/100... Step: 3520... Loss: 1.4931... Val Loss: 1.4045\n",
      "Epoch: 48/100... Step: 3530... Loss: 1.5203... Val Loss: 1.4031\n",
      "Epoch: 48/100... Step: 3540... Loss: 1.4971... Val Loss: 1.4010\n",
      "Epoch: 48/100... Step: 3550... Loss: 1.5106... Val Loss: 1.4020\n",
      "Epoch: 48/100... Step: 3560... Loss: 1.5080... Val Loss: 1.4010\n",
      "Epoch: 48/100... Step: 3570... Loss: 1.4970... Val Loss: 1.4009\n",
      "Epoch: 48/100... Step: 3580... Loss: 1.5015... Val Loss: 1.4000\n",
      "Epoch: 48/100... Step: 3590... Loss: 1.5065... Val Loss: 1.3998\n",
      "Epoch: 48/100... Step: 3600... Loss: 1.5350... Val Loss: 1.3996\n",
      "Epoch: 49/100... Step: 3610... Loss: 1.4961... Val Loss: 1.3974\n",
      "Epoch: 49/100... Step: 3620... Loss: 1.4960... Val Loss: 1.3956\n",
      "Epoch: 49/100... Step: 3630... Loss: 1.4712... Val Loss: 1.3958\n",
      "Epoch: 49/100... Step: 3640... Loss: 1.4752... Val Loss: 1.3952\n",
      "Epoch: 49/100... Step: 3650... Loss: 1.4939... Val Loss: 1.3955\n",
      "Epoch: 49/100... Step: 3660... Loss: 1.4712... Val Loss: 1.3929\n",
      "Epoch: 49/100... Step: 3670... Loss: 1.4788... Val Loss: 1.3938\n",
      "Epoch: 50/100... Step: 3680... Loss: 1.5116... Val Loss: 1.3928\n",
      "Epoch: 50/100... Step: 3690... Loss: 1.4838... Val Loss: 1.3928\n",
      "Epoch: 50/100... Step: 3700... Loss: 1.4932... Val Loss: 1.3919\n",
      "Epoch: 50/100... Step: 3710... Loss: 1.4958... Val Loss: 1.3901\n",
      "Epoch: 50/100... Step: 3720... Loss: 1.4838... Val Loss: 1.3892\n",
      "Epoch: 50/100... Step: 3730... Loss: 1.4914... Val Loss: 1.3874\n",
      "Epoch: 50/100... Step: 3740... Loss: 1.4925... Val Loss: 1.3879\n",
      "Epoch: 50/100... Step: 3750... Loss: 1.5235... Val Loss: 1.3894\n",
      "Epoch: 51/100... Step: 3760... Loss: 1.4796... Val Loss: 1.3857\n",
      "Epoch: 51/100... Step: 3770... Loss: 1.4843... Val Loss: 1.3838\n",
      "Epoch: 51/100... Step: 3780... Loss: 1.4582... Val Loss: 1.3862\n",
      "Epoch: 51/100... Step: 3790... Loss: 1.4560... Val Loss: 1.3842\n",
      "Epoch: 51/100... Step: 3800... Loss: 1.4809... Val Loss: 1.3839\n",
      "Epoch: 51/100... Step: 3810... Loss: 1.4570... Val Loss: 1.3836\n",
      "Epoch: 51/100... Step: 3820... Loss: 1.4696... Val Loss: 1.3816\n",
      "Epoch: 52/100... Step: 3830... Loss: 1.4972... Val Loss: 1.3823\n",
      "Epoch: 52/100... Step: 3840... Loss: 1.4689... Val Loss: 1.3815\n",
      "Epoch: 52/100... Step: 3850... Loss: 1.4859... Val Loss: 1.3811\n",
      "Epoch: 52/100... Step: 3860... Loss: 1.4824... Val Loss: 1.3787\n",
      "Epoch: 52/100... Step: 3870... Loss: 1.4728... Val Loss: 1.3810\n",
      "Epoch: 52/100... Step: 3880... Loss: 1.4767... Val Loss: 1.3790\n",
      "Epoch: 52/100... Step: 3890... Loss: 1.4815... Val Loss: 1.3782\n",
      "Epoch: 52/100... Step: 3900... Loss: 1.5119... Val Loss: 1.3774\n",
      "Epoch: 53/100... Step: 3910... Loss: 1.4682... Val Loss: 1.3755\n",
      "Epoch: 53/100... Step: 3920... Loss: 1.4704... Val Loss: 1.3740\n",
      "Epoch: 53/100... Step: 3930... Loss: 1.4437... Val Loss: 1.3745\n",
      "Epoch: 53/100... Step: 3940... Loss: 1.4475... Val Loss: 1.3745\n",
      "Epoch: 53/100... Step: 3950... Loss: 1.4690... Val Loss: 1.3757\n",
      "Epoch: 53/100... Step: 3960... Loss: 1.4433... Val Loss: 1.3737\n",
      "Epoch: 53/100... Step: 3970... Loss: 1.4544... Val Loss: 1.3739\n",
      "Epoch: 54/100... Step: 3980... Loss: 1.4848... Val Loss: 1.3725\n",
      "Epoch: 54/100... Step: 3990... Loss: 1.4566... Val Loss: 1.3723\n",
      "Epoch: 54/100... Step: 4000... Loss: 1.4735... Val Loss: 1.3716\n",
      "Epoch: 54/100... Step: 4010... Loss: 1.4700... Val Loss: 1.3710\n",
      "Epoch: 54/100... Step: 4020... Loss: 1.4603... Val Loss: 1.3715\n",
      "Epoch: 54/100... Step: 4030... Loss: 1.4675... Val Loss: 1.3700\n",
      "Epoch: 54/100... Step: 4040... Loss: 1.4665... Val Loss: 1.3687\n",
      "Epoch: 54/100... Step: 4050... Loss: 1.5020... Val Loss: 1.3684\n",
      "Epoch: 55/100... Step: 4060... Loss: 1.4536... Val Loss: 1.3657\n",
      "Epoch: 55/100... Step: 4070... Loss: 1.4630... Val Loss: 1.3659\n",
      "Epoch: 55/100... Step: 4080... Loss: 1.4354... Val Loss: 1.3674\n",
      "Epoch: 55/100... Step: 4090... Loss: 1.4415... Val Loss: 1.3662\n",
      "Epoch: 55/100... Step: 4100... Loss: 1.4600... Val Loss: 1.3660\n",
      "Epoch: 55/100... Step: 4110... Loss: 1.4343... Val Loss: 1.3643\n",
      "Epoch: 55/100... Step: 4120... Loss: 1.4448... Val Loss: 1.3646\n",
      "Epoch: 56/100... Step: 4130... Loss: 1.4711... Val Loss: 1.3638\n",
      "Epoch: 56/100... Step: 4140... Loss: 1.4433... Val Loss: 1.3634\n",
      "Epoch: 56/100... Step: 4150... Loss: 1.4673... Val Loss: 1.3626\n",
      "Epoch: 56/100... Step: 4160... Loss: 1.4560... Val Loss: 1.3615\n",
      "Epoch: 56/100... Step: 4170... Loss: 1.4482... Val Loss: 1.3633\n",
      "Epoch: 56/100... Step: 4180... Loss: 1.4549... Val Loss: 1.3599\n",
      "Epoch: 56/100... Step: 4190... Loss: 1.4574... Val Loss: 1.3618\n",
      "Epoch: 56/100... Step: 4200... Loss: 1.4903... Val Loss: 1.3600\n",
      "Epoch: 57/100... Step: 4210... Loss: 1.4489... Val Loss: 1.3590\n",
      "Epoch: 57/100... Step: 4220... Loss: 1.4529... Val Loss: 1.3583\n",
      "Epoch: 57/100... Step: 4230... Loss: 1.4225... Val Loss: 1.3595\n",
      "Epoch: 57/100... Step: 4240... Loss: 1.4247... Val Loss: 1.3577\n",
      "Epoch: 57/100... Step: 4250... Loss: 1.4501... Val Loss: 1.3593\n",
      "Epoch: 57/100... Step: 4260... Loss: 1.4163... Val Loss: 1.3575\n",
      "Epoch: 57/100... Step: 4270... Loss: 1.4342... Val Loss: 1.3577\n",
      "Epoch: 58/100... Step: 4280... Loss: 1.4604... Val Loss: 1.3559\n",
      "Epoch: 58/100... Step: 4290... Loss: 1.4293... Val Loss: 1.3563\n",
      "Epoch: 58/100... Step: 4300... Loss: 1.4527... Val Loss: 1.3555\n",
      "Epoch: 58/100... Step: 4310... Loss: 1.4476... Val Loss: 1.3554\n",
      "Epoch: 58/100... Step: 4320... Loss: 1.4336... Val Loss: 1.3572\n",
      "Epoch: 58/100... Step: 4330... Loss: 1.4502... Val Loss: 1.3532\n",
      "Epoch: 58/100... Step: 4340... Loss: 1.4417... Val Loss: 1.3548\n",
      "Epoch: 58/100... Step: 4350... Loss: 1.4799... Val Loss: 1.3518\n",
      "Epoch: 59/100... Step: 4360... Loss: 1.4359... Val Loss: 1.3505\n",
      "Epoch: 59/100... Step: 4370... Loss: 1.4456... Val Loss: 1.3490\n",
      "Epoch: 59/100... Step: 4380... Loss: 1.4096... Val Loss: 1.3511\n",
      "Epoch: 59/100... Step: 4390... Loss: 1.4108... Val Loss: 1.3498\n",
      "Epoch: 59/100... Step: 4400... Loss: 1.4365... Val Loss: 1.3499\n",
      "Epoch: 59/100... Step: 4410... Loss: 1.4148... Val Loss: 1.3486\n",
      "Epoch: 59/100... Step: 4420... Loss: 1.4274... Val Loss: 1.3491\n",
      "Epoch: 60/100... Step: 4430... Loss: 1.4566... Val Loss: 1.3477\n",
      "Epoch: 60/100... Step: 4440... Loss: 1.4250... Val Loss: 1.3492\n",
      "Epoch: 60/100... Step: 4450... Loss: 1.4410... Val Loss: 1.3480\n",
      "Epoch: 60/100... Step: 4460... Loss: 1.4355... Val Loss: 1.3473\n",
      "Epoch: 60/100... Step: 4470... Loss: 1.4264... Val Loss: 1.3491\n",
      "Epoch: 60/100... Step: 4480... Loss: 1.4353... Val Loss: 1.3459\n",
      "Epoch: 60/100... Step: 4490... Loss: 1.4398... Val Loss: 1.3480\n",
      "Epoch: 60/100... Step: 4500... Loss: 1.4740... Val Loss: 1.3464\n",
      "Epoch: 61/100... Step: 4510... Loss: 1.4231... Val Loss: 1.3440\n",
      "Epoch: 61/100... Step: 4520... Loss: 1.4334... Val Loss: 1.3444\n",
      "Epoch: 61/100... Step: 4530... Loss: 1.3997... Val Loss: 1.3444\n",
      "Epoch: 61/100... Step: 4540... Loss: 1.4033... Val Loss: 1.3451\n",
      "Epoch: 61/100... Step: 4550... Loss: 1.4320... Val Loss: 1.3433\n",
      "Epoch: 61/100... Step: 4560... Loss: 1.4026... Val Loss: 1.3426\n",
      "Epoch: 61/100... Step: 4570... Loss: 1.4160... Val Loss: 1.3426\n",
      "Epoch: 62/100... Step: 4580... Loss: 1.4463... Val Loss: 1.3422\n",
      "Epoch: 62/100... Step: 4590... Loss: 1.4126... Val Loss: 1.3430\n",
      "Epoch: 62/100... Step: 4600... Loss: 1.4293... Val Loss: 1.3440\n",
      "Epoch: 62/100... Step: 4610... Loss: 1.4328... Val Loss: 1.3415\n",
      "Epoch: 62/100... Step: 4620... Loss: 1.4225... Val Loss: 1.3419\n",
      "Epoch: 62/100... Step: 4630... Loss: 1.4283... Val Loss: 1.3392\n",
      "Epoch: 62/100... Step: 4640... Loss: 1.4263... Val Loss: 1.3406\n",
      "Epoch: 62/100... Step: 4650... Loss: 1.4610... Val Loss: 1.3389\n",
      "Epoch: 63/100... Step: 4660... Loss: 1.4188... Val Loss: 1.3381\n",
      "Epoch: 63/100... Step: 4670... Loss: 1.4262... Val Loss: 1.3368\n",
      "Epoch: 63/100... Step: 4680... Loss: 1.3973... Val Loss: 1.3391\n",
      "Epoch: 63/100... Step: 4690... Loss: 1.3932... Val Loss: 1.3379\n",
      "Epoch: 63/100... Step: 4700... Loss: 1.4235... Val Loss: 1.3377\n",
      "Epoch: 63/100... Step: 4710... Loss: 1.3921... Val Loss: 1.3372\n",
      "Epoch: 63/100... Step: 4720... Loss: 1.4013... Val Loss: 1.3360\n",
      "Epoch: 64/100... Step: 4730... Loss: 1.4293... Val Loss: 1.3343\n",
      "Epoch: 64/100... Step: 4740... Loss: 1.4087... Val Loss: 1.3356\n",
      "Epoch: 64/100... Step: 4750... Loss: 1.4242... Val Loss: 1.3359\n",
      "Epoch: 64/100... Step: 4760... Loss: 1.4227... Val Loss: 1.3332\n",
      "Epoch: 64/100... Step: 4770... Loss: 1.4092... Val Loss: 1.3373\n",
      "Epoch: 64/100... Step: 4780... Loss: 1.4165... Val Loss: 1.3337\n",
      "Epoch: 64/100... Step: 4790... Loss: 1.4142... Val Loss: 1.3351\n",
      "Epoch: 64/100... Step: 4800... Loss: 1.4548... Val Loss: 1.3339\n",
      "Epoch: 65/100... Step: 4810... Loss: 1.4087... Val Loss: 1.3336\n",
      "Epoch: 65/100... Step: 4820... Loss: 1.4133... Val Loss: 1.3299\n",
      "Epoch: 65/100... Step: 4830... Loss: 1.3838... Val Loss: 1.3307\n",
      "Epoch: 65/100... Step: 4840... Loss: 1.3895... Val Loss: 1.3321\n",
      "Epoch: 65/100... Step: 4850... Loss: 1.4174... Val Loss: 1.3302\n",
      "Epoch: 65/100... Step: 4860... Loss: 1.3877... Val Loss: 1.3317\n",
      "Epoch: 65/100... Step: 4870... Loss: 1.3979... Val Loss: 1.3292\n",
      "Epoch: 66/100... Step: 4880... Loss: 1.4259... Val Loss: 1.3296\n",
      "Epoch: 66/100... Step: 4890... Loss: 1.3974... Val Loss: 1.3296\n",
      "Epoch: 66/100... Step: 4900... Loss: 1.4108... Val Loss: 1.3288\n",
      "Epoch: 66/100... Step: 4910... Loss: 1.4173... Val Loss: 1.3287\n",
      "Epoch: 66/100... Step: 4920... Loss: 1.4015... Val Loss: 1.3307\n",
      "Epoch: 66/100... Step: 4930... Loss: 1.4112... Val Loss: 1.3280\n",
      "Epoch: 66/100... Step: 4940... Loss: 1.4142... Val Loss: 1.3292\n",
      "Epoch: 66/100... Step: 4950... Loss: 1.4471... Val Loss: 1.3272\n",
      "Epoch: 67/100... Step: 4960... Loss: 1.3987... Val Loss: 1.3275\n",
      "Epoch: 67/100... Step: 4970... Loss: 1.4094... Val Loss: 1.3245\n",
      "Epoch: 67/100... Step: 4980... Loss: 1.3803... Val Loss: 1.3275\n",
      "Epoch: 67/100... Step: 4990... Loss: 1.3850... Val Loss: 1.3293\n",
      "Epoch: 67/100... Step: 5000... Loss: 1.4108... Val Loss: 1.3249\n",
      "Epoch: 67/100... Step: 5010... Loss: 1.3800... Val Loss: 1.3268\n",
      "Epoch: 67/100... Step: 5020... Loss: 1.3877... Val Loss: 1.3254\n",
      "Epoch: 68/100... Step: 5030... Loss: 1.4192... Val Loss: 1.3244\n",
      "Epoch: 68/100... Step: 5040... Loss: 1.3871... Val Loss: 1.3237\n",
      "Epoch: 68/100... Step: 5050... Loss: 1.4021... Val Loss: 1.3240\n",
      "Epoch: 68/100... Step: 5060... Loss: 1.4053... Val Loss: 1.3234\n",
      "Epoch: 68/100... Step: 5070... Loss: 1.3932... Val Loss: 1.3244\n",
      "Epoch: 68/100... Step: 5080... Loss: 1.3991... Val Loss: 1.3220\n",
      "Epoch: 68/100... Step: 5090... Loss: 1.4050... Val Loss: 1.3228\n",
      "Epoch: 68/100... Step: 5100... Loss: 1.4402... Val Loss: 1.3198\n",
      "Epoch: 69/100... Step: 5110... Loss: 1.3942... Val Loss: 1.3226\n",
      "Epoch: 69/100... Step: 5120... Loss: 1.3979... Val Loss: 1.3186\n",
      "Epoch: 69/100... Step: 5130... Loss: 1.3705... Val Loss: 1.3227\n",
      "Epoch: 69/100... Step: 5140... Loss: 1.3758... Val Loss: 1.3214\n",
      "Epoch: 69/100... Step: 5150... Loss: 1.3995... Val Loss: 1.3199\n",
      "Epoch: 69/100... Step: 5160... Loss: 1.3696... Val Loss: 1.3199\n",
      "Epoch: 69/100... Step: 5170... Loss: 1.3778... Val Loss: 1.3176\n",
      "Epoch: 70/100... Step: 5180... Loss: 1.4085... Val Loss: 1.3178\n",
      "Epoch: 70/100... Step: 5190... Loss: 1.3847... Val Loss: 1.3180\n",
      "Epoch: 70/100... Step: 5200... Loss: 1.4009... Val Loss: 1.3181\n",
      "Epoch: 70/100... Step: 5210... Loss: 1.3970... Val Loss: 1.3176\n",
      "Epoch: 70/100... Step: 5220... Loss: 1.3898... Val Loss: 1.3200\n",
      "Epoch: 70/100... Step: 5230... Loss: 1.3982... Val Loss: 1.3167\n",
      "Epoch: 70/100... Step: 5240... Loss: 1.3942... Val Loss: 1.3180\n",
      "Epoch: 70/100... Step: 5250... Loss: 1.4353... Val Loss: 1.3172\n",
      "Epoch: 71/100... Step: 5260... Loss: 1.3850... Val Loss: 1.3156\n",
      "Epoch: 71/100... Step: 5270... Loss: 1.3866... Val Loss: 1.3133\n",
      "Epoch: 71/100... Step: 5280... Loss: 1.3643... Val Loss: 1.3180\n",
      "Epoch: 71/100... Step: 5290... Loss: 1.3687... Val Loss: 1.3177\n",
      "Epoch: 71/100... Step: 5300... Loss: 1.3953... Val Loss: 1.3176\n",
      "Epoch: 71/100... Step: 5310... Loss: 1.3675... Val Loss: 1.3155\n",
      "Epoch: 71/100... Step: 5320... Loss: 1.3755... Val Loss: 1.3136\n",
      "Epoch: 72/100... Step: 5330... Loss: 1.4048... Val Loss: 1.3153\n",
      "Epoch: 72/100... Step: 5340... Loss: 1.3817... Val Loss: 1.3150\n",
      "Epoch: 72/100... Step: 5350... Loss: 1.3953... Val Loss: 1.3153\n",
      "Epoch: 72/100... Step: 5360... Loss: 1.3870... Val Loss: 1.3141\n",
      "Epoch: 72/100... Step: 5370... Loss: 1.3817... Val Loss: 1.3149\n",
      "Epoch: 72/100... Step: 5380... Loss: 1.3857... Val Loss: 1.3135\n",
      "Epoch: 72/100... Step: 5390... Loss: 1.3851... Val Loss: 1.3143\n",
      "Epoch: 72/100... Step: 5400... Loss: 1.4232... Val Loss: 1.3113\n",
      "Epoch: 73/100... Step: 5410... Loss: 1.3792... Val Loss: 1.3100\n",
      "Epoch: 73/100... Step: 5420... Loss: 1.3884... Val Loss: 1.3085\n",
      "Epoch: 73/100... Step: 5430... Loss: 1.3593... Val Loss: 1.3103\n",
      "Epoch: 73/100... Step: 5440... Loss: 1.3622... Val Loss: 1.3103\n",
      "Epoch: 73/100... Step: 5450... Loss: 1.3895... Val Loss: 1.3094\n",
      "Epoch: 73/100... Step: 5460... Loss: 1.3595... Val Loss: 1.3099\n",
      "Epoch: 73/100... Step: 5470... Loss: 1.3644... Val Loss: 1.3097\n",
      "Epoch: 74/100... Step: 5480... Loss: 1.3976... Val Loss: 1.3084\n",
      "Epoch: 74/100... Step: 5490... Loss: 1.3716... Val Loss: 1.3100\n",
      "Epoch: 74/100... Step: 5500... Loss: 1.3838... Val Loss: 1.3102\n",
      "Epoch: 74/100... Step: 5510... Loss: 1.3802... Val Loss: 1.3095\n",
      "Epoch: 74/100... Step: 5520... Loss: 1.3735... Val Loss: 1.3111\n",
      "Epoch: 74/100... Step: 5530... Loss: 1.3805... Val Loss: 1.3069\n",
      "Epoch: 74/100... Step: 5540... Loss: 1.3854... Val Loss: 1.3078\n",
      "Epoch: 74/100... Step: 5550... Loss: 1.4196... Val Loss: 1.3079\n",
      "Epoch: 75/100... Step: 5560... Loss: 1.3722... Val Loss: 1.3059\n",
      "Epoch: 75/100... Step: 5570... Loss: 1.3753... Val Loss: 1.3046\n",
      "Epoch: 75/100... Step: 5580... Loss: 1.3535... Val Loss: 1.3042\n",
      "Epoch: 75/100... Step: 5590... Loss: 1.3567... Val Loss: 1.3076\n",
      "Epoch: 75/100... Step: 5600... Loss: 1.3805... Val Loss: 1.3056\n",
      "Epoch: 75/100... Step: 5610... Loss: 1.3483... Val Loss: 1.3069\n",
      "Epoch: 75/100... Step: 5620... Loss: 1.3648... Val Loss: 1.3037\n",
      "Epoch: 76/100... Step: 5630... Loss: 1.3908... Val Loss: 1.3057\n",
      "Epoch: 76/100... Step: 5640... Loss: 1.3677... Val Loss: 1.3067\n",
      "Epoch: 76/100... Step: 5650... Loss: 1.3805... Val Loss: 1.3061\n",
      "Epoch: 76/100... Step: 5660... Loss: 1.3800... Val Loss: 1.3041\n",
      "Epoch: 76/100... Step: 5670... Loss: 1.3700... Val Loss: 1.3059\n",
      "Epoch: 76/100... Step: 5680... Loss: 1.3764... Val Loss: 1.3065\n",
      "Epoch: 76/100... Step: 5690... Loss: 1.3728... Val Loss: 1.3067\n",
      "Epoch: 76/100... Step: 5700... Loss: 1.4103... Val Loss: 1.3019\n",
      "Epoch: 77/100... Step: 5710... Loss: 1.3670... Val Loss: 1.3021\n",
      "Epoch: 77/100... Step: 5720... Loss: 1.3715... Val Loss: 1.3028\n",
      "Epoch: 77/100... Step: 5730... Loss: 1.3431... Val Loss: 1.3032\n",
      "Epoch: 77/100... Step: 5740... Loss: 1.3522... Val Loss: 1.3033\n",
      "Epoch: 77/100... Step: 5750... Loss: 1.3743... Val Loss: 1.3027\n",
      "Epoch: 77/100... Step: 5760... Loss: 1.3507... Val Loss: 1.3031\n",
      "Epoch: 77/100... Step: 5770... Loss: 1.3594... Val Loss: 1.3012\n",
      "Epoch: 78/100... Step: 5780... Loss: 1.3899... Val Loss: 1.2999\n",
      "Epoch: 78/100... Step: 5790... Loss: 1.3596... Val Loss: 1.2997\n",
      "Epoch: 78/100... Step: 5800... Loss: 1.3710... Val Loss: 1.3014\n",
      "Epoch: 78/100... Step: 5810... Loss: 1.3724... Val Loss: 1.2986\n",
      "Epoch: 78/100... Step: 5820... Loss: 1.3643... Val Loss: 1.3019\n",
      "Epoch: 78/100... Step: 5830... Loss: 1.3698... Val Loss: 1.3009\n",
      "Epoch: 78/100... Step: 5840... Loss: 1.3764... Val Loss: 1.3011\n",
      "Epoch: 78/100... Step: 5850... Loss: 1.4111... Val Loss: 1.2993\n",
      "Epoch: 79/100... Step: 5860... Loss: 1.3628... Val Loss: 1.2976\n",
      "Epoch: 79/100... Step: 5870... Loss: 1.3696... Val Loss: 1.2961\n",
      "Epoch: 79/100... Step: 5880... Loss: 1.3412... Val Loss: 1.2982\n",
      "Epoch: 79/100... Step: 5890... Loss: 1.3448... Val Loss: 1.3006\n",
      "Epoch: 79/100... Step: 5900... Loss: 1.3734... Val Loss: 1.2988\n",
      "Epoch: 79/100... Step: 5910... Loss: 1.3397... Val Loss: 1.2965\n",
      "Epoch: 79/100... Step: 5920... Loss: 1.3525... Val Loss: 1.2965\n",
      "Epoch: 80/100... Step: 5930... Loss: 1.3834... Val Loss: 1.2969\n",
      "Epoch: 80/100... Step: 5940... Loss: 1.3535... Val Loss: 1.2975\n",
      "Epoch: 80/100... Step: 5950... Loss: 1.3683... Val Loss: 1.2981\n",
      "Epoch: 80/100... Step: 5960... Loss: 1.3690... Val Loss: 1.2946\n",
      "Epoch: 80/100... Step: 5970... Loss: 1.3613... Val Loss: 1.2976\n",
      "Epoch: 80/100... Step: 5980... Loss: 1.3596... Val Loss: 1.2960\n",
      "Epoch: 80/100... Step: 5990... Loss: 1.3638... Val Loss: 1.2961\n",
      "Epoch: 80/100... Step: 6000... Loss: 1.4018... Val Loss: 1.2949\n",
      "Epoch: 81/100... Step: 6010... Loss: 1.3541... Val Loss: 1.2934\n",
      "Epoch: 81/100... Step: 6020... Loss: 1.3643... Val Loss: 1.2922\n",
      "Epoch: 81/100... Step: 6030... Loss: 1.3351... Val Loss: 1.2957\n",
      "Epoch: 81/100... Step: 6040... Loss: 1.3427... Val Loss: 1.2965\n",
      "Epoch: 81/100... Step: 6050... Loss: 1.3678... Val Loss: 1.2939\n",
      "Epoch: 81/100... Step: 6060... Loss: 1.3388... Val Loss: 1.2945\n",
      "Epoch: 81/100... Step: 6070... Loss: 1.3459... Val Loss: 1.2937\n",
      "Epoch: 82/100... Step: 6080... Loss: 1.3763... Val Loss: 1.2937\n",
      "Epoch: 82/100... Step: 6090... Loss: 1.3423... Val Loss: 1.2935\n",
      "Epoch: 82/100... Step: 6100... Loss: 1.3652... Val Loss: 1.2924\n",
      "Epoch: 82/100... Step: 6110... Loss: 1.3582... Val Loss: 1.2926\n",
      "Epoch: 82/100... Step: 6120... Loss: 1.3543... Val Loss: 1.2931\n",
      "Epoch: 82/100... Step: 6130... Loss: 1.3592... Val Loss: 1.2903\n",
      "Epoch: 82/100... Step: 6140... Loss: 1.3604... Val Loss: 1.2933\n",
      "Epoch: 82/100... Step: 6150... Loss: 1.3990... Val Loss: 1.2919\n",
      "Epoch: 83/100... Step: 6160... Loss: 1.3509... Val Loss: 1.2901\n",
      "Epoch: 83/100... Step: 6170... Loss: 1.3511... Val Loss: 1.2880\n",
      "Epoch: 83/100... Step: 6180... Loss: 1.3310... Val Loss: 1.2904\n",
      "Epoch: 83/100... Step: 6190... Loss: 1.3377... Val Loss: 1.2921\n",
      "Epoch: 83/100... Step: 6200... Loss: 1.3578... Val Loss: 1.2892\n",
      "Epoch: 83/100... Step: 6210... Loss: 1.3303... Val Loss: 1.2905\n",
      "Epoch: 83/100... Step: 6220... Loss: 1.3418... Val Loss: 1.2894\n",
      "Epoch: 84/100... Step: 6230... Loss: 1.3732... Val Loss: 1.2894\n",
      "Epoch: 84/100... Step: 6240... Loss: 1.3445... Val Loss: 1.2917\n",
      "Epoch: 84/100... Step: 6250... Loss: 1.3601... Val Loss: 1.2905\n",
      "Epoch: 84/100... Step: 6260... Loss: 1.3501... Val Loss: 1.2887\n",
      "Epoch: 84/100... Step: 6270... Loss: 1.3423... Val Loss: 1.2920\n",
      "Epoch: 84/100... Step: 6280... Loss: 1.3525... Val Loss: 1.2897\n",
      "Epoch: 84/100... Step: 6290... Loss: 1.3555... Val Loss: 1.2901\n",
      "Epoch: 84/100... Step: 6300... Loss: 1.3915... Val Loss: 1.2886\n",
      "Epoch: 85/100... Step: 6310... Loss: 1.3436... Val Loss: 1.2888\n",
      "Epoch: 85/100... Step: 6320... Loss: 1.3509... Val Loss: 1.2856\n",
      "Epoch: 85/100... Step: 6330... Loss: 1.3254... Val Loss: 1.2866\n",
      "Epoch: 85/100... Step: 6340... Loss: 1.3317... Val Loss: 1.2873\n",
      "Epoch: 85/100... Step: 6350... Loss: 1.3580... Val Loss: 1.2861\n",
      "Epoch: 85/100... Step: 6360... Loss: 1.3278... Val Loss: 1.2872\n",
      "Epoch: 85/100... Step: 6370... Loss: 1.3348... Val Loss: 1.2860\n",
      "Epoch: 86/100... Step: 6380... Loss: 1.3696... Val Loss: 1.2851\n",
      "Epoch: 86/100... Step: 6390... Loss: 1.3402... Val Loss: 1.2867\n",
      "Epoch: 86/100... Step: 6400... Loss: 1.3529... Val Loss: 1.2877\n",
      "Epoch: 86/100... Step: 6410... Loss: 1.3534... Val Loss: 1.2860\n",
      "Epoch: 86/100... Step: 6420... Loss: 1.3390... Val Loss: 1.2868\n",
      "Epoch: 86/100... Step: 6430... Loss: 1.3457... Val Loss: 1.2864\n",
      "Epoch: 86/100... Step: 6440... Loss: 1.3503... Val Loss: 1.2883\n",
      "Epoch: 86/100... Step: 6450... Loss: 1.3881... Val Loss: 1.2852\n",
      "Epoch: 87/100... Step: 6460... Loss: 1.3421... Val Loss: 1.2848\n",
      "Epoch: 87/100... Step: 6470... Loss: 1.3452... Val Loss: 1.2848\n",
      "Epoch: 87/100... Step: 6480... Loss: 1.3209... Val Loss: 1.2842\n",
      "Epoch: 87/100... Step: 6490... Loss: 1.3261... Val Loss: 1.2861\n",
      "Epoch: 87/100... Step: 6500... Loss: 1.3499... Val Loss: 1.2852\n",
      "Epoch: 87/100... Step: 6510... Loss: 1.3263... Val Loss: 1.2849\n",
      "Epoch: 87/100... Step: 6520... Loss: 1.3318... Val Loss: 1.2833\n",
      "Epoch: 88/100... Step: 6530... Loss: 1.3645... Val Loss: 1.2842\n",
      "Epoch: 88/100... Step: 6540... Loss: 1.3302... Val Loss: 1.2844\n",
      "Epoch: 88/100... Step: 6550... Loss: 1.3528... Val Loss: 1.2811\n",
      "Epoch: 88/100... Step: 6560... Loss: 1.3459... Val Loss: 1.2819\n",
      "Epoch: 88/100... Step: 6570... Loss: 1.3355... Val Loss: 1.2856\n",
      "Epoch: 88/100... Step: 6580... Loss: 1.3446... Val Loss: 1.2821\n",
      "Epoch: 88/100... Step: 6590... Loss: 1.3484... Val Loss: 1.2818\n",
      "Epoch: 88/100... Step: 6600... Loss: 1.3845... Val Loss: 1.2827\n",
      "Epoch: 89/100... Step: 6610... Loss: 1.3357... Val Loss: 1.2837\n",
      "Epoch: 89/100... Step: 6620... Loss: 1.3439... Val Loss: 1.2786\n",
      "Epoch: 89/100... Step: 6630... Loss: 1.3163... Val Loss: 1.2800\n",
      "Epoch: 89/100... Step: 6640... Loss: 1.3193... Val Loss: 1.2847\n",
      "Epoch: 89/100... Step: 6650... Loss: 1.3457... Val Loss: 1.2808\n",
      "Epoch: 89/100... Step: 6660... Loss: 1.3188... Val Loss: 1.2808\n",
      "Epoch: 89/100... Step: 6670... Loss: 1.3273... Val Loss: 1.2812\n",
      "Epoch: 90/100... Step: 6680... Loss: 1.3553... Val Loss: 1.2784\n",
      "Epoch: 90/100... Step: 6690... Loss: 1.3302... Val Loss: 1.2783\n",
      "Epoch: 90/100... Step: 6700... Loss: 1.3433... Val Loss: 1.2837\n",
      "Epoch: 90/100... Step: 6710... Loss: 1.3406... Val Loss: 1.2807\n",
      "Epoch: 90/100... Step: 6720... Loss: 1.3337... Val Loss: 1.2792\n",
      "Epoch: 90/100... Step: 6730... Loss: 1.3386... Val Loss: 1.2803\n",
      "Epoch: 90/100... Step: 6740... Loss: 1.3420... Val Loss: 1.2821\n",
      "Epoch: 90/100... Step: 6750... Loss: 1.3813... Val Loss: 1.2781\n",
      "Epoch: 91/100... Step: 6760... Loss: 1.3313... Val Loss: 1.2801\n",
      "Epoch: 91/100... Step: 6770... Loss: 1.3373... Val Loss: 1.2775\n",
      "Epoch: 91/100... Step: 6780... Loss: 1.3083... Val Loss: 1.2781\n",
      "Epoch: 91/100... Step: 6790... Loss: 1.3163... Val Loss: 1.2815\n",
      "Epoch: 91/100... Step: 6800... Loss: 1.3465... Val Loss: 1.2779\n",
      "Epoch: 91/100... Step: 6810... Loss: 1.3210... Val Loss: 1.2801\n",
      "Epoch: 91/100... Step: 6820... Loss: 1.3211... Val Loss: 1.2787\n",
      "Epoch: 92/100... Step: 6830... Loss: 1.3546... Val Loss: 1.2777\n",
      "Epoch: 92/100... Step: 6840... Loss: 1.3260... Val Loss: 1.2784\n",
      "Epoch: 92/100... Step: 6850... Loss: 1.3399... Val Loss: 1.2763\n",
      "Epoch: 92/100... Step: 6860... Loss: 1.3385... Val Loss: 1.2771\n",
      "Epoch: 92/100... Step: 6870... Loss: 1.3289... Val Loss: 1.2763\n",
      "Epoch: 92/100... Step: 6880... Loss: 1.3347... Val Loss: 1.2774\n",
      "Epoch: 92/100... Step: 6890... Loss: 1.3355... Val Loss: 1.2779\n",
      "Epoch: 92/100... Step: 6900... Loss: 1.3765... Val Loss: 1.2763\n",
      "Epoch: 93/100... Step: 6910... Loss: 1.3259... Val Loss: 1.2795\n",
      "Epoch: 93/100... Step: 6920... Loss: 1.3364... Val Loss: 1.2740\n",
      "Epoch: 93/100... Step: 6930... Loss: 1.3062... Val Loss: 1.2758\n",
      "Epoch: 93/100... Step: 6940... Loss: 1.3145... Val Loss: 1.2771\n",
      "Epoch: 93/100... Step: 6950... Loss: 1.3374... Val Loss: 1.2759\n",
      "Epoch: 93/100... Step: 6960... Loss: 1.3127... Val Loss: 1.2750\n",
      "Epoch: 93/100... Step: 6970... Loss: 1.3178... Val Loss: 1.2754\n",
      "Epoch: 94/100... Step: 6980... Loss: 1.3479... Val Loss: 1.2738\n",
      "Epoch: 94/100... Step: 6990... Loss: 1.3180... Val Loss: 1.2758\n",
      "Epoch: 94/100... Step: 7000... Loss: 1.3350... Val Loss: 1.2729\n",
      "Epoch: 94/100... Step: 7010... Loss: 1.3318... Val Loss: 1.2739\n",
      "Epoch: 94/100... Step: 7020... Loss: 1.3247... Val Loss: 1.2753\n",
      "Epoch: 94/100... Step: 7030... Loss: 1.3304... Val Loss: 1.2742\n",
      "Epoch: 94/100... Step: 7040... Loss: 1.3325... Val Loss: 1.2769\n",
      "Epoch: 94/100... Step: 7050... Loss: 1.3729... Val Loss: 1.2741\n",
      "Epoch: 95/100... Step: 7060... Loss: 1.3264... Val Loss: 1.2742\n",
      "Epoch: 95/100... Step: 7070... Loss: 1.3320... Val Loss: 1.2710\n",
      "Epoch: 95/100... Step: 7080... Loss: 1.3022... Val Loss: 1.2737\n",
      "Epoch: 95/100... Step: 7090... Loss: 1.3109... Val Loss: 1.2754\n",
      "Epoch: 95/100... Step: 7100... Loss: 1.3343... Val Loss: 1.2716\n",
      "Epoch: 95/100... Step: 7110... Loss: 1.3064... Val Loss: 1.2765\n",
      "Epoch: 95/100... Step: 7120... Loss: 1.3149... Val Loss: 1.2720\n",
      "Epoch: 96/100... Step: 7130... Loss: 1.3474... Val Loss: 1.2729\n",
      "Epoch: 96/100... Step: 7140... Loss: 1.3172... Val Loss: 1.2738\n",
      "Epoch: 96/100... Step: 7150... Loss: 1.3329... Val Loss: 1.2725\n",
      "Epoch: 96/100... Step: 7160... Loss: 1.3272... Val Loss: 1.2738\n",
      "Epoch: 96/100... Step: 7170... Loss: 1.3198... Val Loss: 1.2726\n",
      "Epoch: 96/100... Step: 7180... Loss: 1.3303... Val Loss: 1.2735\n",
      "Epoch: 96/100... Step: 7190... Loss: 1.3268... Val Loss: 1.2719\n",
      "Epoch: 96/100... Step: 7200... Loss: 1.3723... Val Loss: 1.2700\n",
      "Epoch: 97/100... Step: 7210... Loss: 1.3215... Val Loss: 1.2724\n",
      "Epoch: 97/100... Step: 7220... Loss: 1.3321... Val Loss: 1.2685\n",
      "Epoch: 97/100... Step: 7230... Loss: 1.3002... Val Loss: 1.2728\n",
      "Epoch: 97/100... Step: 7240... Loss: 1.3045... Val Loss: 1.2713\n",
      "Epoch: 97/100... Step: 7250... Loss: 1.3312... Val Loss: 1.2713\n",
      "Epoch: 97/100... Step: 7260... Loss: 1.3038... Val Loss: 1.2707\n",
      "Epoch: 97/100... Step: 7270... Loss: 1.3151... Val Loss: 1.2688\n",
      "Epoch: 98/100... Step: 7280... Loss: 1.3448... Val Loss: 1.2709\n",
      "Epoch: 98/100... Step: 7290... Loss: 1.3136... Val Loss: 1.2682\n",
      "Epoch: 98/100... Step: 7300... Loss: 1.3257... Val Loss: 1.2718\n",
      "Epoch: 98/100... Step: 7310... Loss: 1.3265... Val Loss: 1.2691\n",
      "Epoch: 98/100... Step: 7320... Loss: 1.3183... Val Loss: 1.2729\n",
      "Epoch: 98/100... Step: 7330... Loss: 1.3218... Val Loss: 1.2701\n",
      "Epoch: 98/100... Step: 7340... Loss: 1.3294... Val Loss: 1.2697\n",
      "Epoch: 98/100... Step: 7350... Loss: 1.3641... Val Loss: 1.2682\n",
      "Epoch: 99/100... Step: 7360... Loss: 1.3177... Val Loss: 1.2708\n",
      "Epoch: 99/100... Step: 7370... Loss: 1.3269... Val Loss: 1.2662\n",
      "Epoch: 99/100... Step: 7380... Loss: 1.2948... Val Loss: 1.2738\n",
      "Epoch: 99/100... Step: 7390... Loss: 1.2960... Val Loss: 1.2697\n",
      "Epoch: 99/100... Step: 7400... Loss: 1.3278... Val Loss: 1.2696\n",
      "Epoch: 99/100... Step: 7410... Loss: 1.3025... Val Loss: 1.2684\n",
      "Epoch: 99/100... Step: 7420... Loss: 1.3075... Val Loss: 1.2674\n",
      "Epoch: 100/100... Step: 7430... Loss: 1.3338... Val Loss: 1.2670\n",
      "Epoch: 100/100... Step: 7440... Loss: 1.2999... Val Loss: 1.2703\n",
      "Epoch: 100/100... Step: 7450... Loss: 1.3250... Val Loss: 1.2694\n",
      "Epoch: 100/100... Step: 7460... Loss: 1.3168... Val Loss: 1.2669\n",
      "Epoch: 100/100... Step: 7470... Loss: 1.3123... Val Loss: 1.2718\n",
      "Epoch: 100/100... Step: 7480... Loss: 1.3181... Val Loss: 1.2666\n",
      "Epoch: 100/100... Step: 7490... Loss: 1.3189... Val Loss: 1.2680\n",
      "Epoch: 100/100... Step: 7500... Loss: 1.3638... Val Loss: 1.2666\n"
     ]
    }
   ],
   "source": [
    "batch_size = 256## YOUR CODE HERE\n",
    "seq_length = 150## YOUR CODE HERE\n",
    "# start small if you are just testing initial behavior\n",
    "n_epochs = 100## YOUR CODE HERE\n",
    "\n",
    "# train the model\n",
    "train(net, encoded, epochs=n_epochs, batch_size=batch_size, seq_length=seq_length, lr=0.001, print_every=10)"
   ]
  },
  {
   "cell_type": "markdown",
   "metadata": {
    "id": "n-Nqbv1CICR7"
   },
   "source": [
    "##Step 6. Making Predictions"
   ]
  },
  {
   "cell_type": "markdown",
   "metadata": {
    "id": "K2sJhx5iceEm"
   },
   "source": [
    "Now that the model is trained, we want to predict the next character for the sequence of input symbols. We pass a character as input, and the network predicts the next character. Then we take that character, pass it as input, and get another predicted character, and so on.\n",
    "\n",
    "### Details of a `predict`  function\n",
    "\n",
    "Our RNN's output comes from a fully connected layer and outputs the **distribution of the next character scores**. To actually get the next character, we use the softmax function, which gives us a **probability** distribution that we can then choose to predict the next character.\n",
    "\n",
    "**Top K sampling**\n",
    "\n",
    "Our predictions are based on a categorical distribution of probabilities for all possible characters. We can make the sampling process smarter by looking at only some of the most likely $K$ characters. This will prevent the network from giving us completely absurd characters, and will also allow some noise and randomness to be introduced into the selected text. This technique is called [top K](https://pytorch.org/docs/stable/generated/torch.topk.html#torch.topk) sampling."
   ]
  },
  {
   "cell_type": "code",
   "execution_count": 17,
   "metadata": {
    "id": "QEIRW_B2ceEm"
   },
   "outputs": [],
   "source": [
    "def predict(net, char, h=None, top_k=None):\n",
    "        ''' Given a character, predict the next character.\n",
    "            Returns the predicted character and the hidden state.\n",
    "        '''\n",
    "        \n",
    "        # tensor inputs\n",
    "        x = np.array([[net.char2int[char]]])\n",
    "        x = one_hot_encode(x, len(net.chars))\n",
    "        inputs = torch.from_numpy(x)\n",
    "        \n",
    "        if(train_on_gpu):\n",
    "            inputs = inputs.cuda()\n",
    "        \n",
    "        # detach hidden state from history\n",
    "        h = tuple([each.data for each in h])\n",
    "        # get the output of the model\n",
    "        out, h = net(inputs, h)\n",
    "\n",
    "        # get the character probabilities\n",
    "        p = F.softmax(out, dim=1).data\n",
    "        if(train_on_gpu):\n",
    "            p = p.cpu() # move to cpu\n",
    "        \n",
    "        # get top characters\n",
    "        if top_k is None:\n",
    "            top_ch = np.arange(len(net.chars))\n",
    "        else:\n",
    "            p, top_ch = p.topk(top_k)\n",
    "            top_ch = top_ch.numpy().squeeze()\n",
    "        \n",
    "        # select the likely next character with some element of randomness\n",
    "        p = p.numpy().squeeze()\n",
    "        char = np.random.choice(top_ch, p=p/p.sum())\n",
    "        \n",
    "        # return the encoded value of the predicted char and the hidden state\n",
    "        return net.int2char[char], h"
   ]
  },
  {
   "cell_type": "markdown",
   "metadata": {
    "id": "OG38j3gQceEm"
   },
   "source": [
    "To generate the text, you need to feed the initial characters, let's call them `prime`."
   ]
  },
  {
   "cell_type": "code",
   "execution_count": 18,
   "metadata": {
    "id": "P9vpB5gRceEm"
   },
   "outputs": [],
   "source": [
    "def sample(net, size, prime='The', top_k=None):\n",
    "        \n",
    "    if(train_on_gpu):\n",
    "        net.cuda()\n",
    "    else:\n",
    "        net.cpu()\n",
    "    \n",
    "    net.eval() # eval mode\n",
    "    \n",
    "    # First off, run through the prime characters\n",
    "    chars = [ch for ch in prime]\n",
    "    h = net.init_hidden(1)\n",
    "    for ch in prime:\n",
    "        char, h = predict(net, ch, h, top_k=top_k)\n",
    "\n",
    "    chars.append(char)\n",
    "    \n",
    "    # Now pass in the previous character and get a new one\n",
    "    for ii in range(size):\n",
    "        char, h = predict(net, chars[-1], h, top_k=top_k)\n",
    "        chars.append(char)\n",
    "\n",
    "    return ''.join(chars)"
   ]
  },
  {
   "cell_type": "code",
   "execution_count": 20,
   "metadata": {
    "colab": {
     "base_uri": "https://localhost:8080/"
    },
    "id": "BqmFA9eEceEm",
    "outputId": "df57ac2f-0ca4-4802-e2c8-e838dc08c846"
   },
   "outputs": [
    {
     "name": "stdout",
     "output_type": "stream",
     "text": [
      "Annal was the despention of the white too world, and then told him\n",
      "that they all were being and\n",
      "wine to tell a smile. She was to see an incomerent times and told how the moming he went to the sound with him on his\n",
      "cap,\n",
      "but whenere the crowd of thought and soldiers were something, with his sabers.\n",
      "\n",
      "A sharply at once showed the carriage at that\n",
      "still, began speaking\n",
      "whether he was as is always astonies who\n",
      "to see the same thousand things are down. At his colonel and answered all the distance.\n",
      "\n",
      "His feeling\n",
      "along the cloth, and the figure of the sense of the commander in\n",
      "chief and a count and the strength through his horse. To see it would be and had answered\n",
      "a mind with steps, as if they were a cold officer’s attractory of what he always all the forests, who should have any\n",
      "staff officer with\n",
      "stern tones and a country, straight at the state of the clear where would say, he was the conditions of the carpace, holding off. The prince said this with the position was all a made the feelings of sigh\n"
     ]
    }
   ],
   "source": [
    "print(sample(net, 1000, prime='Anna', top_k=5))"
   ]
  },
  {
   "cell_type": "code",
   "execution_count": null,
   "metadata": {
    "id": "TH1ag4h1ceEm"
   },
   "outputs": [],
   "source": []
  }
 ],
 "metadata": {
  "accelerator": "GPU",
  "colab": {
   "collapsed_sections": [],
   "name": "SGA2_Text Generation.ipynb",
   "provenance": []
  },
  "kernelspec": {
   "display_name": "Python 3 (ipykernel)",
   "language": "python",
   "name": "python3"
  },
  "language_info": {
   "codemirror_mode": {
    "name": "ipython",
    "version": 3
   },
   "file_extension": ".py",
   "mimetype": "text/x-python",
   "name": "python",
   "nbconvert_exporter": "python",
   "pygments_lexer": "ipython3",
   "version": "3.8.12"
  }
 },
 "nbformat": 4,
 "nbformat_minor": 4
}
