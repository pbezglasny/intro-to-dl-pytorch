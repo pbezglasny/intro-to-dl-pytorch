{
 "cells": [
  {
   "cell_type": "markdown",
   "metadata": {
    "id": "1Oiu5Fabu3ue"
   },
   "source": [
    "# Text Generation\n",
    "## Character-Level LSTM in PyTorch"
   ]
  },
  {
   "cell_type": "markdown",
   "metadata": {
    "id": "1W8R8WgZceEk"
   },
   "source": [
    "In this assignment, you will train a Reccurent Neural Network to generate a text one character at the time. The task is divided into steps for simpler navigation.\n",
    "\n",
    "Let's start!"
   ]
  },
  {
   "cell_type": "code",
   "execution_count": 1,
   "metadata": {
    "id": "sqUOE2flceEl"
   },
   "outputs": [],
   "source": [
    "import numpy as np\n",
    "import torch\n",
    "from torch import nn\n",
    "import torch.nn.functional as F"
   ]
  },
  {
   "cell_type": "markdown",
   "metadata": {
    "id": "-JY1C-COvVRb"
   },
   "source": [
    "##Step 0. Data"
   ]
  },
  {
   "cell_type": "markdown",
   "metadata": {
    "id": "_wHfCDyzceEl"
   },
   "source": [
    "As training data, we will use \"War and Peace\" by Leo Tolstoy. The book in plain text format can be downloaded from [Project Gutenberg website ](https://www.gutenberg.org/ebooks/2600).\n",
    "\n",
    "Download and load data."
   ]
  },
  {
   "cell_type": "code",
   "execution_count": 2,
   "metadata": {
    "id": "CnskyXUl4K3I"
   },
   "outputs": [],
   "source": [
    "# open text file and read in data as `text`\n",
    "with open('2600-0.txt', 'r') as f:\n",
    "    text = f.read()"
   ]
  },
  {
   "cell_type": "markdown",
   "metadata": {
    "id": "Jp1Ljc4mceEl"
   },
   "source": [
    "Let's view the first 100 symbols:"
   ]
  },
  {
   "cell_type": "code",
   "execution_count": 3,
   "metadata": {
    "colab": {
     "base_uri": "https://localhost:8080/",
     "height": 35
    },
    "id": "NUb_mCJS5W5i",
    "outputId": "73797486-20b2-4031-992f-5fb728db201a"
   },
   "outputs": [
    {
     "data": {
      "text/plain": [
       "'\\ufeffThe Project Gutenberg eBook of War and Peace, by Leo Tolstoy\\n\\nThis eBook is for the use of anyone a'"
      ]
     },
     "execution_count": 3,
     "metadata": {},
     "output_type": "execute_result"
    }
   ],
   "source": [
    "text[:100]"
   ]
  },
  {
   "cell_type": "markdown",
   "metadata": {
    "id": "O4TwJP8f5eOt"
   },
   "source": [
    "The book starts at `7277`:"
   ]
  },
  {
   "cell_type": "code",
   "execution_count": 4,
   "metadata": {
    "colab": {
     "base_uri": "https://localhost:8080/",
     "height": 52
    },
    "id": "7VctmLQfceEl",
    "outputId": "5db9958a-05c7-4625-d072-42444692360c"
   },
   "outputs": [
    {
     "data": {
      "text/plain": [
       "'TER II\\n\\n    CHAPTER III\\n\\n    CHAPTER IV\\n\\n    CHAPTER V\\n\\n    CHAPTER VI\\n\\n    CHAPTER VII\\n\\n    CHAPTER VIII\\n\\n    CHAPTER IX\\n\\n    CHAPTER X\\n\\n    CHAPTER XI\\n\\n    CHAPTER XII\\n\\n\\n\\n\\n\\n\\n\\n\\n\\n\\nBOOK ONE: 1805\\n\\n\\n\\n\\n\\nCHAPTER I\\n\\n“Well, Princ'"
      ]
     },
     "execution_count": 4,
     "metadata": {},
     "output_type": "execute_result"
    }
   ],
   "source": [
    "text[7277:7500]"
   ]
  },
  {
   "cell_type": "markdown",
   "metadata": {
    "id": "6iG2vAfmwhWN"
   },
   "source": [
    "##Step 1. Tokenization (15 points)"
   ]
  },
  {
   "cell_type": "markdown",
   "metadata": {
    "id": "4iC21bopceEl"
   },
   "source": [
    "Now let's create dictionaries for converting characters to integers and vice versa. This makes it easier to use symbols as input on the neural network."
   ]
  },
  {
   "cell_type": "code",
   "execution_count": 5,
   "metadata": {
    "id": "tYVlmnxLceEl"
   },
   "outputs": [],
   "source": [
    "# Create two dictionaries:\n",
    "# int2char -- maps integers to characters\n",
    "# char2int -- maps characters to unique integers\n",
    "\n",
    "## YOUR CODE HERE\n",
    "unique_chars=list(set(text))\n",
    "char2int={c:i for i,c in enumerate(unique_chars)}\n",
    "int2char={i:c for c,i in char2int.items()}\n",
    "\n",
    "# encode the text\n",
    "encoded = np.array([char2int[ch] for ch in text])"
   ]
  },
  {
   "cell_type": "markdown",
   "metadata": {
    "id": "oJIzwzSwceEl"
   },
   "source": [
    "Let's see how the encoding of characters into integers looks like"
   ]
  },
  {
   "cell_type": "code",
   "execution_count": 6,
   "metadata": {
    "colab": {
     "base_uri": "https://localhost:8080/"
    },
    "id": "WK1MYr_9ceEl",
    "outputId": "3a1bdf92-49f7-4a28-d0ae-2d7ba7013512"
   },
   "outputs": [
    {
     "data": {
      "text/plain": [
       "array([ 43,  64,  42,  46,   7,  23,  39,  12,  20,  46,  58,  38,   7,\n",
       "        98,  92,  38,  46, 106,   3,  46,  39, 103,   7,  46,  44,  12,\n",
       "        12, 108,   7,  12,  83,   7, 111, 107,  39,   7, 107, 106, 105,\n",
       "         7,  23,  46, 107,  58,  46,   8,   7,   3,  22,   7,  88,  46,\n",
       "        12,   7,  64,  12,   0,  89,  38,  12,  22,  49,  49,  64,  42,\n",
       "        84,  89,   7,  46,  44,  12,  12, 108,   7,  84,  89,   7,  83,\n",
       "        12,  39,   7,  38,  42,  46,   7,  92,  89,  46,   7,  12,  83,\n",
       "         7, 107, 106,  22,  12, 106,  46,   7, 107])"
      ]
     },
     "execution_count": 6,
     "metadata": {},
     "output_type": "execute_result"
    }
   ],
   "source": [
    "encoded[:100]"
   ]
  },
  {
   "cell_type": "markdown",
   "metadata": {
    "id": "VEzrUe5Qyjz8"
   },
   "source": [
    "##Step 2. One-hot encoding (15 points)"
   ]
  },
  {
   "cell_type": "markdown",
   "metadata": {
    "id": "azltQy-gceEl"
   },
   "source": [
    "LSTM expects one-hot encoded input, which means that each character is converted to an integer (via our created dictionary) and then converted to a vector, where a value 1 will be only on a corresponding position and the rest of the vector will be filled with zeros.\n",
    "\n",
    "Implement a function that does this kind of coding.\n"
   ]
  },
  {
   "cell_type": "code",
   "execution_count": 7,
   "metadata": {
    "id": "OnahALhiceEl"
   },
   "outputs": [],
   "source": [
    "def one_hot_encode(arr, n_labels):\n",
    "    \n",
    "    # arr - array of integers\n",
    "    # n_labels - number of labels (the size of a one-hot-encoded vector)\n",
    "\n",
    "    ## YOUR CODE HERE\n",
    "    \n",
    "    r,c=arr.shape\n",
    "    one_hot=np.zeros((r,c,n_labels))\n",
    "    for row in range(len(arr)):\n",
    "        for col in range(len(arr[row])):\n",
    "            one_hot[row][col][arr[row][col]]=1\n",
    "    \n",
    "    return one_hot"
   ]
  },
  {
   "cell_type": "code",
   "execution_count": 8,
   "metadata": {
    "colab": {
     "base_uri": "https://localhost:8080/"
    },
    "id": "L3lTdLKfceEl",
    "outputId": "ee6a6534-e772-452e-e8c6-19b945a39f56"
   },
   "outputs": [
    {
     "name": "stdout",
     "output_type": "stream",
     "text": [
      "[[[0. 0. 0. 0. 0. 0. 0. 1.]\n",
      "  [0. 0. 1. 0. 0. 0. 0. 0.]\n",
      "  [0. 0. 0. 0. 0. 1. 0. 0.]]]\n"
     ]
    }
   ],
   "source": [
    "# check that the function works correctly\n",
    "test_indx = np.array([[7, 2, 5]])\n",
    "one_hot = one_hot_encode(test_indx, 8)\n",
    "\n",
    "print(one_hot)"
   ]
  },
  {
   "cell_type": "markdown",
   "metadata": {
    "id": "G7qAGC8R0lF1"
   },
   "source": [
    "The output must be\n",
    "\n",
    "```\n",
    "[[[0. 0. 0. 0. 0. 0. 0. 1.]\n",
    "  [0. 0. 1. 0. 0. 0. 0. 0.]\n",
    "  [0. 0. 0. 0. 0. 1. 0. 0.]]]\n",
    "```"
   ]
  },
  {
   "cell_type": "markdown",
   "metadata": {
    "id": "_Qxw5Dg41HAO"
   },
   "source": [
    "##Step 3. Mini-batches (20 points)"
   ]
  },
  {
   "cell_type": "markdown",
   "metadata": {
    "id": "50zKx6pM43RB"
   },
   "source": [
    "To train the neural network, we will organize mini-batches as follows: divide the entire input sequence 'arr' by the desired number of subsequences (parameter `batch_size`), and send a sequence of length `seq_length` to the input of the network."
   ]
  },
  {
   "cell_type": "markdown",
   "metadata": {
    "id": "9YyL91CuceEl"
   },
   "source": [
    "<img src=\"https://github.com/udacity/deep-learning-v2-pytorch/blob/master/recurrent-neural-networks/char-rnn/assets/sequence_batching@1x.png?raw=1\" width=500px>\n"
   ]
  },
  {
   "cell_type": "markdown",
   "metadata": {
    "id": "xzTSxOr37JyR"
   },
   "source": [
    "### How to create mini-batches\n",
    "\n",
    "\n",
    "1.   Find the total number of batches `n_batches` that fit the text.\n",
    "2.   Discard all unnecessary text that does not fit into full batches.\n",
    "3.   Split text into `n_batches` batches'.\n",
    "4.   Get `x's` and `y`'s for a batch. Therefore, `y` is a version of `x` shifted by 1.\n",
    "\n"
   ]
  },
  {
   "cell_type": "code",
   "execution_count": 9,
   "metadata": {
    "id": "8vmDKLiOceEl"
   },
   "outputs": [],
   "source": [
    "def get_batches(arr, batch_size, seq_length):\n",
    "    # Create a generator that returns batches of size batch_size x seq_length\n",
    "    \n",
    "    # print(arr.shape)\n",
    "    batch_size_total = batch_size * seq_length\n",
    "    ## Get the number of batches we can make\n",
    "    n_batches = len(arr)//batch_size_total## YOUR CODE HERE\n",
    "    \n",
    "    ## Keep only enough characters to make full batches\n",
    "    arr = arr[:batch_size_total*n_batches]## YOUR CODE HERE\n",
    "    \n",
    "    ## Reshape into batch_size rows\n",
    "    arr = arr.reshape(batch_size, -1) ## YOUR CODE HERE\n",
    "    # arr=np.hstack((arr, arr[:,0].reshape(batch_size, 1)))\n",
    "    \n",
    "    ## Iterate over the batches using a window of size seq_length\n",
    "    for n in range(0, arr.shape[1], seq_length):\n",
    "        x = arr[:,n:n+seq_length]\n",
    "        # The targets, shifted by one\n",
    "        y = np.zeros_like(x)\n",
    "        try:\n",
    "            y[:, :-1], y[:, -1] = x[:, 1:], arr[:, n+seq_length]\n",
    "        except IndexError:\n",
    "            y[:, :-1], y[:, -1] = x[:, 1:], arr[:, 0]\n",
    "        yield x, y"
   ]
  },
  {
   "cell_type": "markdown",
   "metadata": {
    "id": "s9uKOvbqceEl"
   },
   "source": [
    "Let's check how our function works."
   ]
  },
  {
   "cell_type": "code",
   "execution_count": 10,
   "metadata": {
    "id": "qtKlLXi1ceEl"
   },
   "outputs": [],
   "source": [
    "batches = get_batches(encoded, 4, 30)\n",
    "x, y = next(batches)"
   ]
  },
  {
   "cell_type": "code",
   "execution_count": 11,
   "metadata": {
    "colab": {
     "base_uri": "https://localhost:8080/"
    },
    "id": "Rg5MUTqqceEl",
    "outputId": "ed16bb01-29a8-4370-a2be-a87f26077e91"
   },
   "outputs": [
    {
     "name": "stdout",
     "output_type": "stream",
     "text": [
      "x\n",
      " [[ 43  64  42  46   7  23  39  12  20  46]\n",
      " [ 39  24  89  49  42  46 107   0  38  42]\n",
      " [  3  46  39  84 106 103   7  42  84  89]\n",
      " [107 106 105   0  46   7  47  84  38  42]]\n",
      "\n",
      "y\n",
      " [[ 64  42  46   7  23  39  12  20  46  58]\n",
      " [ 24  89  49  42  46 107   0  38  42   7]\n",
      " [ 46  39  84 106 103   7  42  84  89   7]\n",
      " [106 105   0  46   7  47  84  38  42   7]]\n"
     ]
    }
   ],
   "source": [
    "# printing out the first 10 items in a sequence\n",
    "print('x\\n', x[:10, :10])\n",
    "print('\\ny\\n', y[:10, :10])"
   ]
  },
  {
   "cell_type": "markdown",
   "metadata": {
    "id": "R_qHIAEIceEl"
   },
   "source": [
    "If you've implemented get_batches correctly, the result should look something like this (exact numbers may vary):\n",
    "```\n",
    "x\n",
    " [[ 48  94  12 110  32  96 107  34  18 106]\n",
    " [ 96  78   1  69  32  34  18  34  27   3]\n",
    " [  3  96   0  18  96  86  18 100  34  96]\n",
    " [ 32  96 110  42 101  96   0  18  19  96]]\n",
    "\n",
    "y\n",
    " [[ 94  12 110  32  96 107  34  18 106  32]\n",
    " [ 78   1  69  32  34  18  34  27   3  94]\n",
    " [ 96   0  18  96  86  18 100  34  96   1]\n",
    " [ 96 110  42 101  96   0  18  19  96   3]]\n",
    " ```\n",
    "Make sure the data is shifted one step for `y`."
   ]
  },
  {
   "cell_type": "markdown",
   "metadata": {
    "id": "tholjONVAJUa"
   },
   "source": [
    "##Step 4. Defining the network (40 points)"
   ]
  },
  {
   "cell_type": "markdown",
   "metadata": {
    "id": "E7s5eRaoceEl"
   },
   "source": [
    "### Model Architecture\n",
    "\n",
    "The proposed architecture is as follows:\n",
    "\n",
    "* Define an [LSTM layer](https://pytorch.org/docs/stable/generated/torch.nn.LSTM.html#torch.nn.LSTM) with `dropout=drop_prob` and `batch_first=True` (since we use batches)\n",
    "* Define a [Dropout layer](https://pytorch.org/docs/stable/generated/torch.nn.Dropout.html#torch.nn.Dropout) with `drop_prob`.\n",
    "* Define a [Linear layer](https://pytorch.org/docs/stable/generated/torch.nn.Linear.html#torch.nn.Linear) with `in_features=n_hidden` and `out_features` equals to number of characters."
   ]
  },
  {
   "cell_type": "code",
   "execution_count": 12,
   "metadata": {
    "colab": {
     "base_uri": "https://localhost:8080/"
    },
    "id": "HlTnDntHceEl",
    "outputId": "67fed249-72c3-42e6-c363-95b6e077171c"
   },
   "outputs": [
    {
     "name": "stdout",
     "output_type": "stream",
     "text": [
      "Training on GPU\n"
     ]
    }
   ],
   "source": [
    "# check if GPU is available\n",
    "train_on_gpu = torch.cuda.is_available()\n",
    "if(train_on_gpu):\n",
    "    print('Training on GPU')\n",
    "else: \n",
    "    print('No GPU available, training on CPU; consider making n_epochs very small.')"
   ]
  },
  {
   "cell_type": "code",
   "execution_count": 13,
   "metadata": {
    "id": "lg-SvaGhceEl"
   },
   "outputs": [],
   "source": [
    "class CharRNN(nn.Module):\n",
    "    \n",
    "    def __init__(self, tokens, n_hidden=256, n_layers=2,\n",
    "                               drop_prob=0.5, lr=0.001):\n",
    "        super().__init__()\n",
    "        self.drop_prob = drop_prob\n",
    "        self.n_layers = n_layers\n",
    "        self.n_hidden = n_hidden\n",
    "        self.lr = lr\n",
    "        \n",
    "        # creating character dictionaries\n",
    "        self.chars = tokens\n",
    "        self.int2char = dict(enumerate(self.chars))\n",
    "        self.char2int = {ch: ii for ii, ch in self.int2char.items()}\n",
    "        \n",
    "        # Define the LSTM layer\n",
    "        ## YOUR CODE HERE\n",
    "        self.lstm=nn.LSTM(input_size=len(self.chars),hidden_size=n_hidden, num_layers=n_layers, dropout=drop_prob, batch_first=True)\n",
    "\n",
    "        # Define a dropout layer\n",
    "        ## YOUR CODE HERE\n",
    "        self.dropout=nn.Dropout(p=drop_prob)\n",
    "\n",
    "        # Define the final, fully-connected output layer\n",
    "        ## YOUR CODE HERE\n",
    "        self.linear=nn.Linear(in_features=n_hidden, out_features=len(self.chars))\n",
    "      \n",
    "    \n",
    "    def forward(self, x, hidden):\n",
    "        ''' Forward pass through the network. \n",
    "            These inputs are x, and the hidden/cell state `hidden`. '''\n",
    "                \n",
    "        # Get the outputs and the new hidden state from the lstm\n",
    "        ## YOUR CODE HERE\n",
    "        raw_out, hidden=self.lstm(x.float(), hidden)\n",
    "\n",
    "        # Pass through a dropout layer\n",
    "        ## YOUR CODE HERE\n",
    "        out=self.dropout(raw_out)\n",
    "\n",
    "        # Stack up LSTM outputs using view\n",
    "        # you may need to use contiguous to reshape the output\n",
    "        ## YOUR CODE HERE\n",
    "        out=out.contiguous().view(-1, self.n_hidden)\n",
    "\n",
    "        # Put x through the fully-connected layer\n",
    "        ## YOUR CODE HERE\n",
    "        out=self.linear(out)\n",
    "\n",
    "        # return the final output and the hidden state\n",
    "        return out, hidden\n",
    "    \n",
    "    \n",
    "    def init_hidden(self, batch_size):\n",
    "        ''' Initializes hidden state '''\n",
    "        # Create two new tensors with sizes n_layers x batch_size x n_hidden,\n",
    "        # initialized to zero, for hidden state and cell state of LSTM\n",
    "        weight = next(self.parameters()).data\n",
    "        \n",
    "        if (train_on_gpu):\n",
    "            hidden = (weight.new(self.n_layers, batch_size, self.n_hidden).zero_().cuda(),\n",
    "                  weight.new(self.n_layers, batch_size, self.n_hidden).zero_().cuda())\n",
    "        else:\n",
    "            hidden = (weight.new(self.n_layers, batch_size, self.n_hidden).zero_(),\n",
    "                      weight.new(self.n_layers, batch_size, self.n_hidden).zero_())\n",
    "        \n",
    "        return hidden\n",
    "        "
   ]
  },
  {
   "cell_type": "markdown",
   "metadata": {
    "id": "VPX7bf08EipB"
   },
   "source": [
    "##Step 5. Train the model (10 points)"
   ]
  },
  {
   "cell_type": "markdown",
   "metadata": {
    "id": "zBgcPj1mGOZN"
   },
   "source": [
    "We use Cross Entropy as a loss function, Adam as optimizer, and [`clip_grad_norm_`](https://pytorch.org/docs/stable/_modules/torch/nn/utils/clip_grad.html) to get rid of the gradient explosion."
   ]
  },
  {
   "cell_type": "code",
   "execution_count": 14,
   "metadata": {
    "id": "lv8VkRI0ceEl"
   },
   "outputs": [],
   "source": [
    "def train(net, data, epochs=10, batch_size=10, seq_length=50, lr=0.001, clip=5, val_frac=0.1, print_every=10):\n",
    "    ''' Training a network \n",
    "    \n",
    "        Arguments\n",
    "        ---------\n",
    "        lr: learning rate\n",
    "        clip: gradient clipping\n",
    "        val_frac: Fraction of data to hold out for validation\n",
    "        print_every: Number of steps for printing training and validation loss\n",
    "    \n",
    "    '''\n",
    "    net.train()\n",
    "    \n",
    "    opt = torch.optim.Adam(net.parameters(), lr=lr)\n",
    "    criterion = nn.CrossEntropyLoss()\n",
    "    \n",
    "    # create training and validation data\n",
    "    val_idx = int(len(data)*(1-val_frac))\n",
    "    data, val_data = data[:val_idx], data[val_idx:]\n",
    "    \n",
    "    if(train_on_gpu):\n",
    "        net.cuda()\n",
    "    \n",
    "    counter = 0\n",
    "    n_chars = len(net.chars)\n",
    "    for e in range(epochs):\n",
    "        # initialize hidden state\n",
    "        h = net.init_hidden(batch_size)\n",
    "        \n",
    "        for x, y in get_batches(data, batch_size, seq_length):\n",
    "            counter += 1\n",
    "            \n",
    "            # One-hot encode our data and make them Torch tensors\n",
    "            x = one_hot_encode(x, n_chars)\n",
    "            inputs, targets = torch.from_numpy(x), torch.from_numpy(y)\n",
    "            \n",
    "            if(train_on_gpu):\n",
    "                inputs, targets = inputs.cuda(), targets.cuda()\n",
    "\n",
    "            # Creating new variables for the hidden state, otherwise\n",
    "            # we'd backprop through the entire training history\n",
    "            h = tuple([each.data for each in h])\n",
    "\n",
    "            net.zero_grad()\n",
    "            \n",
    "            output, h = net(inputs, h)\n",
    "            \n",
    "            loss = criterion(output, targets.view(batch_size*seq_length).long())\n",
    "            loss.backward()\n",
    "\n",
    "            # `clip_grad_norm` helps prevent the exploding gradient problem in RNNs\n",
    "            nn.utils.clip_grad_norm_(net.parameters(), clip)\n",
    "            opt.step()\n",
    "            \n",
    "            # loss stats\n",
    "            if counter % print_every == 0:\n",
    "                # Get validation loss\n",
    "                val_h = net.init_hidden(batch_size)\n",
    "                val_losses = []\n",
    "                net.eval()\n",
    "                for x, y in get_batches(val_data, batch_size, seq_length):\n",
    "                    # One-hot encode our data and make them Torch tensors\n",
    "                    x = one_hot_encode(x, n_chars)\n",
    "                    x, y = torch.from_numpy(x), torch.from_numpy(y)\n",
    "                    \n",
    "                    # Creating new variables for the hidden state, otherwise\n",
    "                    # we'd backprop through the entire training history\n",
    "                    val_h = tuple([each.data for each in val_h])\n",
    "                    \n",
    "                    inputs, targets = x, y\n",
    "                    if(train_on_gpu):\n",
    "                        inputs, targets = inputs.cuda(), targets.cuda()\n",
    "\n",
    "                    output, val_h = net(inputs, val_h)\n",
    "                    val_loss = criterion(output, targets.view(batch_size*seq_length).long())\n",
    "                \n",
    "                    val_losses.append(val_loss.item())\n",
    "                \n",
    "                net.train() # reset to train mode after iterationg through validation data\n",
    "                \n",
    "                print(\"Epoch: {}/{}...\".format(e+1, epochs),\n",
    "                      \"Step: {}...\".format(counter),\n",
    "                      \"Loss: {:.4f}...\".format(loss.item()),\n",
    "                      \"Val Loss: {:.4f}\".format(np.mean(val_losses)))"
   ]
  },
  {
   "cell_type": "markdown",
   "metadata": {
    "id": "Gt0q4KGEceEm"
   },
   "source": [
    "Initialize the model and set hyperparameters."
   ]
  },
  {
   "cell_type": "code",
   "execution_count": 15,
   "metadata": {
    "id": "OOgs59nDceEm"
   },
   "outputs": [
    {
     "name": "stdout",
     "output_type": "stream",
     "text": [
      "CharRNN(\n",
      "  (lstm): LSTM(112, 384, num_layers=4, batch_first=True, dropout=0.5)\n",
      "  (dropout): Dropout(p=0.5, inplace=False)\n",
      "  (linear): Linear(in_features=384, out_features=112, bias=True)\n",
      ")\n"
     ]
    }
   ],
   "source": [
    "# Set your model hyperparameters\n",
    "\n",
    "n_hidden = 384## YOUR CODE HERE\n",
    "n_layers = 4## YOUR CODE HERE\n",
    "\n",
    "net = CharRNN(unique_chars, n_hidden, n_layers)\n",
    "print(net)"
   ]
  },
  {
   "cell_type": "markdown",
   "metadata": {
    "id": "XHy6mECuceEm"
   },
   "source": [
    "Set training hyperparameters."
   ]
  },
  {
   "cell_type": "code",
   "execution_count": 16,
   "metadata": {
    "id": "ABqi9klKceEm",
    "scrolled": true
   },
   "outputs": [
    {
     "name": "stdout",
     "output_type": "stream",
     "text": [
      "Epoch: 1/100... Step: 10... Loss: 3.2405... Val Loss: 3.1199\n",
      "Epoch: 1/100... Step: 20... Loss: 3.2158... Val Loss: 3.0951\n",
      "Epoch: 1/100... Step: 30... Loss: 3.1864... Val Loss: 3.0910\n",
      "Epoch: 1/100... Step: 40... Loss: 3.1709... Val Loss: 3.0902\n",
      "Epoch: 1/100... Step: 50... Loss: 3.1530... Val Loss: 3.0879\n",
      "Epoch: 1/100... Step: 60... Loss: 3.1526... Val Loss: 3.0863\n",
      "Epoch: 1/100... Step: 70... Loss: 3.1404... Val Loss: 3.0858\n",
      "Epoch: 2/100... Step: 80... Loss: 3.1386... Val Loss: 3.0845\n",
      "Epoch: 2/100... Step: 90... Loss: 3.1404... Val Loss: 3.0853\n",
      "Epoch: 2/100... Step: 100... Loss: 3.1459... Val Loss: 3.0856\n",
      "Epoch: 2/100... Step: 110... Loss: 3.1521... Val Loss: 3.0855\n",
      "Epoch: 2/100... Step: 120... Loss: 3.1432... Val Loss: 3.0854\n",
      "Epoch: 2/100... Step: 130... Loss: 3.1366... Val Loss: 3.0844\n",
      "Epoch: 2/100... Step: 140... Loss: 3.1350... Val Loss: 3.0834\n",
      "Epoch: 2/100... Step: 150... Loss: 3.1305... Val Loss: 3.0845\n",
      "Epoch: 3/100... Step: 160... Loss: 3.1185... Val Loss: 3.0830\n",
      "Epoch: 3/100... Step: 170... Loss: 3.1392... Val Loss: 3.0843\n",
      "Epoch: 3/100... Step: 180... Loss: 3.1408... Val Loss: 3.0850\n",
      "Epoch: 3/100... Step: 190... Loss: 3.1384... Val Loss: 3.0856\n",
      "Epoch: 3/100... Step: 200... Loss: 3.1268... Val Loss: 3.0836\n",
      "Epoch: 3/100... Step: 210... Loss: 3.1333... Val Loss: 3.0836\n",
      "Epoch: 3/100... Step: 220... Loss: 3.1233... Val Loss: 3.0836\n",
      "Epoch: 4/100... Step: 230... Loss: 3.1273... Val Loss: 3.0827\n",
      "Epoch: 4/100... Step: 240... Loss: 3.1310... Val Loss: 3.0838\n",
      "Epoch: 4/100... Step: 250... Loss: 3.1373... Val Loss: 3.0838\n",
      "Epoch: 4/100... Step: 260... Loss: 3.1448... Val Loss: 3.0845\n",
      "Epoch: 4/100... Step: 270... Loss: 3.1376... Val Loss: 3.0844\n",
      "Epoch: 4/100... Step: 280... Loss: 3.1310... Val Loss: 3.0841\n",
      "Epoch: 4/100... Step: 290... Loss: 3.1299... Val Loss: 3.0828\n",
      "Epoch: 4/100... Step: 300... Loss: 3.1269... Val Loss: 3.0842\n",
      "Epoch: 5/100... Step: 310... Loss: 3.1126... Val Loss: 3.0823\n",
      "Epoch: 5/100... Step: 320... Loss: 3.1361... Val Loss: 3.0836\n",
      "Epoch: 5/100... Step: 330... Loss: 3.1369... Val Loss: 3.0844\n",
      "Epoch: 5/100... Step: 340... Loss: 3.1355... Val Loss: 3.0853\n",
      "Epoch: 5/100... Step: 350... Loss: 3.1257... Val Loss: 3.0831\n",
      "Epoch: 5/100... Step: 360... Loss: 3.1309... Val Loss: 3.0832\n",
      "Epoch: 5/100... Step: 370... Loss: 3.1212... Val Loss: 3.0833\n",
      "Epoch: 6/100... Step: 380... Loss: 3.1256... Val Loss: 3.0824\n",
      "Epoch: 6/100... Step: 390... Loss: 3.1290... Val Loss: 3.0836\n",
      "Epoch: 6/100... Step: 400... Loss: 3.1348... Val Loss: 3.0838\n",
      "Epoch: 6/100... Step: 410... Loss: 3.1432... Val Loss: 3.0844\n",
      "Epoch: 6/100... Step: 420... Loss: 3.1364... Val Loss: 3.0841\n",
      "Epoch: 6/100... Step: 430... Loss: 3.1290... Val Loss: 3.0840\n",
      "Epoch: 6/100... Step: 440... Loss: 3.1287... Val Loss: 3.0825\n",
      "Epoch: 6/100... Step: 450... Loss: 3.1251... Val Loss: 3.0838\n",
      "Epoch: 7/100... Step: 460... Loss: 3.1130... Val Loss: 3.0819\n",
      "Epoch: 7/100... Step: 470... Loss: 3.1340... Val Loss: 3.0829\n",
      "Epoch: 7/100... Step: 480... Loss: 3.1305... Val Loss: 3.0765\n",
      "Epoch: 7/100... Step: 490... Loss: 3.1122... Val Loss: 3.0513\n",
      "Epoch: 7/100... Step: 500... Loss: 3.0645... Val Loss: 2.9742\n",
      "Epoch: 7/100... Step: 510... Loss: 2.9849... Val Loss: 2.8978\n",
      "Epoch: 7/100... Step: 520... Loss: 2.9386... Val Loss: 2.8651\n",
      "Epoch: 8/100... Step: 530... Loss: 2.8809... Val Loss: 2.8139\n",
      "Epoch: 8/100... Step: 540... Loss: 2.8292... Val Loss: 2.7468\n",
      "Epoch: 8/100... Step: 550... Loss: 2.7706... Val Loss: 2.6671\n",
      "Epoch: 8/100... Step: 560... Loss: 2.7178... Val Loss: 2.6105\n",
      "Epoch: 8/100... Step: 570... Loss: 2.6711... Val Loss: 2.6000\n",
      "Epoch: 8/100... Step: 580... Loss: 2.6374... Val Loss: 2.5587\n",
      "Epoch: 8/100... Step: 590... Loss: 2.6046... Val Loss: 2.5232\n",
      "Epoch: 8/100... Step: 600... Loss: 2.5957... Val Loss: 2.5019\n",
      "Epoch: 9/100... Step: 610... Loss: 2.5499... Val Loss: 2.4789\n",
      "Epoch: 9/100... Step: 620... Loss: 2.5558... Val Loss: 2.4552\n",
      "Epoch: 9/100... Step: 630... Loss: 2.5174... Val Loss: 2.4392\n",
      "Epoch: 9/100... Step: 640... Loss: 2.5004... Val Loss: 2.4167\n",
      "Epoch: 9/100... Step: 650... Loss: 2.4953... Val Loss: 2.4073\n",
      "Epoch: 9/100... Step: 660... Loss: 2.4612... Val Loss: 2.3847\n",
      "Epoch: 9/100... Step: 670... Loss: 2.4522... Val Loss: 2.3681\n",
      "Epoch: 10/100... Step: 680... Loss: 2.4457... Val Loss: 2.3543\n",
      "Epoch: 10/100... Step: 690... Loss: 2.4332... Val Loss: 2.3421\n",
      "Epoch: 10/100... Step: 700... Loss: 2.4256... Val Loss: 2.3272\n",
      "Epoch: 10/100... Step: 710... Loss: 2.4274... Val Loss: 2.3278\n",
      "Epoch: 10/100... Step: 720... Loss: 2.4065... Val Loss: 2.3080\n",
      "Epoch: 10/100... Step: 730... Loss: 2.4000... Val Loss: 2.2959\n",
      "Epoch: 10/100... Step: 740... Loss: 2.3821... Val Loss: 2.2820\n",
      "Epoch: 10/100... Step: 750... Loss: 2.3947... Val Loss: 2.2748\n",
      "Epoch: 11/100... Step: 760... Loss: 2.3544... Val Loss: 2.2623\n",
      "Epoch: 11/100... Step: 770... Loss: 2.3615... Val Loss: 2.2558\n",
      "Epoch: 11/100... Step: 780... Loss: 2.3366... Val Loss: 2.2433\n",
      "Epoch: 11/100... Step: 790... Loss: 2.3308... Val Loss: 2.2512\n",
      "Epoch: 11/100... Step: 800... Loss: 2.3409... Val Loss: 2.2358\n",
      "Epoch: 11/100... Step: 810... Loss: 2.3064... Val Loss: 2.2225\n",
      "Epoch: 11/100... Step: 820... Loss: 2.3041... Val Loss: 2.2119\n",
      "Epoch: 12/100... Step: 830... Loss: 2.3075... Val Loss: 2.2071\n",
      "Epoch: 12/100... Step: 840... Loss: 2.3045... Val Loss: 2.2051\n",
      "Epoch: 12/100... Step: 850... Loss: 2.3125... Val Loss: 2.1925\n",
      "Epoch: 12/100... Step: 860... Loss: 2.3018... Val Loss: 2.1854\n",
      "Epoch: 12/100... Step: 870... Loss: 2.2806... Val Loss: 2.1842\n",
      "Epoch: 12/100... Step: 880... Loss: 2.2885... Val Loss: 2.1693\n",
      "Epoch: 12/100... Step: 890... Loss: 2.2726... Val Loss: 2.1653\n",
      "Epoch: 12/100... Step: 900... Loss: 2.2789... Val Loss: 2.1604\n",
      "Epoch: 13/100... Step: 910... Loss: 2.2486... Val Loss: 2.1526\n",
      "Epoch: 13/100... Step: 920... Loss: 2.2611... Val Loss: 2.1434\n",
      "Epoch: 13/100... Step: 930... Loss: 2.2486... Val Loss: 2.1653\n",
      "Epoch: 13/100... Step: 940... Loss: 2.2365... Val Loss: 2.1557\n",
      "Epoch: 13/100... Step: 950... Loss: 2.2318... Val Loss: 2.1351\n",
      "Epoch: 13/100... Step: 960... Loss: 2.2180... Val Loss: 2.1228\n",
      "Epoch: 13/100... Step: 970... Loss: 2.2133... Val Loss: 2.1185\n",
      "Epoch: 14/100... Step: 980... Loss: 2.2259... Val Loss: 2.1114\n",
      "Epoch: 14/100... Step: 990... Loss: 2.2101... Val Loss: 2.1075\n",
      "Epoch: 14/100... Step: 1000... Loss: 2.2070... Val Loss: 2.1000\n",
      "Epoch: 14/100... Step: 1010... Loss: 2.2072... Val Loss: 2.0962\n",
      "Epoch: 14/100... Step: 1020... Loss: 2.1836... Val Loss: 2.0873\n",
      "Epoch: 14/100... Step: 1030... Loss: 2.2029... Val Loss: 2.0811\n",
      "Epoch: 14/100... Step: 1040... Loss: 2.1816... Val Loss: 2.0764\n",
      "Epoch: 14/100... Step: 1050... Loss: 2.2233... Val Loss: 2.0862\n",
      "Epoch: 15/100... Step: 1060... Loss: 2.1745... Val Loss: 2.0670\n",
      "Epoch: 15/100... Step: 1070... Loss: 2.1770... Val Loss: 2.0585\n",
      "Epoch: 15/100... Step: 1080... Loss: 2.1497... Val Loss: 2.0554\n",
      "Epoch: 15/100... Step: 1090... Loss: 2.1407... Val Loss: 2.0499\n",
      "Epoch: 15/100... Step: 1100... Loss: 2.1495... Val Loss: 2.0391\n",
      "Epoch: 15/100... Step: 1110... Loss: 2.1310... Val Loss: 2.0384\n",
      "Epoch: 15/100... Step: 1120... Loss: 2.1333... Val Loss: 2.0304\n",
      "Epoch: 16/100... Step: 1130... Loss: 2.1386... Val Loss: 2.0222\n",
      "Epoch: 16/100... Step: 1140... Loss: 2.1264... Val Loss: 2.0143\n",
      "Epoch: 16/100... Step: 1150... Loss: 2.1249... Val Loss: 2.0087\n",
      "Epoch: 16/100... Step: 1160... Loss: 2.1258... Val Loss: 2.0035\n",
      "Epoch: 16/100... Step: 1170... Loss: 2.1038... Val Loss: 2.0010\n",
      "Epoch: 16/100... Step: 1180... Loss: 2.1119... Val Loss: 1.9889\n",
      "Epoch: 16/100... Step: 1190... Loss: 2.1041... Val Loss: 1.9871\n",
      "Epoch: 16/100... Step: 1200... Loss: 2.1143... Val Loss: 1.9776\n",
      "Epoch: 17/100... Step: 1210... Loss: 2.0775... Val Loss: 1.9708\n",
      "Epoch: 17/100... Step: 1220... Loss: 2.0836... Val Loss: 1.9675\n",
      "Epoch: 17/100... Step: 1230... Loss: 2.0540... Val Loss: 1.9592\n",
      "Epoch: 17/100... Step: 1240... Loss: 2.0527... Val Loss: 1.9564\n",
      "Epoch: 17/100... Step: 1250... Loss: 2.0633... Val Loss: 1.9484\n",
      "Epoch: 17/100... Step: 1260... Loss: 2.0385... Val Loss: 1.9426\n",
      "Epoch: 17/100... Step: 1270... Loss: 2.0462... Val Loss: 1.9418\n",
      "Epoch: 18/100... Step: 1280... Loss: 2.0585... Val Loss: 1.9307\n",
      "Epoch: 18/100... Step: 1290... Loss: 2.0382... Val Loss: 1.9246\n",
      "Epoch: 18/100... Step: 1300... Loss: 2.0403... Val Loss: 1.9173\n",
      "Epoch: 18/100... Step: 1310... Loss: 2.0457... Val Loss: 1.9140\n",
      "Epoch: 18/100... Step: 1320... Loss: 2.0177... Val Loss: 1.9110\n",
      "Epoch: 18/100... Step: 1330... Loss: 2.0307... Val Loss: 1.9013\n",
      "Epoch: 18/100... Step: 1340... Loss: 2.0241... Val Loss: 1.8974\n",
      "Epoch: 18/100... Step: 1350... Loss: 2.0371... Val Loss: 1.8939\n",
      "Epoch: 19/100... Step: 1360... Loss: 2.0076... Val Loss: 1.8868\n",
      "Epoch: 19/100... Step: 1370... Loss: 2.0073... Val Loss: 1.8838\n",
      "Epoch: 19/100... Step: 1380... Loss: 1.9747... Val Loss: 1.8748\n",
      "Epoch: 19/100... Step: 1390... Loss: 1.9736... Val Loss: 1.8701\n",
      "Epoch: 19/100... Step: 1400... Loss: 1.9855... Val Loss: 1.8661\n",
      "Epoch: 19/100... Step: 1410... Loss: 1.9660... Val Loss: 1.8619\n",
      "Epoch: 19/100... Step: 1420... Loss: 1.9705... Val Loss: 1.8556\n",
      "Epoch: 20/100... Step: 1430... Loss: 1.9771... Val Loss: 1.8476\n",
      "Epoch: 20/100... Step: 1440... Loss: 1.9683... Val Loss: 1.8438\n",
      "Epoch: 20/100... Step: 1450... Loss: 1.9696... Val Loss: 1.8377\n",
      "Epoch: 20/100... Step: 1460... Loss: 1.9670... Val Loss: 1.8364\n",
      "Epoch: 20/100... Step: 1470... Loss: 1.9426... Val Loss: 1.8350\n",
      "Epoch: 20/100... Step: 1480... Loss: 1.9640... Val Loss: 1.8275\n",
      "Epoch: 20/100... Step: 1490... Loss: 1.9484... Val Loss: 1.8253\n",
      "Epoch: 20/100... Step: 1500... Loss: 1.9653... Val Loss: 1.8196\n",
      "Epoch: 21/100... Step: 1510... Loss: 1.9300... Val Loss: 1.8115\n",
      "Epoch: 21/100... Step: 1520... Loss: 1.9396... Val Loss: 1.8080\n",
      "Epoch: 21/100... Step: 1530... Loss: 1.9036... Val Loss: 1.8020\n",
      "Epoch: 21/100... Step: 1540... Loss: 1.9061... Val Loss: 1.7978\n",
      "Epoch: 21/100... Step: 1550... Loss: 1.9213... Val Loss: 1.7928\n",
      "Epoch: 21/100... Step: 1560... Loss: 1.8901... Val Loss: 1.7908\n",
      "Epoch: 21/100... Step: 1570... Loss: 1.9031... Val Loss: 1.7873\n",
      "Epoch: 22/100... Step: 1580... Loss: 1.9153... Val Loss: 1.7827\n",
      "Epoch: 22/100... Step: 1590... Loss: 1.8959... Val Loss: 1.7755\n",
      "Epoch: 22/100... Step: 1600... Loss: 1.9107... Val Loss: 1.7703\n",
      "Epoch: 22/100... Step: 1610... Loss: 1.9010... Val Loss: 1.7697\n",
      "Epoch: 22/100... Step: 1620... Loss: 1.8844... Val Loss: 1.7689\n",
      "Epoch: 22/100... Step: 1630... Loss: 1.8955... Val Loss: 1.7641\n",
      "Epoch: 22/100... Step: 1640... Loss: 1.8915... Val Loss: 1.7569\n",
      "Epoch: 22/100... Step: 1650... Loss: 1.8980... Val Loss: 1.7523\n",
      "Epoch: 23/100... Step: 1660... Loss: 1.8714... Val Loss: 1.7485\n",
      "Epoch: 23/100... Step: 1670... Loss: 1.8769... Val Loss: 1.7447\n",
      "Epoch: 23/100... Step: 1680... Loss: 1.8403... Val Loss: 1.7409\n",
      "Epoch: 23/100... Step: 1690... Loss: 1.8419... Val Loss: 1.7364\n",
      "Epoch: 23/100... Step: 1700... Loss: 1.8565... Val Loss: 1.7335\n",
      "Epoch: 23/100... Step: 1710... Loss: 1.8367... Val Loss: 1.7303\n",
      "Epoch: 23/100... Step: 1720... Loss: 1.8458... Val Loss: 1.7269\n",
      "Epoch: 24/100... Step: 1730... Loss: 1.8643... Val Loss: 1.7227\n",
      "Epoch: 24/100... Step: 1740... Loss: 1.8380... Val Loss: 1.7184\n",
      "Epoch: 24/100... Step: 1750... Loss: 1.8526... Val Loss: 1.7134\n",
      "Epoch: 24/100... Step: 1760... Loss: 1.8488... Val Loss: 1.7123\n",
      "Epoch: 24/100... Step: 1770... Loss: 1.8266... Val Loss: 1.7099\n",
      "Epoch: 24/100... Step: 1780... Loss: 1.8456... Val Loss: 1.7068\n",
      "Epoch: 24/100... Step: 1790... Loss: 1.8336... Val Loss: 1.7019\n",
      "Epoch: 24/100... Step: 1800... Loss: 1.8449... Val Loss: 1.6981\n",
      "Epoch: 25/100... Step: 1810... Loss: 1.8178... Val Loss: 1.6942\n",
      "Epoch: 25/100... Step: 1820... Loss: 1.8181... Val Loss: 1.6916\n",
      "Epoch: 25/100... Step: 1830... Loss: 1.7887... Val Loss: 1.6879\n",
      "Epoch: 25/100... Step: 1840... Loss: 1.7950... Val Loss: 1.6857\n",
      "Epoch: 25/100... Step: 1850... Loss: 1.8099... Val Loss: 1.6822\n",
      "Epoch: 25/100... Step: 1860... Loss: 1.7835... Val Loss: 1.6801\n",
      "Epoch: 25/100... Step: 1870... Loss: 1.7955... Val Loss: 1.6770\n",
      "Epoch: 26/100... Step: 1880... Loss: 1.8090... Val Loss: 1.6716\n",
      "Epoch: 26/100... Step: 1890... Loss: 1.7861... Val Loss: 1.6716\n",
      "Epoch: 26/100... Step: 1900... Loss: 1.8016... Val Loss: 1.6684\n",
      "Epoch: 26/100... Step: 1910... Loss: 1.8002... Val Loss: 1.6637\n",
      "Epoch: 26/100... Step: 1920... Loss: 1.7782... Val Loss: 1.6642\n",
      "Epoch: 26/100... Step: 1930... Loss: 1.7909... Val Loss: 1.6609\n",
      "Epoch: 26/100... Step: 1940... Loss: 1.7929... Val Loss: 1.6582\n",
      "Epoch: 26/100... Step: 1950... Loss: 1.8016... Val Loss: 1.6548\n",
      "Epoch: 27/100... Step: 1960... Loss: 1.7688... Val Loss: 1.6508\n",
      "Epoch: 27/100... Step: 1970... Loss: 1.7756... Val Loss: 1.6504\n",
      "Epoch: 27/100... Step: 1980... Loss: 1.7418... Val Loss: 1.6428\n",
      "Epoch: 27/100... Step: 1990... Loss: 1.7464... Val Loss: 1.6410\n",
      "Epoch: 27/100... Step: 2000... Loss: 1.7598... Val Loss: 1.6395\n",
      "Epoch: 27/100... Step: 2010... Loss: 1.7376... Val Loss: 1.6370\n",
      "Epoch: 27/100... Step: 2020... Loss: 1.7497... Val Loss: 1.6333\n",
      "Epoch: 28/100... Step: 2030... Loss: 1.7677... Val Loss: 1.6304\n",
      "Epoch: 28/100... Step: 2040... Loss: 1.7477... Val Loss: 1.6276\n",
      "Epoch: 28/100... Step: 2050... Loss: 1.7551... Val Loss: 1.6256\n",
      "Epoch: 28/100... Step: 2060... Loss: 1.7572... Val Loss: 1.6233\n",
      "Epoch: 28/100... Step: 2070... Loss: 1.7376... Val Loss: 1.6230\n",
      "Epoch: 28/100... Step: 2080... Loss: 1.7491... Val Loss: 1.6212\n",
      "Epoch: 28/100... Step: 2090... Loss: 1.7486... Val Loss: 1.6176\n",
      "Epoch: 28/100... Step: 2100... Loss: 1.7663... Val Loss: 1.6140\n",
      "Epoch: 29/100... Step: 2110... Loss: 1.7311... Val Loss: 1.6135\n",
      "Epoch: 29/100... Step: 2120... Loss: 1.7385... Val Loss: 1.6098\n",
      "Epoch: 29/100... Step: 2130... Loss: 1.7091... Val Loss: 1.6051\n",
      "Epoch: 29/100... Step: 2140... Loss: 1.7097... Val Loss: 1.6024\n",
      "Epoch: 29/100... Step: 2150... Loss: 1.7217... Val Loss: 1.6019\n",
      "Epoch: 29/100... Step: 2160... Loss: 1.6979... Val Loss: 1.5984\n",
      "Epoch: 29/100... Step: 2170... Loss: 1.7093... Val Loss: 1.5975\n",
      "Epoch: 30/100... Step: 2180... Loss: 1.7382... Val Loss: 1.5933\n",
      "Epoch: 30/100... Step: 2190... Loss: 1.7084... Val Loss: 1.5910\n",
      "Epoch: 30/100... Step: 2200... Loss: 1.7211... Val Loss: 1.5892\n",
      "Epoch: 30/100... Step: 2210... Loss: 1.7239... Val Loss: 1.5873\n",
      "Epoch: 30/100... Step: 2220... Loss: 1.6979... Val Loss: 1.5867\n",
      "Epoch: 30/100... Step: 2230... Loss: 1.7123... Val Loss: 1.5833\n",
      "Epoch: 30/100... Step: 2240... Loss: 1.7134... Val Loss: 1.5807\n",
      "Epoch: 30/100... Step: 2250... Loss: 1.7307... Val Loss: 1.5785\n",
      "Epoch: 31/100... Step: 2260... Loss: 1.6956... Val Loss: 1.5782\n",
      "Epoch: 31/100... Step: 2270... Loss: 1.7009... Val Loss: 1.5747\n",
      "Epoch: 31/100... Step: 2280... Loss: 1.6763... Val Loss: 1.5711\n",
      "Epoch: 31/100... Step: 2290... Loss: 1.6688... Val Loss: 1.5705\n",
      "Epoch: 31/100... Step: 2300... Loss: 1.6891... Val Loss: 1.5707\n",
      "Epoch: 31/100... Step: 2310... Loss: 1.6698... Val Loss: 1.5664\n",
      "Epoch: 31/100... Step: 2320... Loss: 1.6732... Val Loss: 1.5646\n",
      "Epoch: 32/100... Step: 2330... Loss: 1.7027... Val Loss: 1.5628\n",
      "Epoch: 32/100... Step: 2340... Loss: 1.6726... Val Loss: 1.5605\n",
      "Epoch: 32/100... Step: 2350... Loss: 1.6884... Val Loss: 1.5589\n",
      "Epoch: 32/100... Step: 2360... Loss: 1.6968... Val Loss: 1.5583\n",
      "Epoch: 32/100... Step: 2370... Loss: 1.6678... Val Loss: 1.5575\n",
      "Epoch: 32/100... Step: 2380... Loss: 1.6829... Val Loss: 1.5541\n",
      "Epoch: 32/100... Step: 2390... Loss: 1.6862... Val Loss: 1.5525\n",
      "Epoch: 32/100... Step: 2400... Loss: 1.6974... Val Loss: 1.5506\n",
      "Epoch: 33/100... Step: 2410... Loss: 1.6622... Val Loss: 1.5500\n",
      "Epoch: 33/100... Step: 2420... Loss: 1.6688... Val Loss: 1.5459\n",
      "Epoch: 33/100... Step: 2430... Loss: 1.6379... Val Loss: 1.5458\n",
      "Epoch: 33/100... Step: 2440... Loss: 1.6368... Val Loss: 1.5442\n",
      "Epoch: 33/100... Step: 2450... Loss: 1.6604... Val Loss: 1.5435\n",
      "Epoch: 33/100... Step: 2460... Loss: 1.6310... Val Loss: 1.5395\n",
      "Epoch: 33/100... Step: 2470... Loss: 1.6464... Val Loss: 1.5398\n",
      "Epoch: 34/100... Step: 2480... Loss: 1.6766... Val Loss: 1.5364\n",
      "Epoch: 34/100... Step: 2490... Loss: 1.6390... Val Loss: 1.5351\n",
      "Epoch: 34/100... Step: 2500... Loss: 1.6593... Val Loss: 1.5342\n",
      "Epoch: 34/100... Step: 2510... Loss: 1.6618... Val Loss: 1.5312\n",
      "Epoch: 34/100... Step: 2520... Loss: 1.6402... Val Loss: 1.5312\n",
      "Epoch: 34/100... Step: 2530... Loss: 1.6548... Val Loss: 1.5299\n",
      "Epoch: 34/100... Step: 2540... Loss: 1.6564... Val Loss: 1.5268\n",
      "Epoch: 34/100... Step: 2550... Loss: 1.6689... Val Loss: 1.5254\n",
      "Epoch: 35/100... Step: 2560... Loss: 1.6390... Val Loss: 1.5245\n",
      "Epoch: 35/100... Step: 2570... Loss: 1.6469... Val Loss: 1.5223\n",
      "Epoch: 35/100... Step: 2580... Loss: 1.6118... Val Loss: 1.5204\n",
      "Epoch: 35/100... Step: 2590... Loss: 1.6136... Val Loss: 1.5215\n",
      "Epoch: 35/100... Step: 2600... Loss: 1.6309... Val Loss: 1.5198\n",
      "Epoch: 35/100... Step: 2610... Loss: 1.6115... Val Loss: 1.5163\n",
      "Epoch: 35/100... Step: 2620... Loss: 1.6193... Val Loss: 1.5160\n",
      "Epoch: 36/100... Step: 2630... Loss: 1.6493... Val Loss: 1.5149\n",
      "Epoch: 36/100... Step: 2640... Loss: 1.6208... Val Loss: 1.5133\n",
      "Epoch: 36/100... Step: 2650... Loss: 1.6409... Val Loss: 1.5100\n",
      "Epoch: 36/100... Step: 2660... Loss: 1.6349... Val Loss: 1.5098\n",
      "Epoch: 36/100... Step: 2670... Loss: 1.6122... Val Loss: 1.5093\n",
      "Epoch: 36/100... Step: 2680... Loss: 1.6263... Val Loss: 1.5059\n",
      "Epoch: 36/100... Step: 2690... Loss: 1.6258... Val Loss: 1.5041\n",
      "Epoch: 36/100... Step: 2700... Loss: 1.6497... Val Loss: 1.5048\n",
      "Epoch: 37/100... Step: 2710... Loss: 1.6121... Val Loss: 1.5034\n",
      "Epoch: 37/100... Step: 2720... Loss: 1.6201... Val Loss: 1.4991\n",
      "Epoch: 37/100... Step: 2730... Loss: 1.5889... Val Loss: 1.4988\n",
      "Epoch: 37/100... Step: 2740... Loss: 1.5907... Val Loss: 1.4979\n",
      "Epoch: 37/100... Step: 2750... Loss: 1.6104... Val Loss: 1.4974\n",
      "Epoch: 37/100... Step: 2760... Loss: 1.5859... Val Loss: 1.4952\n",
      "Epoch: 37/100... Step: 2770... Loss: 1.5974... Val Loss: 1.4957\n",
      "Epoch: 38/100... Step: 2780... Loss: 1.6261... Val Loss: 1.4943\n",
      "Epoch: 38/100... Step: 2790... Loss: 1.6005... Val Loss: 1.4909\n",
      "Epoch: 38/100... Step: 2800... Loss: 1.6118... Val Loss: 1.4900\n",
      "Epoch: 38/100... Step: 2810... Loss: 1.6109... Val Loss: 1.4877\n",
      "Epoch: 38/100... Step: 2820... Loss: 1.5919... Val Loss: 1.4886\n",
      "Epoch: 38/100... Step: 2830... Loss: 1.6086... Val Loss: 1.4871\n",
      "Epoch: 38/100... Step: 2840... Loss: 1.6076... Val Loss: 1.4849\n",
      "Epoch: 38/100... Step: 2850... Loss: 1.6225... Val Loss: 1.4840\n",
      "Epoch: 39/100... Step: 2860... Loss: 1.5985... Val Loss: 1.4823\n",
      "Epoch: 39/100... Step: 2870... Loss: 1.5927... Val Loss: 1.4801\n",
      "Epoch: 39/100... Step: 2880... Loss: 1.5608... Val Loss: 1.4795\n",
      "Epoch: 39/100... Step: 2890... Loss: 1.5655... Val Loss: 1.4799\n",
      "Epoch: 39/100... Step: 2900... Loss: 1.5896... Val Loss: 1.4786\n",
      "Epoch: 39/100... Step: 2910... Loss: 1.5635... Val Loss: 1.4757\n",
      "Epoch: 39/100... Step: 2920... Loss: 1.5745... Val Loss: 1.4752\n",
      "Epoch: 40/100... Step: 2930... Loss: 1.6046... Val Loss: 1.4738\n",
      "Epoch: 40/100... Step: 2940... Loss: 1.5786... Val Loss: 1.4717\n",
      "Epoch: 40/100... Step: 2950... Loss: 1.5888... Val Loss: 1.4723\n",
      "Epoch: 40/100... Step: 2960... Loss: 1.5926... Val Loss: 1.4695\n",
      "Epoch: 40/100... Step: 2970... Loss: 1.5711... Val Loss: 1.4693\n",
      "Epoch: 40/100... Step: 2980... Loss: 1.5827... Val Loss: 1.4681\n",
      "Epoch: 40/100... Step: 2990... Loss: 1.5915... Val Loss: 1.4669\n",
      "Epoch: 40/100... Step: 3000... Loss: 1.6089... Val Loss: 1.4670\n",
      "Epoch: 41/100... Step: 3010... Loss: 1.5721... Val Loss: 1.4649\n",
      "Epoch: 41/100... Step: 3020... Loss: 1.5757... Val Loss: 1.4615\n",
      "Epoch: 41/100... Step: 3030... Loss: 1.5455... Val Loss: 1.4615\n",
      "Epoch: 41/100... Step: 3040... Loss: 1.5425... Val Loss: 1.4624\n",
      "Epoch: 41/100... Step: 3050... Loss: 1.5692... Val Loss: 1.4624\n",
      "Epoch: 41/100... Step: 3060... Loss: 1.5436... Val Loss: 1.4601\n",
      "Epoch: 41/100... Step: 3070... Loss: 1.5590... Val Loss: 1.4587\n",
      "Epoch: 42/100... Step: 3080... Loss: 1.5858... Val Loss: 1.4569\n",
      "Epoch: 42/100... Step: 3090... Loss: 1.5532... Val Loss: 1.4552\n",
      "Epoch: 42/100... Step: 3100... Loss: 1.5695... Val Loss: 1.4558\n",
      "Epoch: 42/100... Step: 3110... Loss: 1.5697... Val Loss: 1.4523\n",
      "Epoch: 42/100... Step: 3120... Loss: 1.5571... Val Loss: 1.4537\n",
      "Epoch: 42/100... Step: 3130... Loss: 1.5608... Val Loss: 1.4523\n",
      "Epoch: 42/100... Step: 3140... Loss: 1.5683... Val Loss: 1.4505\n",
      "Epoch: 42/100... Step: 3150... Loss: 1.5907... Val Loss: 1.4500\n",
      "Epoch: 43/100... Step: 3160... Loss: 1.5541... Val Loss: 1.4489\n",
      "Epoch: 43/100... Step: 3170... Loss: 1.5550... Val Loss: 1.4468\n",
      "Epoch: 43/100... Step: 3180... Loss: 1.5241... Val Loss: 1.4466\n",
      "Epoch: 43/100... Step: 3190... Loss: 1.5285... Val Loss: 1.4466\n",
      "Epoch: 43/100... Step: 3200... Loss: 1.5497... Val Loss: 1.4467\n",
      "Epoch: 43/100... Step: 3210... Loss: 1.5238... Val Loss: 1.4432\n",
      "Epoch: 43/100... Step: 3220... Loss: 1.5394... Val Loss: 1.4430\n",
      "Epoch: 44/100... Step: 3230... Loss: 1.5706... Val Loss: 1.4417\n",
      "Epoch: 44/100... Step: 3240... Loss: 1.5361... Val Loss: 1.4403\n",
      "Epoch: 44/100... Step: 3250... Loss: 1.5513... Val Loss: 1.4404\n",
      "Epoch: 44/100... Step: 3260... Loss: 1.5515... Val Loss: 1.4383\n",
      "Epoch: 44/100... Step: 3270... Loss: 1.5390... Val Loss: 1.4390\n",
      "Epoch: 44/100... Step: 3280... Loss: 1.5482... Val Loss: 1.4357\n",
      "Epoch: 44/100... Step: 3290... Loss: 1.5432... Val Loss: 1.4359\n",
      "Epoch: 44/100... Step: 3300... Loss: 1.5735... Val Loss: 1.4361\n",
      "Epoch: 45/100... Step: 3310... Loss: 1.5352... Val Loss: 1.4346\n",
      "Epoch: 45/100... Step: 3320... Loss: 1.5406... Val Loss: 1.4318\n",
      "Epoch: 45/100... Step: 3330... Loss: 1.5095... Val Loss: 1.4308\n",
      "Epoch: 45/100... Step: 3340... Loss: 1.5121... Val Loss: 1.4311\n",
      "Epoch: 45/100... Step: 3350... Loss: 1.5334... Val Loss: 1.4323\n",
      "Epoch: 45/100... Step: 3360... Loss: 1.5073... Val Loss: 1.4299\n",
      "Epoch: 45/100... Step: 3370... Loss: 1.5250... Val Loss: 1.4297\n",
      "Epoch: 46/100... Step: 3380... Loss: 1.5559... Val Loss: 1.4279\n",
      "Epoch: 46/100... Step: 3390... Loss: 1.5179... Val Loss: 1.4262\n",
      "Epoch: 46/100... Step: 3400... Loss: 1.5394... Val Loss: 1.4276\n",
      "Epoch: 46/100... Step: 3410... Loss: 1.5360... Val Loss: 1.4249\n",
      "Epoch: 46/100... Step: 3420... Loss: 1.5178... Val Loss: 1.4247\n",
      "Epoch: 46/100... Step: 3430... Loss: 1.5334... Val Loss: 1.4235\n",
      "Epoch: 46/100... Step: 3440... Loss: 1.5329... Val Loss: 1.4235\n",
      "Epoch: 46/100... Step: 3450... Loss: 1.5589... Val Loss: 1.4223\n",
      "Epoch: 47/100... Step: 3460... Loss: 1.5229... Val Loss: 1.4192\n",
      "Epoch: 47/100... Step: 3470... Loss: 1.5256... Val Loss: 1.4187\n",
      "Epoch: 47/100... Step: 3480... Loss: 1.4922... Val Loss: 1.4195\n",
      "Epoch: 47/100... Step: 3490... Loss: 1.4923... Val Loss: 1.4192\n",
      "Epoch: 47/100... Step: 3500... Loss: 1.5181... Val Loss: 1.4182\n",
      "Epoch: 47/100... Step: 3510... Loss: 1.4926... Val Loss: 1.4170\n",
      "Epoch: 47/100... Step: 3520... Loss: 1.5059... Val Loss: 1.4170\n",
      "Epoch: 48/100... Step: 3530... Loss: 1.5346... Val Loss: 1.4151\n",
      "Epoch: 48/100... Step: 3540... Loss: 1.5091... Val Loss: 1.4136\n",
      "Epoch: 48/100... Step: 3550... Loss: 1.5263... Val Loss: 1.4132\n",
      "Epoch: 48/100... Step: 3560... Loss: 1.5168... Val Loss: 1.4127\n",
      "Epoch: 48/100... Step: 3570... Loss: 1.5115... Val Loss: 1.4127\n",
      "Epoch: 48/100... Step: 3580... Loss: 1.5134... Val Loss: 1.4110\n",
      "Epoch: 48/100... Step: 3590... Loss: 1.5220... Val Loss: 1.4111\n",
      "Epoch: 48/100... Step: 3600... Loss: 1.5441... Val Loss: 1.4098\n",
      "Epoch: 49/100... Step: 3610... Loss: 1.5077... Val Loss: 1.4076\n",
      "Epoch: 49/100... Step: 3620... Loss: 1.5101... Val Loss: 1.4076\n",
      "Epoch: 49/100... Step: 3630... Loss: 1.4754... Val Loss: 1.4083\n",
      "Epoch: 49/100... Step: 3640... Loss: 1.4822... Val Loss: 1.4074\n",
      "Epoch: 49/100... Step: 3650... Loss: 1.5026... Val Loss: 1.4073\n",
      "Epoch: 49/100... Step: 3660... Loss: 1.4786... Val Loss: 1.4046\n",
      "Epoch: 49/100... Step: 3670... Loss: 1.4886... Val Loss: 1.4043\n",
      "Epoch: 50/100... Step: 3680... Loss: 1.5171... Val Loss: 1.4031\n",
      "Epoch: 50/100... Step: 3690... Loss: 1.4919... Val Loss: 1.4008\n",
      "Epoch: 50/100... Step: 3700... Loss: 1.5079... Val Loss: 1.4021\n",
      "Epoch: 50/100... Step: 3710... Loss: 1.5086... Val Loss: 1.4004\n",
      "Epoch: 50/100... Step: 3720... Loss: 1.4911... Val Loss: 1.3998\n",
      "Epoch: 50/100... Step: 3730... Loss: 1.5076... Val Loss: 1.3998\n",
      "Epoch: 50/100... Step: 3740... Loss: 1.5045... Val Loss: 1.3993\n",
      "Epoch: 50/100... Step: 3750... Loss: 1.5293... Val Loss: 1.3993\n",
      "Epoch: 51/100... Step: 3760... Loss: 1.4944... Val Loss: 1.3969\n",
      "Epoch: 51/100... Step: 3770... Loss: 1.4958... Val Loss: 1.3936\n",
      "Epoch: 51/100... Step: 3780... Loss: 1.4646... Val Loss: 1.3982\n",
      "Epoch: 51/100... Step: 3790... Loss: 1.4721... Val Loss: 1.3987\n",
      "Epoch: 51/100... Step: 3800... Loss: 1.4938... Val Loss: 1.3960\n",
      "Epoch: 51/100... Step: 3810... Loss: 1.4639... Val Loss: 1.3941\n",
      "Epoch: 51/100... Step: 3820... Loss: 1.4762... Val Loss: 1.3928\n",
      "Epoch: 52/100... Step: 3830... Loss: 1.5048... Val Loss: 1.3928\n",
      "Epoch: 52/100... Step: 3840... Loss: 1.4782... Val Loss: 1.3901\n",
      "Epoch: 52/100... Step: 3850... Loss: 1.4956... Val Loss: 1.3937\n",
      "Epoch: 52/100... Step: 3860... Loss: 1.4958... Val Loss: 1.3896\n",
      "Epoch: 52/100... Step: 3870... Loss: 1.4805... Val Loss: 1.3907\n",
      "Epoch: 52/100... Step: 3880... Loss: 1.4888... Val Loss: 1.3899\n",
      "Epoch: 52/100... Step: 3890... Loss: 1.4925... Val Loss: 1.3874\n",
      "Epoch: 52/100... Step: 3900... Loss: 1.5250... Val Loss: 1.3882\n",
      "Epoch: 53/100... Step: 3910... Loss: 1.4794... Val Loss: 1.3865\n",
      "Epoch: 53/100... Step: 3920... Loss: 1.4880... Val Loss: 1.3879\n",
      "Epoch: 53/100... Step: 3930... Loss: 1.4502... Val Loss: 1.3871\n",
      "Epoch: 53/100... Step: 3940... Loss: 1.4558... Val Loss: 1.3862\n",
      "Epoch: 53/100... Step: 3950... Loss: 1.4822... Val Loss: 1.3865\n",
      "Epoch: 53/100... Step: 3960... Loss: 1.4574... Val Loss: 1.3832\n",
      "Epoch: 53/100... Step: 3970... Loss: 1.4641... Val Loss: 1.3846\n",
      "Epoch: 54/100... Step: 3980... Loss: 1.4957... Val Loss: 1.3828\n",
      "Epoch: 54/100... Step: 3990... Loss: 1.4618... Val Loss: 1.3801\n",
      "Epoch: 54/100... Step: 4000... Loss: 1.4831... Val Loss: 1.3816\n",
      "Epoch: 54/100... Step: 4010... Loss: 1.4812... Val Loss: 1.3799\n",
      "Epoch: 54/100... Step: 4020... Loss: 1.4638... Val Loss: 1.3816\n",
      "Epoch: 54/100... Step: 4030... Loss: 1.4749... Val Loss: 1.3786\n",
      "Epoch: 54/100... Step: 4040... Loss: 1.4834... Val Loss: 1.3792\n",
      "Epoch: 54/100... Step: 4050... Loss: 1.5093... Val Loss: 1.3781\n",
      "Epoch: 55/100... Step: 4060... Loss: 1.4695... Val Loss: 1.3794\n",
      "Epoch: 55/100... Step: 4070... Loss: 1.4712... Val Loss: 1.3773\n",
      "Epoch: 55/100... Step: 4080... Loss: 1.4406... Val Loss: 1.3756\n",
      "Epoch: 55/100... Step: 4090... Loss: 1.4422... Val Loss: 1.3778\n",
      "Epoch: 55/100... Step: 4100... Loss: 1.4707... Val Loss: 1.3763\n",
      "Epoch: 55/100... Step: 4110... Loss: 1.4484... Val Loss: 1.3751\n",
      "Epoch: 55/100... Step: 4120... Loss: 1.4579... Val Loss: 1.3760\n",
      "Epoch: 56/100... Step: 4130... Loss: 1.4850... Val Loss: 1.3747\n",
      "Epoch: 56/100... Step: 4140... Loss: 1.4581... Val Loss: 1.3716\n",
      "Epoch: 56/100... Step: 4150... Loss: 1.4701... Val Loss: 1.3735\n",
      "Epoch: 56/100... Step: 4160... Loss: 1.4688... Val Loss: 1.3707\n",
      "Epoch: 56/100... Step: 4170... Loss: 1.4574... Val Loss: 1.3706\n",
      "Epoch: 56/100... Step: 4180... Loss: 1.4716... Val Loss: 1.3702\n",
      "Epoch: 56/100... Step: 4190... Loss: 1.4718... Val Loss: 1.3697\n",
      "Epoch: 56/100... Step: 4200... Loss: 1.4991... Val Loss: 1.3687\n",
      "Epoch: 57/100... Step: 4210... Loss: 1.4583... Val Loss: 1.3681\n",
      "Epoch: 57/100... Step: 4220... Loss: 1.4613... Val Loss: 1.3678\n",
      "Epoch: 57/100... Step: 4230... Loss: 1.4312... Val Loss: 1.3685\n",
      "Epoch: 57/100... Step: 4240... Loss: 1.4315... Val Loss: 1.3672\n",
      "Epoch: 57/100... Step: 4250... Loss: 1.4579... Val Loss: 1.3686\n",
      "Epoch: 57/100... Step: 4260... Loss: 1.4339... Val Loss: 1.3677\n",
      "Epoch: 57/100... Step: 4270... Loss: 1.4444... Val Loss: 1.3672\n",
      "Epoch: 58/100... Step: 4280... Loss: 1.4756... Val Loss: 1.3651\n",
      "Epoch: 58/100... Step: 4290... Loss: 1.4467... Val Loss: 1.3624\n",
      "Epoch: 58/100... Step: 4300... Loss: 1.4547... Val Loss: 1.3642\n",
      "Epoch: 58/100... Step: 4310... Loss: 1.4570... Val Loss: 1.3627\n",
      "Epoch: 58/100... Step: 4320... Loss: 1.4419... Val Loss: 1.3641\n",
      "Epoch: 58/100... Step: 4330... Loss: 1.4574... Val Loss: 1.3610\n",
      "Epoch: 58/100... Step: 4340... Loss: 1.4612... Val Loss: 1.3621\n",
      "Epoch: 58/100... Step: 4350... Loss: 1.4926... Val Loss: 1.3626\n",
      "Epoch: 59/100... Step: 4360... Loss: 1.4449... Val Loss: 1.3594\n",
      "Epoch: 59/100... Step: 4370... Loss: 1.4518... Val Loss: 1.3599\n",
      "Epoch: 59/100... Step: 4380... Loss: 1.4184... Val Loss: 1.3610\n",
      "Epoch: 59/100... Step: 4390... Loss: 1.4254... Val Loss: 1.3602\n",
      "Epoch: 59/100... Step: 4400... Loss: 1.4486... Val Loss: 1.3600\n",
      "Epoch: 59/100... Step: 4410... Loss: 1.4222... Val Loss: 1.3591\n",
      "Epoch: 59/100... Step: 4420... Loss: 1.4360... Val Loss: 1.3589\n",
      "Epoch: 60/100... Step: 4430... Loss: 1.4709... Val Loss: 1.3570\n",
      "Epoch: 60/100... Step: 4440... Loss: 1.4350... Val Loss: 1.3551\n",
      "Epoch: 60/100... Step: 4450... Loss: 1.4518... Val Loss: 1.3578\n",
      "Epoch: 60/100... Step: 4460... Loss: 1.4428... Val Loss: 1.3542\n",
      "Epoch: 60/100... Step: 4470... Loss: 1.4324... Val Loss: 1.3561\n",
      "Epoch: 60/100... Step: 4480... Loss: 1.4489... Val Loss: 1.3532\n",
      "Epoch: 60/100... Step: 4490... Loss: 1.4496... Val Loss: 1.3543\n",
      "Epoch: 60/100... Step: 4500... Loss: 1.4822... Val Loss: 1.3534\n",
      "Epoch: 61/100... Step: 4510... Loss: 1.4380... Val Loss: 1.3520\n",
      "Epoch: 61/100... Step: 4520... Loss: 1.4422... Val Loss: 1.3526\n",
      "Epoch: 61/100... Step: 4530... Loss: 1.4081... Val Loss: 1.3527\n",
      "Epoch: 61/100... Step: 4540... Loss: 1.4171... Val Loss: 1.3536\n",
      "Epoch: 61/100... Step: 4550... Loss: 1.4363... Val Loss: 1.3525\n",
      "Epoch: 61/100... Step: 4560... Loss: 1.4138... Val Loss: 1.3528\n",
      "Epoch: 61/100... Step: 4570... Loss: 1.4300... Val Loss: 1.3518\n",
      "Epoch: 62/100... Step: 4580... Loss: 1.4561... Val Loss: 1.3492\n",
      "Epoch: 62/100... Step: 4590... Loss: 1.4234... Val Loss: 1.3477\n",
      "Epoch: 62/100... Step: 4600... Loss: 1.4424... Val Loss: 1.3491\n",
      "Epoch: 62/100... Step: 4610... Loss: 1.4432... Val Loss: 1.3471\n",
      "Epoch: 62/100... Step: 4620... Loss: 1.4287... Val Loss: 1.3480\n",
      "Epoch: 62/100... Step: 4630... Loss: 1.4430... Val Loss: 1.3461\n",
      "Epoch: 62/100... Step: 4640... Loss: 1.4368... Val Loss: 1.3470\n",
      "Epoch: 62/100... Step: 4650... Loss: 1.4675... Val Loss: 1.3459\n",
      "Epoch: 63/100... Step: 4660... Loss: 1.4320... Val Loss: 1.3453\n",
      "Epoch: 63/100... Step: 4670... Loss: 1.4323... Val Loss: 1.3448\n",
      "Epoch: 63/100... Step: 4680... Loss: 1.3970... Val Loss: 1.3455\n",
      "Epoch: 63/100... Step: 4690... Loss: 1.4082... Val Loss: 1.3468\n",
      "Epoch: 63/100... Step: 4700... Loss: 1.4310... Val Loss: 1.3460\n",
      "Epoch: 63/100... Step: 4710... Loss: 1.4063... Val Loss: 1.3448\n",
      "Epoch: 63/100... Step: 4720... Loss: 1.4172... Val Loss: 1.3439\n",
      "Epoch: 64/100... Step: 4730... Loss: 1.4451... Val Loss: 1.3420\n",
      "Epoch: 64/100... Step: 4740... Loss: 1.4162... Val Loss: 1.3424\n",
      "Epoch: 64/100... Step: 4750... Loss: 1.4326... Val Loss: 1.3429\n",
      "Epoch: 64/100... Step: 4760... Loss: 1.4264... Val Loss: 1.3415\n",
      "Epoch: 64/100... Step: 4770... Loss: 1.4203... Val Loss: 1.3425\n",
      "Epoch: 64/100... Step: 4780... Loss: 1.4275... Val Loss: 1.3390\n",
      "Epoch: 64/100... Step: 4790... Loss: 1.4278... Val Loss: 1.3423\n",
      "Epoch: 64/100... Step: 4800... Loss: 1.4676... Val Loss: 1.3388\n",
      "Epoch: 65/100... Step: 4810... Loss: 1.4153... Val Loss: 1.3374\n",
      "Epoch: 65/100... Step: 4820... Loss: 1.4277... Val Loss: 1.3373\n",
      "Epoch: 65/100... Step: 4830... Loss: 1.3991... Val Loss: 1.3373\n",
      "Epoch: 65/100... Step: 4840... Loss: 1.4004... Val Loss: 1.3394\n",
      "Epoch: 65/100... Step: 4850... Loss: 1.4211... Val Loss: 1.3368\n",
      "Epoch: 65/100... Step: 4860... Loss: 1.4013... Val Loss: 1.3386\n",
      "Epoch: 65/100... Step: 4870... Loss: 1.4100... Val Loss: 1.3376\n",
      "Epoch: 66/100... Step: 4880... Loss: 1.4384... Val Loss: 1.3369\n",
      "Epoch: 66/100... Step: 4890... Loss: 1.4083... Val Loss: 1.3367\n",
      "Epoch: 66/100... Step: 4900... Loss: 1.4296... Val Loss: 1.3392\n",
      "Epoch: 66/100... Step: 4910... Loss: 1.4219... Val Loss: 1.3353\n",
      "Epoch: 66/100... Step: 4920... Loss: 1.4110... Val Loss: 1.3370\n",
      "Epoch: 66/100... Step: 4930... Loss: 1.4217... Val Loss: 1.3356\n",
      "Epoch: 66/100... Step: 4940... Loss: 1.4232... Val Loss: 1.3351\n",
      "Epoch: 66/100... Step: 4950... Loss: 1.4547... Val Loss: 1.3337\n",
      "Epoch: 67/100... Step: 4960... Loss: 1.4082... Val Loss: 1.3308\n",
      "Epoch: 67/100... Step: 4970... Loss: 1.4189... Val Loss: 1.3315\n",
      "Epoch: 67/100... Step: 4980... Loss: 1.3846... Val Loss: 1.3312\n",
      "Epoch: 67/100... Step: 4990... Loss: 1.3915... Val Loss: 1.3329\n",
      "Epoch: 67/100... Step: 5000... Loss: 1.4166... Val Loss: 1.3325\n",
      "Epoch: 67/100... Step: 5010... Loss: 1.3909... Val Loss: 1.3307\n",
      "Epoch: 67/100... Step: 5020... Loss: 1.4028... Val Loss: 1.3313\n",
      "Epoch: 68/100... Step: 5030... Loss: 1.4294... Val Loss: 1.3298\n",
      "Epoch: 68/100... Step: 5040... Loss: 1.3981... Val Loss: 1.3292\n",
      "Epoch: 68/100... Step: 5050... Loss: 1.4179... Val Loss: 1.3324\n",
      "Epoch: 68/100... Step: 5060... Loss: 1.4101... Val Loss: 1.3290\n",
      "Epoch: 68/100... Step: 5070... Loss: 1.4065... Val Loss: 1.3292\n",
      "Epoch: 68/100... Step: 5080... Loss: 1.4125... Val Loss: 1.3287\n",
      "Epoch: 68/100... Step: 5090... Loss: 1.4162... Val Loss: 1.3286\n",
      "Epoch: 68/100... Step: 5100... Loss: 1.4451... Val Loss: 1.3278\n",
      "Epoch: 69/100... Step: 5110... Loss: 1.4030... Val Loss: 1.3256\n",
      "Epoch: 69/100... Step: 5120... Loss: 1.4104... Val Loss: 1.3249\n",
      "Epoch: 69/100... Step: 5130... Loss: 1.3787... Val Loss: 1.3257\n",
      "Epoch: 69/100... Step: 5140... Loss: 1.3820... Val Loss: 1.3274\n",
      "Epoch: 69/100... Step: 5150... Loss: 1.4016... Val Loss: 1.3256\n",
      "Epoch: 69/100... Step: 5160... Loss: 1.3817... Val Loss: 1.3255\n",
      "Epoch: 69/100... Step: 5170... Loss: 1.3900... Val Loss: 1.3266\n",
      "Epoch: 70/100... Step: 5180... Loss: 1.4239... Val Loss: 1.3252\n",
      "Epoch: 70/100... Step: 5190... Loss: 1.3921... Val Loss: 1.3247\n",
      "Epoch: 70/100... Step: 5200... Loss: 1.4099... Val Loss: 1.3236\n",
      "Epoch: 70/100... Step: 5210... Loss: 1.4067... Val Loss: 1.3229\n",
      "Epoch: 70/100... Step: 5220... Loss: 1.4012... Val Loss: 1.3249\n",
      "Epoch: 70/100... Step: 5230... Loss: 1.4071... Val Loss: 1.3228\n",
      "Epoch: 70/100... Step: 5240... Loss: 1.4108... Val Loss: 1.3223\n",
      "Epoch: 70/100... Step: 5250... Loss: 1.4417... Val Loss: 1.3212\n",
      "Epoch: 71/100... Step: 5260... Loss: 1.3976... Val Loss: 1.3200\n",
      "Epoch: 71/100... Step: 5270... Loss: 1.4000... Val Loss: 1.3208\n",
      "Epoch: 71/100... Step: 5280... Loss: 1.3711... Val Loss: 1.3194\n",
      "Epoch: 71/100... Step: 5290... Loss: 1.3740... Val Loss: 1.3215\n",
      "Epoch: 71/100... Step: 5300... Loss: 1.4003... Val Loss: 1.3205\n",
      "Epoch: 71/100... Step: 5310... Loss: 1.3746... Val Loss: 1.3214\n",
      "Epoch: 71/100... Step: 5320... Loss: 1.3818... Val Loss: 1.3185\n",
      "Epoch: 72/100... Step: 5330... Loss: 1.4073... Val Loss: 1.3182\n",
      "Epoch: 72/100... Step: 5340... Loss: 1.3905... Val Loss: 1.3166\n",
      "Epoch: 72/100... Step: 5350... Loss: 1.4011... Val Loss: 1.3200\n",
      "Epoch: 72/100... Step: 5360... Loss: 1.3985... Val Loss: 1.3168\n",
      "Epoch: 72/100... Step: 5370... Loss: 1.3879... Val Loss: 1.3190\n",
      "Epoch: 72/100... Step: 5380... Loss: 1.3952... Val Loss: 1.3161\n",
      "Epoch: 72/100... Step: 5390... Loss: 1.4048... Val Loss: 1.3161\n",
      "Epoch: 72/100... Step: 5400... Loss: 1.4289... Val Loss: 1.3161\n",
      "Epoch: 73/100... Step: 5410... Loss: 1.3896... Val Loss: 1.3161\n",
      "Epoch: 73/100... Step: 5420... Loss: 1.3957... Val Loss: 1.3159\n",
      "Epoch: 73/100... Step: 5430... Loss: 1.3619... Val Loss: 1.3175\n",
      "Epoch: 73/100... Step: 5440... Loss: 1.3703... Val Loss: 1.3172\n",
      "Epoch: 73/100... Step: 5450... Loss: 1.3938... Val Loss: 1.3164\n",
      "Epoch: 73/100... Step: 5460... Loss: 1.3619... Val Loss: 1.3168\n",
      "Epoch: 73/100... Step: 5470... Loss: 1.3853... Val Loss: 1.3153\n",
      "Epoch: 74/100... Step: 5480... Loss: 1.4093... Val Loss: 1.3156\n",
      "Epoch: 74/100... Step: 5490... Loss: 1.3821... Val Loss: 1.3130\n",
      "Epoch: 74/100... Step: 5500... Loss: 1.3910... Val Loss: 1.3150\n",
      "Epoch: 74/100... Step: 5510... Loss: 1.3908... Val Loss: 1.3128\n",
      "Epoch: 74/100... Step: 5520... Loss: 1.3800... Val Loss: 1.3131\n",
      "Epoch: 74/100... Step: 5530... Loss: 1.3913... Val Loss: 1.3114\n",
      "Epoch: 74/100... Step: 5540... Loss: 1.3943... Val Loss: 1.3127\n",
      "Epoch: 74/100... Step: 5550... Loss: 1.4260... Val Loss: 1.3126\n",
      "Epoch: 75/100... Step: 5560... Loss: 1.3848... Val Loss: 1.3090\n",
      "Epoch: 75/100... Step: 5570... Loss: 1.3933... Val Loss: 1.3098\n",
      "Epoch: 75/100... Step: 5580... Loss: 1.3560... Val Loss: 1.3102\n",
      "Epoch: 75/100... Step: 5590... Loss: 1.3605... Val Loss: 1.3114\n",
      "Epoch: 75/100... Step: 5600... Loss: 1.3866... Val Loss: 1.3101\n",
      "Epoch: 75/100... Step: 5610... Loss: 1.3597... Val Loss: 1.3095\n",
      "Epoch: 75/100... Step: 5620... Loss: 1.3696... Val Loss: 1.3095\n",
      "Epoch: 76/100... Step: 5630... Loss: 1.4012... Val Loss: 1.3089\n",
      "Epoch: 76/100... Step: 5640... Loss: 1.3685... Val Loss: 1.3077\n",
      "Epoch: 76/100... Step: 5650... Loss: 1.3868... Val Loss: 1.3103\n",
      "Epoch: 76/100... Step: 5660... Loss: 1.3822... Val Loss: 1.3078\n",
      "Epoch: 76/100... Step: 5670... Loss: 1.3696... Val Loss: 1.3089\n",
      "Epoch: 76/100... Step: 5680... Loss: 1.3806... Val Loss: 1.3072\n",
      "Epoch: 76/100... Step: 5690... Loss: 1.3834... Val Loss: 1.3075\n",
      "Epoch: 76/100... Step: 5700... Loss: 1.4171... Val Loss: 1.3070\n",
      "Epoch: 77/100... Step: 5710... Loss: 1.3771... Val Loss: 1.3056\n",
      "Epoch: 77/100... Step: 5720... Loss: 1.3790... Val Loss: 1.3049\n",
      "Epoch: 77/100... Step: 5730... Loss: 1.3524... Val Loss: 1.3056\n",
      "Epoch: 77/100... Step: 5740... Loss: 1.3590... Val Loss: 1.3070\n",
      "Epoch: 77/100... Step: 5750... Loss: 1.3813... Val Loss: 1.3079\n",
      "Epoch: 77/100... Step: 5760... Loss: 1.3565... Val Loss: 1.3067\n",
      "Epoch: 77/100... Step: 5770... Loss: 1.3620... Val Loss: 1.3068\n",
      "Epoch: 78/100... Step: 5780... Loss: 1.3981... Val Loss: 1.3052\n",
      "Epoch: 78/100... Step: 5790... Loss: 1.3626... Val Loss: 1.3030\n",
      "Epoch: 78/100... Step: 5800... Loss: 1.3783... Val Loss: 1.3043\n",
      "Epoch: 78/100... Step: 5810... Loss: 1.3718... Val Loss: 1.3038\n",
      "Epoch: 78/100... Step: 5820... Loss: 1.3726... Val Loss: 1.3058\n",
      "Epoch: 78/100... Step: 5830... Loss: 1.3803... Val Loss: 1.3024\n",
      "Epoch: 78/100... Step: 5840... Loss: 1.3769... Val Loss: 1.3036\n",
      "Epoch: 78/100... Step: 5850... Loss: 1.4196... Val Loss: 1.3028\n",
      "Epoch: 79/100... Step: 5860... Loss: 1.3732... Val Loss: 1.3024\n",
      "Epoch: 79/100... Step: 5870... Loss: 1.3793... Val Loss: 1.3014\n",
      "Epoch: 79/100... Step: 5880... Loss: 1.3404... Val Loss: 1.3020\n",
      "Epoch: 79/100... Step: 5890... Loss: 1.3528... Val Loss: 1.3046\n",
      "Epoch: 79/100... Step: 5900... Loss: 1.3741... Val Loss: 1.3040\n",
      "Epoch: 79/100... Step: 5910... Loss: 1.3508... Val Loss: 1.3047\n",
      "Epoch: 79/100... Step: 5920... Loss: 1.3629... Val Loss: 1.3008\n",
      "Epoch: 80/100... Step: 5930... Loss: 1.3893... Val Loss: 1.3029\n",
      "Epoch: 80/100... Step: 5940... Loss: 1.3634... Val Loss: 1.2995\n",
      "Epoch: 80/100... Step: 5950... Loss: 1.3756... Val Loss: 1.3016\n",
      "Epoch: 80/100... Step: 5960... Loss: 1.3726... Val Loss: 1.2992\n",
      "Epoch: 80/100... Step: 5970... Loss: 1.3571... Val Loss: 1.2998\n",
      "Epoch: 80/100... Step: 5980... Loss: 1.3717... Val Loss: 1.2996\n",
      "Epoch: 80/100... Step: 5990... Loss: 1.3792... Val Loss: 1.2986\n",
      "Epoch: 80/100... Step: 6000... Loss: 1.4124... Val Loss: 1.2994\n",
      "Epoch: 81/100... Step: 6010... Loss: 1.3646... Val Loss: 1.2966\n",
      "Epoch: 81/100... Step: 6020... Loss: 1.3712... Val Loss: 1.2967\n",
      "Epoch: 81/100... Step: 6030... Loss: 1.3435... Val Loss: 1.2980\n",
      "Epoch: 81/100... Step: 6040... Loss: 1.3447... Val Loss: 1.3001\n",
      "Epoch: 81/100... Step: 6050... Loss: 1.3689... Val Loss: 1.3000\n",
      "Epoch: 81/100... Step: 6060... Loss: 1.3439... Val Loss: 1.2973\n",
      "Epoch: 81/100... Step: 6070... Loss: 1.3563... Val Loss: 1.2966\n",
      "Epoch: 82/100... Step: 6080... Loss: 1.3860... Val Loss: 1.2981\n",
      "Epoch: 82/100... Step: 6090... Loss: 1.3464... Val Loss: 1.2958\n",
      "Epoch: 82/100... Step: 6100... Loss: 1.3690... Val Loss: 1.2976\n",
      "Epoch: 82/100... Step: 6110... Loss: 1.3643... Val Loss: 1.2965\n",
      "Epoch: 82/100... Step: 6120... Loss: 1.3565... Val Loss: 1.2976\n",
      "Epoch: 82/100... Step: 6130... Loss: 1.3676... Val Loss: 1.2933\n",
      "Epoch: 82/100... Step: 6140... Loss: 1.3695... Val Loss: 1.2955\n",
      "Epoch: 82/100... Step: 6150... Loss: 1.4042... Val Loss: 1.2955\n",
      "Epoch: 83/100... Step: 6160... Loss: 1.3613... Val Loss: 1.2965\n",
      "Epoch: 83/100... Step: 6170... Loss: 1.3664... Val Loss: 1.2943\n",
      "Epoch: 83/100... Step: 6180... Loss: 1.3373... Val Loss: 1.2937\n",
      "Epoch: 83/100... Step: 6190... Loss: 1.3390... Val Loss: 1.2948\n",
      "Epoch: 83/100... Step: 6200... Loss: 1.3593... Val Loss: 1.2945\n",
      "Epoch: 83/100... Step: 6210... Loss: 1.3378... Val Loss: 1.2951\n",
      "Epoch: 83/100... Step: 6220... Loss: 1.3489... Val Loss: 1.2941\n",
      "Epoch: 84/100... Step: 6230... Loss: 1.3806... Val Loss: 1.2925\n",
      "Epoch: 84/100... Step: 6240... Loss: 1.3459... Val Loss: 1.2920\n",
      "Epoch: 84/100... Step: 6250... Loss: 1.3633... Val Loss: 1.2945\n",
      "Epoch: 84/100... Step: 6260... Loss: 1.3597... Val Loss: 1.2915\n",
      "Epoch: 84/100... Step: 6270... Loss: 1.3555... Val Loss: 1.2921\n",
      "Epoch: 84/100... Step: 6280... Loss: 1.3590... Val Loss: 1.2923\n",
      "Epoch: 84/100... Step: 6290... Loss: 1.3669... Val Loss: 1.2909\n",
      "Epoch: 84/100... Step: 6300... Loss: 1.4002... Val Loss: 1.2921\n",
      "Epoch: 85/100... Step: 6310... Loss: 1.3548... Val Loss: 1.2899\n",
      "Epoch: 85/100... Step: 6320... Loss: 1.3642... Val Loss: 1.2892\n",
      "Epoch: 85/100... Step: 6330... Loss: 1.3319... Val Loss: 1.2911\n",
      "Epoch: 85/100... Step: 6340... Loss: 1.3344... Val Loss: 1.2930\n",
      "Epoch: 85/100... Step: 6350... Loss: 1.3616... Val Loss: 1.2916\n",
      "Epoch: 85/100... Step: 6360... Loss: 1.3344... Val Loss: 1.2915\n",
      "Epoch: 85/100... Step: 6370... Loss: 1.3463... Val Loss: 1.2910\n",
      "Epoch: 86/100... Step: 6380... Loss: 1.3778... Val Loss: 1.2903\n",
      "Epoch: 86/100... Step: 6390... Loss: 1.3432... Val Loss: 1.2907\n",
      "Epoch: 86/100... Step: 6400... Loss: 1.3593... Val Loss: 1.2900\n",
      "Epoch: 86/100... Step: 6410... Loss: 1.3562... Val Loss: 1.2889\n",
      "Epoch: 86/100... Step: 6420... Loss: 1.3479... Val Loss: 1.2910\n",
      "Epoch: 86/100... Step: 6430... Loss: 1.3535... Val Loss: 1.2890\n",
      "Epoch: 86/100... Step: 6440... Loss: 1.3575... Val Loss: 1.2884\n",
      "Epoch: 86/100... Step: 6450... Loss: 1.3967... Val Loss: 1.2866\n",
      "Epoch: 87/100... Step: 6460... Loss: 1.3489... Val Loss: 1.2863\n",
      "Epoch: 87/100... Step: 6470... Loss: 1.3537... Val Loss: 1.2859\n",
      "Epoch: 87/100... Step: 6480... Loss: 1.3223... Val Loss: 1.2883\n",
      "Epoch: 87/100... Step: 6490... Loss: 1.3287... Val Loss: 1.2880\n",
      "Epoch: 87/100... Step: 6500... Loss: 1.3491... Val Loss: 1.2880\n",
      "Epoch: 87/100... Step: 6510... Loss: 1.3315... Val Loss: 1.2860\n",
      "Epoch: 87/100... Step: 6520... Loss: 1.3429... Val Loss: 1.2866\n",
      "Epoch: 88/100... Step: 6530... Loss: 1.3665... Val Loss: 1.2871\n",
      "Epoch: 88/100... Step: 6540... Loss: 1.3397... Val Loss: 1.2862\n",
      "Epoch: 88/100... Step: 6550... Loss: 1.3563... Val Loss: 1.2873\n",
      "Epoch: 88/100... Step: 6560... Loss: 1.3537... Val Loss: 1.2872\n",
      "Epoch: 88/100... Step: 6570... Loss: 1.3447... Val Loss: 1.2887\n",
      "Epoch: 88/100... Step: 6580... Loss: 1.3506... Val Loss: 1.2873\n",
      "Epoch: 88/100... Step: 6590... Loss: 1.3537... Val Loss: 1.2901\n",
      "Epoch: 88/100... Step: 6600... Loss: 1.3915... Val Loss: 1.2845\n",
      "Epoch: 89/100... Step: 6610... Loss: 1.3460... Val Loss: 1.2842\n",
      "Epoch: 89/100... Step: 6620... Loss: 1.3493... Val Loss: 1.2816\n",
      "Epoch: 89/100... Step: 6630... Loss: 1.3193... Val Loss: 1.2826\n",
      "Epoch: 89/100... Step: 6640... Loss: 1.3301... Val Loss: 1.2842\n",
      "Epoch: 89/100... Step: 6650... Loss: 1.3492... Val Loss: 1.2839\n",
      "Epoch: 89/100... Step: 6660... Loss: 1.3229... Val Loss: 1.2839\n",
      "Epoch: 89/100... Step: 6670... Loss: 1.3369... Val Loss: 1.2825\n",
      "Epoch: 90/100... Step: 6680... Loss: 1.3652... Val Loss: 1.2828\n",
      "Epoch: 90/100... Step: 6690... Loss: 1.3336... Val Loss: 1.2831\n",
      "Epoch: 90/100... Step: 6700... Loss: 1.3456... Val Loss: 1.2831\n",
      "Epoch: 90/100... Step: 6710... Loss: 1.3473... Val Loss: 1.2834\n",
      "Epoch: 90/100... Step: 6720... Loss: 1.3334... Val Loss: 1.2841\n",
      "Epoch: 90/100... Step: 6730... Loss: 1.3488... Val Loss: 1.2818\n",
      "Epoch: 90/100... Step: 6740... Loss: 1.3524... Val Loss: 1.2810\n",
      "Epoch: 90/100... Step: 6750... Loss: 1.3887... Val Loss: 1.2805\n",
      "Epoch: 91/100... Step: 6760... Loss: 1.3427... Val Loss: 1.2796\n",
      "Epoch: 91/100... Step: 6770... Loss: 1.3451... Val Loss: 1.2812\n",
      "Epoch: 91/100... Step: 6780... Loss: 1.3163... Val Loss: 1.2798\n",
      "Epoch: 91/100... Step: 6790... Loss: 1.3240... Val Loss: 1.2807\n",
      "Epoch: 91/100... Step: 6800... Loss: 1.3413... Val Loss: 1.2811\n",
      "Epoch: 91/100... Step: 6810... Loss: 1.3221... Val Loss: 1.2806\n",
      "Epoch: 91/100... Step: 6820... Loss: 1.3323... Val Loss: 1.2797\n",
      "Epoch: 92/100... Step: 6830... Loss: 1.3573... Val Loss: 1.2787\n",
      "Epoch: 92/100... Step: 6840... Loss: 1.3295... Val Loss: 1.2812\n",
      "Epoch: 92/100... Step: 6850... Loss: 1.3446... Val Loss: 1.2814\n",
      "Epoch: 92/100... Step: 6860... Loss: 1.3396... Val Loss: 1.2822\n",
      "Epoch: 92/100... Step: 6870... Loss: 1.3306... Val Loss: 1.2837\n",
      "Epoch: 92/100... Step: 6880... Loss: 1.3402... Val Loss: 1.2813\n",
      "Epoch: 92/100... Step: 6890... Loss: 1.3465... Val Loss: 1.2793\n",
      "Epoch: 92/100... Step: 6900... Loss: 1.3834... Val Loss: 1.2789\n",
      "Epoch: 93/100... Step: 6910... Loss: 1.3387... Val Loss: 1.2779\n",
      "Epoch: 93/100... Step: 6920... Loss: 1.3445... Val Loss: 1.2763\n",
      "Epoch: 93/100... Step: 6930... Loss: 1.3120... Val Loss: 1.2785\n",
      "Epoch: 93/100... Step: 6940... Loss: 1.3213... Val Loss: 1.2793\n",
      "Epoch: 93/100... Step: 6950... Loss: 1.3418... Val Loss: 1.2775\n",
      "Epoch: 93/100... Step: 6960... Loss: 1.3198... Val Loss: 1.2753\n",
      "Epoch: 93/100... Step: 6970... Loss: 1.3278... Val Loss: 1.2775\n",
      "Epoch: 94/100... Step: 6980... Loss: 1.3584... Val Loss: 1.2776\n",
      "Epoch: 94/100... Step: 6990... Loss: 1.3246... Val Loss: 1.2767\n",
      "Epoch: 94/100... Step: 7000... Loss: 1.3373... Val Loss: 1.2790\n",
      "Epoch: 94/100... Step: 7010... Loss: 1.3375... Val Loss: 1.2778\n",
      "Epoch: 94/100... Step: 7020... Loss: 1.3326... Val Loss: 1.2790\n",
      "Epoch: 94/100... Step: 7030... Loss: 1.3458... Val Loss: 1.2787\n",
      "Epoch: 94/100... Step: 7040... Loss: 1.3455... Val Loss: 1.2763\n",
      "Epoch: 94/100... Step: 7050... Loss: 1.3769... Val Loss: 1.2755\n",
      "Epoch: 95/100... Step: 7060... Loss: 1.3287... Val Loss: 1.2741\n",
      "Epoch: 95/100... Step: 7070... Loss: 1.3356... Val Loss: 1.2732\n",
      "Epoch: 95/100... Step: 7080... Loss: 1.3120... Val Loss: 1.2730\n",
      "Epoch: 95/100... Step: 7090... Loss: 1.3141... Val Loss: 1.2744\n",
      "Epoch: 95/100... Step: 7100... Loss: 1.3384... Val Loss: 1.2734\n",
      "Epoch: 95/100... Step: 7110... Loss: 1.3079... Val Loss: 1.2736\n",
      "Epoch: 95/100... Step: 7120... Loss: 1.3246... Val Loss: 1.2750\n",
      "Epoch: 96/100... Step: 7130... Loss: 1.3503... Val Loss: 1.2723\n",
      "Epoch: 96/100... Step: 7140... Loss: 1.3242... Val Loss: 1.2727\n",
      "Epoch: 96/100... Step: 7150... Loss: 1.3364... Val Loss: 1.2752\n",
      "Epoch: 96/100... Step: 7160... Loss: 1.3345... Val Loss: 1.2755\n",
      "Epoch: 96/100... Step: 7170... Loss: 1.3263... Val Loss: 1.2786\n",
      "Epoch: 96/100... Step: 7180... Loss: 1.3301... Val Loss: 1.2765\n",
      "Epoch: 96/100... Step: 7190... Loss: 1.3357... Val Loss: 1.2750\n",
      "Epoch: 96/100... Step: 7200... Loss: 1.3765... Val Loss: 1.2744\n",
      "Epoch: 97/100... Step: 7210... Loss: 1.3283... Val Loss: 1.2730\n",
      "Epoch: 97/100... Step: 7220... Loss: 1.3296... Val Loss: 1.2696\n",
      "Epoch: 97/100... Step: 7230... Loss: 1.3027... Val Loss: 1.2706\n",
      "Epoch: 97/100... Step: 7240... Loss: 1.3079... Val Loss: 1.2723\n",
      "Epoch: 97/100... Step: 7250... Loss: 1.3348... Val Loss: 1.2711\n",
      "Epoch: 97/100... Step: 7260... Loss: 1.3073... Val Loss: 1.2707\n",
      "Epoch: 97/100... Step: 7270... Loss: 1.3132... Val Loss: 1.2716\n",
      "Epoch: 98/100... Step: 7280... Loss: 1.3478... Val Loss: 1.2694\n",
      "Epoch: 98/100... Step: 7290... Loss: 1.3176... Val Loss: 1.2707\n",
      "Epoch: 98/100... Step: 7300... Loss: 1.3265... Val Loss: 1.2734\n",
      "Epoch: 98/100... Step: 7310... Loss: 1.3338... Val Loss: 1.2708\n",
      "Epoch: 98/100... Step: 7320... Loss: 1.3208... Val Loss: 1.2742\n",
      "Epoch: 98/100... Step: 7330... Loss: 1.3243... Val Loss: 1.2720\n",
      "Epoch: 98/100... Step: 7340... Loss: 1.3356... Val Loss: 1.2708\n",
      "Epoch: 98/100... Step: 7350... Loss: 1.3666... Val Loss: 1.2703\n",
      "Epoch: 99/100... Step: 7360... Loss: 1.3235... Val Loss: 1.2685\n",
      "Epoch: 99/100... Step: 7370... Loss: 1.3292... Val Loss: 1.2681\n",
      "Epoch: 99/100... Step: 7380... Loss: 1.3002... Val Loss: 1.2702\n",
      "Epoch: 99/100... Step: 7390... Loss: 1.3050... Val Loss: 1.2704\n",
      "Epoch: 99/100... Step: 7400... Loss: 1.3258... Val Loss: 1.2710\n",
      "Epoch: 99/100... Step: 7410... Loss: 1.3022... Val Loss: 1.2702\n",
      "Epoch: 99/100... Step: 7420... Loss: 1.3127... Val Loss: 1.2688\n",
      "Epoch: 100/100... Step: 7430... Loss: 1.3452... Val Loss: 1.2685\n",
      "Epoch: 100/100... Step: 7440... Loss: 1.3143... Val Loss: 1.2671\n",
      "Epoch: 100/100... Step: 7450... Loss: 1.3321... Val Loss: 1.2679\n",
      "Epoch: 100/100... Step: 7460... Loss: 1.3212... Val Loss: 1.2676\n",
      "Epoch: 100/100... Step: 7470... Loss: 1.3213... Val Loss: 1.2687\n",
      "Epoch: 100/100... Step: 7480... Loss: 1.3246... Val Loss: 1.2676\n",
      "Epoch: 100/100... Step: 7490... Loss: 1.3299... Val Loss: 1.2673\n",
      "Epoch: 100/100... Step: 7500... Loss: 1.3683... Val Loss: 1.2680\n",
      "CPU times: user 11min 46s, sys: 1min 29s, total: 13min 15s\n",
      "Wall time: 13min 16s\n"
     ]
    }
   ],
   "source": [
    "%%time\n",
    "batch_size = 256## YOUR CODE HERE\n",
    "seq_length = 150## YOUR CODE HERE\n",
    "# start small if you are just testing initial behavior\n",
    "n_epochs = 100## YOUR CODE HERE\n",
    "\n",
    "# train the model\n",
    "train(net, encoded, epochs=n_epochs, batch_size=batch_size, seq_length=seq_length, lr=0.001, print_every=10)"
   ]
  },
  {
   "cell_type": "markdown",
   "metadata": {
    "id": "n-Nqbv1CICR7"
   },
   "source": [
    "##Step 6. Making Predictions"
   ]
  },
  {
   "cell_type": "markdown",
   "metadata": {
    "id": "K2sJhx5iceEm"
   },
   "source": [
    "Now that the model is trained, we want to predict the next character for the sequence of input symbols. We pass a character as input, and the network predicts the next character. Then we take that character, pass it as input, and get another predicted character, and so on.\n",
    "\n",
    "### Details of a `predict`  function\n",
    "\n",
    "Our RNN's output comes from a fully connected layer and outputs the **distribution of the next character scores**. To actually get the next character, we use the softmax function, which gives us a **probability** distribution that we can then choose to predict the next character.\n",
    "\n",
    "**Top K sampling**\n",
    "\n",
    "Our predictions are based on a categorical distribution of probabilities for all possible characters. We can make the sampling process smarter by looking at only some of the most likely $K$ characters. This will prevent the network from giving us completely absurd characters, and will also allow some noise and randomness to be introduced into the selected text. This technique is called [top K](https://pytorch.org/docs/stable/generated/torch.topk.html#torch.topk) sampling."
   ]
  },
  {
   "cell_type": "code",
   "execution_count": 17,
   "metadata": {
    "id": "QEIRW_B2ceEm"
   },
   "outputs": [],
   "source": [
    "def predict(net, char, h=None, top_k=None):\n",
    "        ''' Given a character, predict the next character.\n",
    "            Returns the predicted character and the hidden state.\n",
    "        '''\n",
    "        \n",
    "        # tensor inputs\n",
    "        x = np.array([[net.char2int[char]]])\n",
    "        x = one_hot_encode(x, len(net.chars))\n",
    "        inputs = torch.from_numpy(x)\n",
    "        \n",
    "        if(train_on_gpu):\n",
    "            inputs = inputs.cuda()\n",
    "        \n",
    "        # detach hidden state from history\n",
    "        h = tuple([each.data for each in h])\n",
    "        # get the output of the model\n",
    "        out, h = net(inputs, h)\n",
    "\n",
    "        # get the character probabilities\n",
    "        p = F.softmax(out, dim=1).data\n",
    "        if(train_on_gpu):\n",
    "            p = p.cpu() # move to cpu\n",
    "        \n",
    "        # get top characters\n",
    "        if top_k is None:\n",
    "            top_ch = np.arange(len(net.chars))\n",
    "        else:\n",
    "            p, top_ch = p.topk(top_k)\n",
    "            top_ch = top_ch.numpy().squeeze()\n",
    "        \n",
    "        # select the likely next character with some element of randomness\n",
    "        p = p.numpy().squeeze()\n",
    "        char = np.random.choice(top_ch, p=p/p.sum())\n",
    "        \n",
    "        # return the encoded value of the predicted char and the hidden state\n",
    "        return net.int2char[char], h"
   ]
  },
  {
   "cell_type": "markdown",
   "metadata": {
    "id": "OG38j3gQceEm"
   },
   "source": [
    "To generate the text, you need to feed the initial characters, let's call them `prime`."
   ]
  },
  {
   "cell_type": "code",
   "execution_count": 18,
   "metadata": {
    "id": "P9vpB5gRceEm"
   },
   "outputs": [],
   "source": [
    "def sample(net, size, prime='The', top_k=None):\n",
    "        \n",
    "    if(train_on_gpu):\n",
    "        net.cuda()\n",
    "    else:\n",
    "        net.cpu()\n",
    "    \n",
    "    net.eval() # eval mode\n",
    "    \n",
    "    # First off, run through the prime characters\n",
    "    chars = [ch for ch in prime]\n",
    "    h = net.init_hidden(1)\n",
    "    for ch in prime:\n",
    "        char, h = predict(net, ch, h, top_k=top_k)\n",
    "\n",
    "    chars.append(char)\n",
    "    \n",
    "    # Now pass in the previous character and get a new one\n",
    "    for ii in range(size):\n",
    "        char, h = predict(net, chars[-1], h, top_k=top_k)\n",
    "        chars.append(char)\n",
    "\n",
    "    return ''.join(chars)"
   ]
  },
  {
   "cell_type": "code",
   "execution_count": 19,
   "metadata": {
    "colab": {
     "base_uri": "https://localhost:8080/"
    },
    "id": "BqmFA9eEceEm",
    "outputId": "df57ac2f-0ca4-4802-e2c8-e838dc08c846"
   },
   "outputs": [
    {
     "name": "stdout",
     "output_type": "stream",
     "text": [
      "Annation, send a consciousness of him, and a crowd on his fame wonderful hindered a fellow state of window in the ferling of the first table. He was some of the house and then all the sitting of the hollight of\n",
      "her already of the fallen word followed\n",
      "in her and they were still that the crowd was so at ofce of those was said to her.\n",
      "\n",
      "“That’s all were not\n",
      "more. That tears are all had told it and what’s all the monarch,\n",
      "that’s it,” said the countess’ hand the face that he always spent\n",
      "as a commander was so as she said, and had asked that he was still some things and had\n",
      "so so to ask,\n",
      "with the change\n",
      "with\n",
      "his feet\n",
      "to him that the sill of that courtiers\n",
      "seemed to say. The man the countess came and his and said\n",
      "that the camp in his shown had the same men and his strange soul of the same angry to his carriage, she went to himself and that there had been busy or taking to stay him.\n",
      "\n",
      "Princess Mason had a face was no open of a life\n",
      "that we had been standing taking\n",
      "impossible to talk\n",
      "on the soral sine\n"
     ]
    }
   ],
   "source": [
    "print(sample(net, 1000, prime='Anna', top_k=5))"
   ]
  },
  {
   "cell_type": "code",
   "execution_count": null,
   "metadata": {
    "id": "TH1ag4h1ceEm"
   },
   "outputs": [],
   "source": []
  }
 ],
 "metadata": {
  "accelerator": "GPU",
  "colab": {
   "collapsed_sections": [],
   "name": "SGA2_Text Generation.ipynb",
   "provenance": []
  },
  "kernelspec": {
   "display_name": "Python 3 (ipykernel)",
   "language": "python",
   "name": "python3"
  },
  "language_info": {
   "codemirror_mode": {
    "name": "ipython",
    "version": 3
   },
   "file_extension": ".py",
   "mimetype": "text/x-python",
   "name": "python",
   "nbconvert_exporter": "python",
   "pygments_lexer": "ipython3",
   "version": "3.8.12"
  }
 },
 "nbformat": 4,
 "nbformat_minor": 4
}
