{
 "cells": [
  {
   "cell_type": "markdown",
   "metadata": {
    "id": "Lm6GYA32bsRU"
   },
   "source": [
    "### Generating human faces with Adversarial Networks\n",
    "<img src=\"images/nvidia_cool_gan.png\" width=\"400px\"/>\n",
    "© research.nvidia.com_\n",
    "\n",
    "This time we'll train a neural net to generate plausible human faces in all their subtlty: appearance, expression, accessories, etc. 'Cuz when us machines gonna take over Earth, there won't be any more faces left. We want to preserve this data for future iterations. Yikes...\n",
    "\n",
    "Based on https://github.com/Lasagne/Recipes/pull/94 .\n"
   ]
  },
  {
   "cell_type": "code",
   "execution_count": 1,
   "metadata": {
    "id": "R7KnwY4K4j5R"
   },
   "outputs": [],
   "source": [
    "# %%bash\n",
    "\n",
    "# shred -u setup_colab.py\n",
    "\n",
    "# wget https://raw.githubusercontent.com/hse-aml/intro-to-dl-pytorch/main/utils/setup_colab.py -O setup_colab.py"
   ]
  },
  {
   "cell_type": "code",
   "execution_count": 2,
   "metadata": {
    "id": "4IWMo5bP4j5R"
   },
   "outputs": [],
   "source": [
    "import setup_colab\n",
    "# \n",
    "setup_colab.setup_week04()"
   ]
  },
  {
   "cell_type": "code",
   "execution_count": 3,
   "metadata": {
    "id": "ZhvqRvY5bsRb"
   },
   "outputs": [],
   "source": [
    "# import download_utils\n",
    "\n",
    "# download_utils.download_week_4_resources('.')"
   ]
  },
  {
   "cell_type": "code",
   "execution_count": 4,
   "metadata": {},
   "outputs": [],
   "source": [
    "import grading\n",
    "\n",
    "grader = grading.Grader(\n",
    "    assignment_key=\"FCl7G51lEeeeZQ4xJ2nzLA\",\n",
    "    all_parts=[\"ryO01\"]\n",
    ")"
   ]
  },
  {
   "cell_type": "code",
   "execution_count": 5,
   "metadata": {},
   "outputs": [],
   "source": [
    "# token expires every 30 min\n",
    "COURSERA_TOKEN = \"obUWpcQR4gtDrSlD\"\n",
    "COURSERA_EMAIL = \"pavelb23@gmail.com\""
   ]
  },
  {
   "cell_type": "code",
   "execution_count": 6,
   "metadata": {
    "id": "hqqIBiE6bsRb"
   },
   "outputs": [],
   "source": [
    "import numpy as np\n",
    "from matplotlib import pyplot as plt\n",
    "\n",
    "from sklearn.model_selection import train_test_split\n",
    "\n",
    "import torch\n",
    "from torch import nn\n",
    "from torch import optim\n",
    "from torch.utils.data import TensorDataset, DataLoader"
   ]
  },
  {
   "cell_type": "code",
   "execution_count": 7,
   "metadata": {
    "id": "89XldaptbsRd"
   },
   "outputs": [],
   "source": [
    "import numpy as np\n",
    "from matplotlib import pyplot as plt\n",
    "plt.rcParams.update({'axes.titlesize': 'small'})\n",
    "\n",
    "from sklearn.datasets import load_digits\n",
    "# The following line fetches you two datasets:\n",
    "# images, usable for autoencoder training and attributes.\n",
    "# Those attributes will be required for the final part of the assignment (applying smiles),\n",
    "# so please keep them in mind\n",
    "from lfw_dataset import load_lfw_dataset \n",
    "data, attrs = load_lfw_dataset(dimx=36, dimy=36)\n",
    "\n",
    "# preprocess faces\n",
    "data = np.float32(data) / 255.\n",
    "\n",
    "data = torch.from_numpy(data).permute(0, 3, 1, 2)\n",
    "\n",
    "min_data = data.min()\n",
    "max_data = data.max()\n",
    "\n",
    "IMG_SHAPE = data.shape[1:]"
   ]
  },
  {
   "cell_type": "code",
   "execution_count": 8,
   "metadata": {
    "colab": {
     "base_uri": "https://localhost:8080/",
     "height": 284
    },
    "executionInfo": {
     "elapsed": 13342,
     "status": "ok",
     "timestamp": 1613311788479,
     "user": {
      "displayName": "Alexander Markovich",
      "photoUrl": "",
      "userId": "05353592946685554048"
     },
     "user_tz": -180
    },
    "id": "p7PNb02TbsRd",
    "outputId": "3dd1fe06-b37e-4ad3-e52c-41d8b08ba459"
   },
   "outputs": [
    {
     "data": {
      "text/plain": [
       "<matplotlib.image.AxesImage at 0x7ff8a7ae7130>"
      ]
     },
     "execution_count": 8,
     "metadata": {},
     "output_type": "execute_result"
    },
    {
     "data": {
      "image/png": "[encoded data removed]",
      "text/plain": [
       "<Figure size 432x288 with 1 Axes>"
      ]
     },
     "metadata": {
      "needs_background": "light"
     },
     "output_type": "display_data"
    }
   ],
   "source": [
    "# print random image\n",
    "plt.imshow(data[np.random.randint(data.shape[0])].permute(1, 2, 0),\n",
    "           cmap=\"gray\", interpolation=\"none\")"
   ]
  },
  {
   "cell_type": "markdown",
   "metadata": {
    "id": "Ezd-KCHebsRe"
   },
   "source": [
    "# Generative adversarial nets 101\n",
    "\n",
    "<img src=\"images/noise_to_face.png\" width=\"400px\"/>\n",
    "_© torch.github.io_\n",
    "\n",
    "Deep learning is simple, isn't it? \n",
    "* build some network that generates the face (small image)\n",
    "* make up a __measure__ of __how good that face is__\n",
    "* optimize with gradient descent :)\n",
    "\n",
    "\n",
    "The only problem is: how can we engineers tell well-generated faces from bad? And i bet you we won't ask a designer for help. \n",
    "\n",
    "__If we can't tell good faces from bad, we delegate it to yet another neural network!__\n",
    "\n",
    "That makes the two of them:\n",
    "* __G__enerator - takes random noize for inspiration and tries to generate a face sample. \n",
    "  * Let's call him __G__(z), where z is a gaussian noize.\n",
    "* __D__iscriminator - takes a face sample and tries to tell if it's great or fake. \n",
    "  * Predicts the probability of input image being a __real face__\n",
    "  * Let's call him __D__(x), x being an image.\n",
    "  * __D(x)__ is a predition for real image and __D(G(z))__ is prediction for the face made by generator.\n",
    "\n",
    "Before we dive into training them, let's construct the two networks."
   ]
  },
  {
   "cell_type": "code",
   "execution_count": 9,
   "metadata": {
    "colab": {
     "base_uri": "https://localhost:8080/"
    },
    "executionInfo": {
     "elapsed": 860,
     "status": "ok",
     "timestamp": 1613311793627,
     "user": {
      "displayName": "Alexander Markovich",
      "photoUrl": "",
      "userId": "05353592946685554048"
     },
     "user_tz": -180
    },
    "id": "EffVYpRdbsRe",
    "outputId": "2b697e9e-2dcf-4f54-c598-54af596c4bd6"
   },
   "outputs": [
    {
     "name": "stdout",
     "output_type": "stream",
     "text": [
      "Torch version: 1.9.1\n",
      "Using GPU\n"
     ]
    }
   ],
   "source": [
    "import torch, torch.nn as nn\n",
    "import torch.nn.functional as F\n",
    "\n",
    "use_cuda = torch.cuda.is_available()\n",
    "\n",
    "print(\"Torch version:\", torch.__version__)\n",
    "if use_cuda:\n",
    "    print(\"Using GPU\")\n",
    "else:\n",
    "    print(\"Not using GPU\")"
   ]
  },
  {
   "cell_type": "code",
   "execution_count": 10,
   "metadata": {
    "id": "duwFCF9qbsRe"
   },
   "outputs": [],
   "source": [
    "def sample_noise_batch(batch_size):\n",
    "    noise = torch.randn(batch_size, CODE_SIZE)\n",
    "    return noise.cuda() if use_cuda else noise.cpu()\n",
    "    \n",
    "class Reshape(nn.Module):\n",
    "    \n",
    "    def __init__(self, shape):\n",
    "        super().__init__()\n",
    "        \n",
    "        self.shape = shape\n",
    "        \n",
    "    def forward(self, input):\n",
    "        return input.view(self.shape)"
   ]
  },
  {
   "cell_type": "code",
   "execution_count": 11,
   "metadata": {
    "id": "F92amtK5bsRe"
   },
   "outputs": [],
   "source": [
    "CODE_SIZE = 256\n",
    "\n",
    "from itertools import count\n",
    "# automatic layer name maker. Don't do this in production :)\n",
    "ix = ('layer_%i'%i for i in count())\n",
    "\n",
    "def make_generator():\n",
    "    generator = nn.Sequential()\n",
    "\n",
    "    generator.add_module(next(ix), nn.Linear(CODE_SIZE, 10 * 8 *8))\n",
    "    generator.add_module(next(ix), nn.ELU())\n",
    "    generator.add_module(next(ix), Reshape([-1, 10, 8, 8]))\n",
    "\n",
    "    generator.add_module(next(ix), nn.ConvTranspose2d(10, 64, kernel_size=(5, 5)))\n",
    "    generator.add_module(next(ix), nn.ELU())\n",
    "    generator.add_module(next(ix), nn.ConvTranspose2d(64, 64, kernel_size=(5, 5)))\n",
    "    generator.add_module(next(ix), nn.ELU())\n",
    "    generator.add_module(next(ix), nn.Upsample(scale_factor=2))\n",
    "\n",
    "    generator.add_module(next(ix), nn.ConvTranspose2d(64, 32, kernel_size=(5, 5)))\n",
    "    generator.add_module(next(ix), nn.ELU())\n",
    "    generator.add_module(next(ix), nn.ConvTranspose2d(32, 32, kernel_size=(5, 5)))\n",
    "    generator.add_module(next(ix), nn.ELU())\n",
    "\n",
    "    generator.add_module(next(ix), nn.Conv2d(32, 3, kernel_size=(5, 5)))\n",
    "\n",
    "    return generator\n",
    "\n",
    "generator = make_generator()\n",
    "\n",
    "if use_cuda:\n",
    "    generator = generator.cuda()"
   ]
  },
  {
   "cell_type": "code",
   "execution_count": 12,
   "metadata": {
    "id": "m5M39yRibsRf"
   },
   "outputs": [],
   "source": [
    "generated_data = generator(sample_noise_batch(5))\n",
    "assert tuple(generated_data.shape)[1:] == IMG_SHAPE, \\\n",
    "    \"generator must output an image of shape %s, but instead it produces %s\" % (IMG_SHAPE, generated_data.shape)"
   ]
  },
  {
   "cell_type": "markdown",
   "metadata": {
    "id": "Ujp-ATsMbsRf"
   },
   "source": [
    "### Discriminator\n",
    "* Discriminator is your usual convolutional network with interlooping convolution and pooling layers\n",
    "* The network does not include dropout/batchnorm to avoid learning complications.\n",
    "* We also regularize the pre-output layer to prevent discriminator from being too certain."
   ]
  },
  {
   "cell_type": "code",
   "execution_count": 13,
   "metadata": {
    "id": "eksSHp4ubsRf"
   },
   "outputs": [],
   "source": [
    "def sample_data_batch(batch_size):\n",
    "    idxs = np.random.choice(np.arange(data.shape[0]), size=batch_size)\n",
    "    batch = torch.tensor(data[idxs], dtype=torch.float32)\n",
    "    return batch.cuda() if use_cuda else batch.cpu()"
   ]
  },
  {
   "cell_type": "code",
   "execution_count": 14,
   "metadata": {},
   "outputs": [
    {
     "data": {
      "text/plain": [
       "torch.Size([3, 36, 36])"
      ]
     },
     "execution_count": 14,
     "metadata": {},
     "output_type": "execute_result"
    }
   ],
   "source": [
    "IMG_SHAPE"
   ]
  },
  {
   "cell_type": "code",
   "execution_count": 15,
   "metadata": {},
   "outputs": [],
   "source": [
    "import torchsummary"
   ]
  },
  {
   "cell_type": "code",
   "execution_count": 16,
   "metadata": {},
   "outputs": [
    {
     "name": "stdout",
     "output_type": "stream",
     "text": [
      "----------------------------------------------------------------\n",
      "        Layer (type)               Output Shape         Param #\n",
      "================================================================\n",
      "            Conv2d-1           [-1, 20, 32, 32]             560\n",
      "         LeakyReLU-2           [-1, 20, 32, 32]               0\n",
      "         AvgPool2d-3           [-1, 20, 16, 16]               0\n",
      "            Conv2d-4           [-1, 40, 16, 16]           7,240\n",
      "         LeakyReLU-5           [-1, 40, 16, 16]               0\n",
      "         AvgPool2d-6             [-1, 40, 8, 8]               0\n",
      "            Conv2d-7             [-1, 80, 8, 8]          28,880\n",
      "         LeakyReLU-8             [-1, 80, 8, 8]               0\n",
      "         AvgPool2d-9             [-1, 80, 4, 4]               0\n",
      "          Flatten-10                 [-1, 1280]               0\n",
      "================================================================\n",
      "Total params: 36,680\n",
      "Trainable params: 36,680\n",
      "Non-trainable params: 0\n",
      "----------------------------------------------------------------\n",
      "Input size (MB): 0.01\n",
      "Forward/backward pass size (MB): 0.62\n",
      "Params size (MB): 0.14\n",
      "Estimated Total Size (MB): 0.78\n",
      "----------------------------------------------------------------\n"
     ]
    }
   ],
   "source": [
    "\n",
    "m=nn.Sequential(nn.Conv2d(3, 20, 3, padding=1),\n",
    "                                 nn.LeakyReLU(0.1), \n",
    "                                 nn.AvgPool2d(2),\n",
    "                                 nn.Conv2d(20, 40, 3,padding=1),\n",
    "                                 nn.LeakyReLU(0.1),\n",
    "                                 nn.AvgPool2d(2),\n",
    "                                 nn.Conv2d(40, 80, 3,padding=1),\n",
    "                                 nn.LeakyReLU(0.1),\n",
    "                                 nn.AvgPool2d(2),\n",
    "                                 nn.Flatten(),\n",
    "                                ).to('cuda')\n",
    "torchsummary.summary(m, (3,32,32))"
   ]
  },
  {
   "cell_type": "code",
   "execution_count": 17,
   "metadata": {
    "id": "LHi2zTyb2NWv"
   },
   "outputs": [],
   "source": [
    "# Create convolutional architecture for discriminator\n",
    "# Note: please start simple. A few convolutions & poolings would do, inception/resnet is an overkill\n",
    "\n",
    "# YOUR CODE HERE\n",
    "class Discriminator(nn.Module):\n",
    "    \n",
    "    def __init__(self):\n",
    "        super(Discriminator, self).__init__()\n",
    "        self.inner=nn.Sequential(nn.Conv2d(3, 20, 3, padding=1),\n",
    "                                 nn.LeakyReLU(0.1), \n",
    "                                 nn.AvgPool2d(2),\n",
    "                                 nn.Dropout2d(p=0.2),\n",
    "                                 nn.Conv2d(20, 40, 3,padding=1),\n",
    "                                 nn.ELU(),\n",
    "                                 nn.AvgPool2d(2),\n",
    "                                 nn.Conv2d(40, 80, 3,padding=1),\n",
    "                                 nn.Dropout2d(p=0.2),\n",
    "                                 nn.ELU(),\n",
    "                                 nn.AvgPool2d(2),\n",
    "                                 nn.Flatten(),\n",
    "                                 nn.Linear(1280, 500),\n",
    "                                 nn.ELU(),\n",
    "                                 nn.Linear(500, 100),\n",
    "                                 nn.ELU(),\n",
    "                                 nn.Linear(100, 20),\n",
    "                                 nn.ELU(),\n",
    "                                 nn.Linear(20, 1),\n",
    "                                )\n",
    "    \n",
    "    def forward(self, X):\n",
    "        x=self.inner(X)\n",
    "        return x\n",
    "        \n",
    "\n",
    "discriminator = Discriminator()\n",
    "\n",
    "ans = len(discriminator(torch.rand(1, *IMG_SHAPE)))\n",
    "\n",
    "if use_cuda: \n",
    "    discriminator = discriminator.cuda()"
   ]
  },
  {
   "cell_type": "markdown",
   "metadata": {
    "id": "KBKwcDt4bsRf"
   },
   "source": [
    "# Training\n",
    "\n",
    "We train the two networks concurrently:\n",
    "* Train __discriminator__ to better distinguish real data from __current__ generator\n",
    "* Train __generator__ to make discriminator think generator is real\n",
    "* Since discriminator is a differentiable neural network, we train both with gradient descent.\n",
    "\n",
    "<img src=\"images/gan.png\" width=\"600px\"/>\n",
    "_© deeplearning4j.org_\n",
    "\n",
    "Training is done iteratively until discriminator is no longer able to find the difference (or until you run out of patience).\n",
    "\n",
    "\n",
    "### Tricks:\n",
    "* Regularize discriminator output weights to prevent explosion\n",
    "* Train generator with __adam__ to speed up training. Discriminator trains with SGD to avoid problems with momentum.\n",
    "* More: https://github.com/soumith/ganhacks\n"
   ]
  },
  {
   "cell_type": "code",
   "execution_count": 18,
   "metadata": {},
   "outputs": [],
   "source": [
    "loss_f=nn.BCELoss()"
   ]
  },
  {
   "cell_type": "code",
   "execution_count": 19,
   "metadata": {
    "id": "4FspFUFYbsRg"
   },
   "outputs": [],
   "source": [
    "def generator_loss(noise):\n",
    "    \"\"\"\n",
    "    1. generate data given noise\n",
    "    2. compute log P(real | gen noise)\n",
    "    3. return generator loss (should be scalar)\n",
    "    \"\"\"\n",
    "    \n",
    "    gen_img=generator(noise)\n",
    "    # print(gen_img.shape)\n",
    "    disc_output= discriminator(gen_img)\n",
    "    # print(disc_output.shape)\n",
    "    # labels=torch.zeros(disc_output.shape, device='cuda')\n",
    "    labels=torch.ones(disc_output.shape, device='cuda')\n",
    "    \n",
    "    loss=loss_f(torch.sigmoid(disc_output), labels)\n",
    "    \n",
    "    return loss.reshape(-1)\n",
    "    # return 1\n",
    "    \n",
    "    # YOUR CODE HERE"
   ]
  },
  {
   "cell_type": "code",
   "execution_count": 20,
   "metadata": {
    "id": "3Ix2KxPDbsRg"
   },
   "outputs": [
    {
     "name": "stdout",
     "output_type": "stream",
     "text": [
      "tensor([0.6982], device='cuda:0', grad_fn=<ViewBackward>)\n"
     ]
    }
   ],
   "source": [
    "loss = generator_loss(sample_noise_batch(32))\n",
    "\n",
    "print(loss)\n",
    "\n",
    "assert len(loss.shape) == 1 and loss.shape[0] == 1, \"loss must be scalar\""
   ]
  },
  {
   "cell_type": "code",
   "execution_count": 21,
   "metadata": {
    "id": "r62btm2FbsRg"
   },
   "outputs": [],
   "source": [
    "def discriminator_loss(real_data, generated_data):\n",
    "    \"\"\"\n",
    "    1. compute discriminator's output on real & generated data\n",
    "    2. compute log-probabilities of real data being real, generated data being fake\n",
    "    3. return discriminator loss (scalar)\n",
    "    \"\"\"\n",
    "    \n",
    "    disc_output_real=discriminator(real_data)\n",
    "    real_label=torch.ones(disc_output_real.shape, device='cuda')\n",
    "    real_loss=loss_f(torch.sigmoid(disc_output_real), real_label).reshape(-1)\n",
    "    # real_loss=loss_f( F.logsigmoid(disc_output_real, real_label).reshape(-1)\n",
    "    \n",
    "    gen_output=discriminator(generated_data)\n",
    "    gen_label=torch.zeros(gen_output.shape, device='cuda')\n",
    "    gen_loss=loss_f(torch.sigmoid(gen_output), gen_label).reshape(-1)\n",
    "    # gen_loss=loss_f(gen_output, gen_label).reshape(-1)\n",
    "    return real_loss + gen_loss\n",
    "    # return real_loss + gen_loss\n",
    "    # YOUR CODE HERE"
   ]
  },
  {
   "cell_type": "code",
   "execution_count": 22,
   "metadata": {
    "id": "HUtObQ0LbsRh"
   },
   "outputs": [
    {
     "name": "stdout",
     "output_type": "stream",
     "text": [
      "tensor([1.3840], device='cuda:0', grad_fn=<AddBackward0>)\n"
     ]
    },
    {
     "name": "stderr",
     "output_type": "stream",
     "text": [
      "/tmp/ipykernel_27594/1793902344.py:3: UserWarning: To copy construct from a tensor, it is recommended to use sourceTensor.clone().detach() or sourceTensor.clone().detach().requires_grad_(True), rather than torch.tensor(sourceTensor).\n",
      "  batch = torch.tensor(data[idxs], dtype=torch.float32)\n"
     ]
    }
   ],
   "source": [
    "loss = discriminator_loss(\n",
    "    sample_data_batch(32),\n",
    "    generator(sample_noise_batch(32))\n",
    ")\n",
    "\n",
    "print(loss)\n",
    "\n",
    "assert len(loss.shape) == 1 and loss.shape[0] == 1, \"loss must be scalar\""
   ]
  },
  {
   "cell_type": "markdown",
   "metadata": {
    "id": "2tc3-TdjbsRh"
   },
   "source": [
    "### Auxiliary functions\n",
    "Here we define a few helper functions that draw current data distributions and sample training batches."
   ]
  },
  {
   "cell_type": "code",
   "execution_count": 23,
   "metadata": {
    "id": "RJwxhhC6bsRh",
    "tags": []
   },
   "outputs": [],
   "source": [
    "def sample_images(nrow, ncol, sharp=False):\n",
    "    images = generator(sample_noise_batch(batch_size=nrow * ncol))\n",
    "    images = images.data.cpu().numpy().transpose([0, 2, 3, 1])\n",
    "    \n",
    "    if np.var(images) != 0:\n",
    "        images = images.clip(min_data, max_data)\n",
    "        \n",
    "    for i in range(nrow * ncol):\n",
    "        plt.subplot(nrow, ncol, i + 1)\n",
    "        if sharp:\n",
    "            plt.imshow(images[i], cmap=\"gray\", interpolation=\"none\")\n",
    "        else:\n",
    "            plt.imshow(images[i], cmap=\"gray\")\n",
    "    \n",
    "    plt.show()\n",
    "\n",
    "def sample_probas(batch_size, epoch=0):\n",
    "    plt.title(f'Generated vs real data for epoch={epoch}')\n",
    "    D_real = torch.sigmoid(discriminator(sample_data_batch(batch_size)))\n",
    "    generated_data_batch = generator(sample_noise_batch(batch_size))\n",
    "    D_fake = torch.sigmoid(discriminator(generated_data_batch))\n",
    "    \n",
    "    plt.hist(D_real.data.cpu().numpy(),\n",
    "             label='D(x)', alpha=0.5, range=[0, 1])\n",
    "    plt.hist(D_fake.data.cpu().numpy(),\n",
    "             label='D(G(z))', alpha=0.5, range=[0, 1])\n",
    "    plt.legend(loc='best')\n",
    "    plt.show()"
   ]
  },
  {
   "cell_type": "markdown",
   "metadata": {
    "id": "thWP0c3BbsRh"
   },
   "source": [
    "### Training\n",
    "Main loop.\n",
    "We just train generator and discriminator in a loop and plot results once every N iterations."
   ]
  },
  {
   "cell_type": "code",
   "execution_count": 24,
   "metadata": {
    "id": "X4vAIKF6bsRh"
   },
   "outputs": [],
   "source": [
    "#optimizers\n",
    "discriminator = Discriminator()\n",
    "generator = make_generator()\n",
    "\n",
    "if use_cuda:\n",
    "    discriminator = discriminator.cuda()\n",
    "    generator = generator.cuda()\n",
    "\n",
    "disc_opt = torch.optim.Adam(discriminator.parameters(), lr=0.0002, betas=(0.4, 0.999))\n",
    "# disc_opt = torch.optim.SGD(discriminator.parameters(), lr=0.0004)\n",
    "gen_opt = torch.optim.Adam(generator.parameters(), lr=0.0002, betas=(0.7, 0.999))\n",
    "\n",
    "lr_scheduler = optim.lr_scheduler.MultiStepLR(\n",
    "    optimizer=disc_opt,\n",
    "    milestones=list(range(10000,500000, 10000)),\n",
    "    gamma=0.3,\n",
    "    verbose=False\n",
    ")"
   ]
  },
  {
   "cell_type": "code",
   "execution_count": 25,
   "metadata": {
    "id": "AZeEggm2bsRh"
   },
   "outputs": [
    {
     "name": "stdout",
     "output_type": "stream",
     "text": [
      "disc loss 1.3746058940887451\n",
      "gen loss 0.7040397524833679\n"
     ]
    },
    {
     "data": {
      "image/png": "[encoded data removed]",
      "text/plain": [
       "<Figure size 432x288 with 6 Axes>"
      ]
     },
     "metadata": {
      "needs_background": "light"
     },
     "output_type": "display_data"
    },
    {
     "data": {
      "image/png": "[encoded data removed]",
      "text/plain": [
       "<Figure size 432x288 with 1 Axes>"
      ]
     },
     "metadata": {
      "needs_background": "light"
     },
     "output_type": "display_data"
    },
    {
     "ename": "KeyboardInterrupt",
     "evalue": "",
     "output_type": "error",
     "traceback": [
      "\u001b[0;31m---------------------------------------------------------------------------\u001b[0m",
      "\u001b[0;31mKeyboardInterrupt\u001b[0m                         Traceback (most recent call last)",
      "\u001b[0;32m/tmp/ipykernel_27594/159362005.py\u001b[0m in \u001b[0;36m<module>\u001b[0;34m\u001b[0m\n\u001b[1;32m      8\u001b[0m     \u001b[0;32mfor\u001b[0m \u001b[0mi\u001b[0m \u001b[0;32min\u001b[0m \u001b[0mrange\u001b[0m\u001b[0;34m(\u001b[0m\u001b[0;36m5\u001b[0m\u001b[0;34m)\u001b[0m\u001b[0;34m:\u001b[0m\u001b[0;34m\u001b[0m\u001b[0;34m\u001b[0m\u001b[0m\n\u001b[1;32m      9\u001b[0m         \u001b[0mdiscriminator\u001b[0m\u001b[0;34m.\u001b[0m\u001b[0mzero_grad\u001b[0m\u001b[0;34m(\u001b[0m\u001b[0;34m)\u001b[0m\u001b[0;34m\u001b[0m\u001b[0;34m\u001b[0m\u001b[0m\n\u001b[0;32m---> 10\u001b[0;31m         \u001b[0mreal_data\u001b[0m \u001b[0;34m=\u001b[0m \u001b[0msample_data_batch\u001b[0m\u001b[0;34m(\u001b[0m\u001b[0mbatch_size\u001b[0m\u001b[0;34m)\u001b[0m\u001b[0;34m\u001b[0m\u001b[0;34m\u001b[0m\u001b[0m\n\u001b[0m\u001b[1;32m     11\u001b[0m         \u001b[0mfake_data\u001b[0m \u001b[0;34m=\u001b[0m \u001b[0mgenerator\u001b[0m\u001b[0;34m(\u001b[0m\u001b[0msample_noise_batch\u001b[0m\u001b[0;34m(\u001b[0m\u001b[0mbatch_size\u001b[0m\u001b[0;34m)\u001b[0m\u001b[0;34m)\u001b[0m\u001b[0;34m\u001b[0m\u001b[0;34m\u001b[0m\u001b[0m\n\u001b[1;32m     12\u001b[0m \u001b[0;34m\u001b[0m\u001b[0m\n",
      "\u001b[0;32m/tmp/ipykernel_27594/1793902344.py\u001b[0m in \u001b[0;36msample_data_batch\u001b[0;34m(batch_size)\u001b[0m\n\u001b[1;32m      2\u001b[0m     \u001b[0midxs\u001b[0m \u001b[0;34m=\u001b[0m \u001b[0mnp\u001b[0m\u001b[0;34m.\u001b[0m\u001b[0mrandom\u001b[0m\u001b[0;34m.\u001b[0m\u001b[0mchoice\u001b[0m\u001b[0;34m(\u001b[0m\u001b[0mnp\u001b[0m\u001b[0;34m.\u001b[0m\u001b[0marange\u001b[0m\u001b[0;34m(\u001b[0m\u001b[0mdata\u001b[0m\u001b[0;34m.\u001b[0m\u001b[0mshape\u001b[0m\u001b[0;34m[\u001b[0m\u001b[0;36m0\u001b[0m\u001b[0;34m]\u001b[0m\u001b[0;34m)\u001b[0m\u001b[0;34m,\u001b[0m \u001b[0msize\u001b[0m\u001b[0;34m=\u001b[0m\u001b[0mbatch_size\u001b[0m\u001b[0;34m)\u001b[0m\u001b[0;34m\u001b[0m\u001b[0;34m\u001b[0m\u001b[0m\n\u001b[1;32m      3\u001b[0m     \u001b[0mbatch\u001b[0m \u001b[0;34m=\u001b[0m \u001b[0mtorch\u001b[0m\u001b[0;34m.\u001b[0m\u001b[0mtensor\u001b[0m\u001b[0;34m(\u001b[0m\u001b[0mdata\u001b[0m\u001b[0;34m[\u001b[0m\u001b[0midxs\u001b[0m\u001b[0;34m]\u001b[0m\u001b[0;34m,\u001b[0m \u001b[0mdtype\u001b[0m\u001b[0;34m=\u001b[0m\u001b[0mtorch\u001b[0m\u001b[0;34m.\u001b[0m\u001b[0mfloat32\u001b[0m\u001b[0;34m)\u001b[0m\u001b[0;34m\u001b[0m\u001b[0;34m\u001b[0m\u001b[0m\n\u001b[0;32m----> 4\u001b[0;31m     \u001b[0;32mreturn\u001b[0m \u001b[0mbatch\u001b[0m\u001b[0;34m.\u001b[0m\u001b[0mcuda\u001b[0m\u001b[0;34m(\u001b[0m\u001b[0;34m)\u001b[0m \u001b[0;32mif\u001b[0m \u001b[0muse_cuda\u001b[0m \u001b[0;32melse\u001b[0m \u001b[0mbatch\u001b[0m\u001b[0;34m.\u001b[0m\u001b[0mcpu\u001b[0m\u001b[0;34m(\u001b[0m\u001b[0;34m)\u001b[0m\u001b[0;34m\u001b[0m\u001b[0;34m\u001b[0m\u001b[0m\n\u001b[0m",
      "\u001b[0;31mKeyboardInterrupt\u001b[0m: "
     ]
    }
   ],
   "source": [
    "from IPython import display\n",
    "from tqdm import tnrange\n",
    "batch_size = 100\n",
    "\n",
    "for epoch in tnrange(50000):\n",
    "    \n",
    "    # Train discriminator\n",
    "    for i in range(5):\n",
    "        discriminator.zero_grad()\n",
    "        real_data = sample_data_batch(batch_size)\n",
    "        fake_data = generator(sample_noise_batch(batch_size))\n",
    "        \n",
    "        loss_disc=discriminator_loss(real_data, fake_data)\n",
    "        disc_opt.zero_grad()\n",
    "        loss_disc.backward()\n",
    "        disc_opt.step()\n",
    "        \n",
    "        \n",
    "    # Train generator\n",
    "    noise = sample_noise_batch(batch_size)\n",
    "    loss = generator_loss(noise)\n",
    "    gen_opt.zero_grad()\n",
    "    loss.backward()\n",
    "    gen_opt.step()\n",
    "    lr_scheduler.step()\n",
    "    \n",
    "    if epoch % 100 == 0:\n",
    "        display.clear_output(wait=True)\n",
    "        print(f'disc loss {loss_disc.item()}')\n",
    "        print(f'gen loss {loss.item()}')\n",
    "        sample_images(2, 3, True)\n",
    "        sample_probas(1000, epoch=epoch)"
   ]
  },
  {
   "cell_type": "code",
   "execution_count": null,
   "metadata": {
    "id": "Agg9M4dtbsRi",
    "outputId": "15488a3a-1467-4d9e-9819-d72fda37984a"
   },
   "outputs": [],
   "source": [
    "#The network was trained for about 15k iterations.\n",
    "#Training for longer yields MUCH better results\n",
    "plt.figure(figsize=[16, 24])\n",
    "sample_images(16, 8)"
   ]
  },
  {
   "cell_type": "markdown",
   "metadata": {},
   "source": [
    "# Submit to Coursera"
   ]
  },
  {
   "cell_type": "code",
   "execution_count": null,
   "metadata": {},
   "outputs": [],
   "source": [
    "## GRADED PART, DO NOT CHANGE!\n",
    "# grader.set_answer(\"ryO01\", ans)"
   ]
  },
  {
   "cell_type": "code",
   "execution_count": null,
   "metadata": {},
   "outputs": [],
   "source": [
    "# grader.submit(COURSERA_EMAIL, COURSERA_TOKEN)"
   ]
  },
  {
   "cell_type": "code",
   "execution_count": null,
   "metadata": {},
   "outputs": [],
   "source": []
  }
 ],
 "metadata": {
  "accelerator": "GPU",
  "anaconda-cloud": {},
  "colab": {
   "collapsed_sections": [],
   "name": "week04_adversarial.ipynb",
   "provenance": []
  },
  "kernelspec": {
   "display_name": "Python 3 (ipykernel)",
   "language": "python",
   "name": "python3"
  },
  "language_info": {
   "codemirror_mode": {
    "name": "ipython",
    "version": 3
   },
   "file_extension": ".py",
   "mimetype": "text/x-python",
   "name": "python",
   "nbconvert_exporter": "python",
   "pygments_lexer": "ipython3",
   "version": "3.8.12"
  }
 },
 "nbformat": 4,
 "nbformat_minor": 4
}
